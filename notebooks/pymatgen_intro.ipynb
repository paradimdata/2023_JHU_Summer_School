{
 "cells": [
  {
   "cell_type": "markdown",
   "id": "c6c4245d-647d-44e1-b270-22135510d45f",
   "metadata": {},
   "source": [
    "## From: DOI 10.21981/8NFE-2F13 nanoHUB Tutorial on Machine Learning\n",
    "\n",
    "Before executing this code in an SciServer Essentials 3 Compute container you will need to open a terminal shell (from the JupyterLad Launcher) and:\n",
    "\n",
    "pip install pymatgen\n",
    "pip install mendeleev\n",
    "\n",
    "Then restart the Python kernel (in the Kernel menu above).\n",
    "\n",
    "You'll then want to create a small file called mysecrets.py in the directory and given the following contents with your nanoHUB info on the appropriate lines (the nanoHUB remote ReadMe file has links to create a nanoHUB  web app): \n",
    "\n",
    "auth_data = {\n",
    "    'client_id': 'your web apps client id',       # Get this when you register a web app\n",
    "    'client_secret': 'your web app secret key',   # Get this when you register a web app\n",
    "    'grant_type': 'password',\n",
    "    'username': 'your nanohub username',        # Get this when you create a nanoHUB account\n",
    "    'password': 'your nanohub password'         # Get this when you create a nanoHUB account\n",
    " }\n",
    " \n",
    "Note that you should do all this more securely using environmental variables should you continue to work with nanoHUB remotely! \n",
    "\n",
    "## *Querying, Organizing and Visualizing Materials Data*\n",
    "\n",
    "\n",
    "**Why?** Access to data associated with materials in electronic form enables engineers, scientists and\n",
    "students to explore this data, display it graphically, find trends and develop models.\n",
    "\n",
    "**What?** In this tutorial, we will learn how to query, organize and plot data from the databases associated with the Python libraries [Pymatgen](http://pymatgen.org/) and [Mendeleev](https://mendeleev.readthedocs.io/en/stable/). \n",
    "\n",
    "**How to use this?** This tutorial uses Python, some familiarity with programming would be beneficial but is not required. Run each code cell in order by clicking \"Shift + Enter\". Feel free to modify the code, or change queries to familiarize yourself with the workings on the code.\n",
    "\n",
    "\n",
    "Suggested modifications and exercises are included in <font color=blue> blue</font>.\n",
    "\n",
    "**Outline:**\n",
    "\n",
    "1. Query from Pymatgen\n",
    "2. Processing and Organizing Data\n",
    "3. Plotting\n",
    "4. Query from Mendeleev\n",
    "\n",
    "**Get started:** Click \"Shift-Enter\" on the code cells to run! "
   ]
  },
  {
   "cell_type": "code",
   "execution_count": 1,
   "id": "6a581e53-038f-42b1-beea-5a0a5c1e2624",
   "metadata": {
    "execution": {
     "iopub.execute_input": "2023-08-02T17:46:10.385600Z",
     "iopub.status.busy": "2023-08-02T17:46:10.384921Z",
     "iopub.status.idle": "2023-08-02T17:46:22.302593Z",
     "shell.execute_reply": "2023-08-02T17:46:22.300613Z",
     "shell.execute_reply.started": "2023-08-02T17:46:10.385405Z"
    },
    "tags": []
   },
   "outputs": [],
   "source": [
    "# These lines import both libraries and then define an array with elements to be used below\n",
    "# You'll need to install pymatgen and mendeleev (use conda or pip)\n",
    "\n",
    "import pymatgen.core as pymat\n",
    "import mendeleev as mendel\n",
    "import pandas as pd\n",
    "\n",
    "elements = ['H', 'He', 'Li', 'Be', 'B', 'C', 'N', 'O', 'F', 'Ne', 'Na', 'Mg',\n",
    "            'Al', 'Si', 'P', 'S', 'Cl', 'Ar', 'K', 'Ca', 'Sc', 'Ti', 'V', 'Cr',\n",
    "            'Mn', 'Fe', 'Co', 'Ni', 'Cu', 'Zn', 'Ga', 'Ge', 'As', 'Se', 'Br',\n",
    "            'Kr', 'Rb', 'Sr', 'Y', 'Zr', 'Nb', 'Mo', 'Tc', 'Ru', 'Rh', 'Pd', 'Ag',\n",
    "            'Cd', 'In', 'Sn', 'Sb', 'Te', 'I', 'Xe', 'Cs', 'Ba', 'Hf', 'Ta', 'W',\n",
    "            'Re', 'Os', 'Ir', 'Pt', 'Au', 'Hg', 'Tl', 'Pb', 'Bi', 'La', 'Ce', 'Pr',\n",
    "            'Nd', 'Pm', 'Sm', 'Eu', 'Gd', 'Tb', 'Dy', 'Ho', 'Er', 'Tm', 'Yb', 'Lu',\n",
    "            'Ac', 'Th', 'Pa', 'U', 'Np', 'Pu']"
   ]
  },
  {
   "cell_type": "markdown",
   "id": "b783f742-565a-46d5-ad00-0e7e676e7566",
   "metadata": {},
   "source": [
    "### 1. Query from Pymatgen\n",
    "\n",
    "Pymatgen is an open-source library in python used for material analysis. Pymatgen is a powerful and popular resource that can be used to access data in the two repositories: the [Materials Project](https://materialsproject.org/) and the [Crystallography Open Database](http://www.crystallography.net/cod/). Pymatgen makes querying these resources and obtain data from its internal database easy. We will start by querying the database within the library by using the **Element** class.\n",
    "\n",
    "Making a query in Pymatgen requires the chemical symbol of the element, which are all listed in the cell above. From there, the property is accessible as an attribute of that Element object. For a list of all the properties available click [here](http://pymatgen.org/pymatgen.core.periodic_table.html?pymatgen.core.periodic_table.Specie.element) to learn more about the Element class.\n",
    "\n",
    "In this example we will query the Young's modulus for the elements in the list \"sample\". You will be able to see the values with the corresponding units for this quantity. You can use the commented code to query all the properties listed for the \"sample\" elements."
   ]
  },
  {
   "cell_type": "code",
   "execution_count": 2,
   "id": "c76c829b-247d-4d9f-acd7-615262dfbdce",
   "metadata": {
    "execution": {
     "iopub.execute_input": "2023-08-02T17:46:22.306149Z",
     "iopub.status.busy": "2023-08-02T17:46:22.305721Z",
     "iopub.status.idle": "2023-08-02T17:46:22.323881Z",
     "shell.execute_reply": "2023-08-02T17:46:22.321516Z",
     "shell.execute_reply.started": "2023-08-02T17:46:22.306087Z"
    },
    "tags": []
   },
   "outputs": [
    {
     "name": "stdout",
     "output_type": "stream",
     "text": [
      "Fe 211.0 GPa\n",
      "Co 209.0 GPa\n",
      "Ni 200.0 GPa\n",
      "Cu 130.0 GPa\n",
      "Zn 108.0 GPa\n"
     ]
    }
   ],
   "source": [
    "querable_pymatgen = [\"atomic_mass\", \"poissons_ratio\",\"atomic_radius\", \"electrical_resistivity\",\"molar_volume\",\"thermal_conductivity\", \"bulk_modulus\", \"youngs_modulus\", \n",
    "                    \"brinell_hardness\", \"average_ionic_radius\", \"melting_point\", \"rigidity_modulus\", \"density_of_solid\",\"coefficient_of_linear_thermal_expansion\"]\n",
    "\n",
    "sample = ['Fe', 'Co', 'Ni', 'Cu', 'Zn']\n",
    "\n",
    "for item in sample:\n",
    "    element_object = pymat.periodic_table.Element(item)\n",
    "    print(item, element_object.youngs_modulus) # You can change \"youngs_modulus\" to any of the properties in the querable_pymatgen list\n",
    "    \n",
    "#for item in sample:\n",
    "#    for i in querable_pymatgen:\n",
    "#        element_object = pymat.Element(item)\n",
    "#        print(item, i, getattr(element_object,i))"
   ]
  },
  {
   "cell_type": "markdown",
   "id": "1fafda6a-d08e-4193-85be-96df15ddae11",
   "metadata": {},
   "source": [
    " * <font color=blue> **Exercise 1.** Modify the query above to extract Brinell hardness. </font>\n",
    " * <font color=blue> **Exercise 2.** Uncomment the lines above to see all the properties of the selected elements. </font>\n",
    " \n",
    " Remember: \"Shift-Enter\" to re-run the cell.\n",
    " "
   ]
  },
  {
   "cell_type": "markdown",
   "id": "1117087e-a65f-4d3a-8166-122d44fa8678",
   "metadata": {},
   "source": [
    "### 2. Processing and Organizing Data\n",
    "\n",
    "After going through the basics of a query, we will now learn how to organize data in Python lists and dictionaries.\n",
    "\n",
    "Entries in a dictionary have a name (in our case, the element) and attributes associated with it. Dictonaries can be useful to store a collection of data values from a particular element. In this example, we will create one to store some of the properties for Iron, using queries from both of the libraries we discussed. Note that the specific heat is obtained from Mendeleev, which is another database to access properties of elements."
   ]
  },
  {
   "cell_type": "code",
   "execution_count": 3,
   "id": "e3cbacfe-b954-4df0-86cf-568447c7beb9",
   "metadata": {
    "execution": {
     "iopub.execute_input": "2023-08-02T17:46:22.326618Z",
     "iopub.status.busy": "2023-08-02T17:46:22.326188Z",
     "iopub.status.idle": "2023-08-02T17:46:22.824495Z",
     "shell.execute_reply": "2023-08-02T17:46:22.822686Z",
     "shell.execute_reply.started": "2023-08-02T17:46:22.326518Z"
    }
   },
   "outputs": [
    {
     "name": "stdout",
     "output_type": "stream",
     "text": [
      "{'atomic_number': 26, 'coefficient_of_linear_thermal_expansion': 1.18e-05, 'youngs_modulus': 211.0, 'specific_heat': 0.449}\n",
      "0.449\n"
     ]
    }
   ],
   "source": [
    "Fe_data = {} # Initializing a dictionary\n",
    "\n",
    "# Each of the following lines is making a single entry\n",
    "\n",
    "Fe_data[\"atomic_number\"] = mendel.element(\"Fe\").atomic_number \n",
    "Fe_data[\"coefficient_of_linear_thermal_expansion\"] = pymat.Element(\"Fe\").coefficient_of_linear_thermal_expansion\n",
    "Fe_data[\"youngs_modulus\"] = pymat.Element(\"Fe\").youngs_modulus\n",
    "Fe_data[\"specific_heat\"] = mendel.element(\"Fe\").specific_heat\n",
    "\n",
    "#Print the entire entry for Fe\n",
    "print(Fe_data)\n",
    "\n",
    "#Print a specific attribute:\n",
    "print(Fe_data[\"specific_heat\"])\n",
    "\n",
    "# This line is to delete an entry\n",
    "    # del Fe_data[\"atomic_number\"]"
   ]
  },
  {
   "cell_type": "markdown",
   "id": "ee5587e5-c577-42d7-ac58-0f872e1845e8",
   "metadata": {},
   "source": [
    "Another way we can organize data is in lists, which can be very helpful if we want to create plots with our data. Following the examples above, we will now query two specific properties for all elements to get a list of values which will be indexed corresponding to the positions of the elements in the \"elements\" list in the first cell of the tutorial."
   ]
  },
  {
   "cell_type": "code",
   "execution_count": 4,
   "id": "8c40e312-1a17-465a-bcaf-a6bb5981e07a",
   "metadata": {
    "execution": {
     "iopub.execute_input": "2023-08-02T17:46:22.829337Z",
     "iopub.status.busy": "2023-08-02T17:46:22.828900Z",
     "iopub.status.idle": "2023-08-02T17:46:22.899936Z",
     "shell.execute_reply": "2023-08-02T17:46:22.897989Z",
     "shell.execute_reply.started": "2023-08-02T17:46:22.829289Z"
    }
   },
   "outputs": [],
   "source": [
    "sample = elements.copy()\n",
    "\n",
    "CTE = [] # In this list we will store the Coefficients of Thermal Expansion\n",
    "youngs_modulus = [] # In this list we will store the Young's Moduli\n",
    "melting_temperature = [] # In this list we will store the Melting Temperatures\n",
    "\n",
    "for item in sample:\n",
    "    CTE.append(pymat.Element(item).coefficient_of_linear_thermal_expansion)\n",
    "    youngs_modulus.append(pymat.Element(item).youngs_modulus)\n",
    "    melting_temperature.append(pymat.Element(item).melting_point)\n",
    "\n",
    "# You can visualize the lists by uncommenting these print statements\n",
    "#print(CTE)\n",
    "#print(youngs_modulus)\n",
    "#print(melting_temperature)\n",
    "\n",
    "# We will use the following arrays to group elements by their crystal structure at RT, all elements that are gases and liquids at RT have been removed\n",
    "\n",
    "fcc_elements = [\"Ag\", \"Al\", \"Au\", \"Cu\", \"Ir\", \"Ni\", \"Pb\", \"Pd\", \"Pt\", \"Rh\", \"Sr\", \"Th\", \"Yb\"]\n",
    "bcc_elements = [\"Ba\", \"Cr\", \"Cs\", \"Eu\", \"Fe\", \"K\", \"Li\", \"Mn\", \"Mo\", \"Na\", \"Nb\", \"P\", \"Rb\", \"Ta\", \"V\", \"W\" ]\n",
    "hcp_elements = [\"Be\", \"Ca\", \"Cd\", \"Co\", \"Dy\", \"Er\", \"Gd\", \"Hf\", \"Ho\", \"Lu\", \"Mg\", \"Os\", \"Re\", \"Ru\", \"Sc\", \"Tb\", \"Tc\",\"Ti\", \"Tl\", \"Tm\", \"Y\", \"Zn\", \"Zr\"]\n",
    "\n",
    "# Others (Solids): \"B\", \"Sb\", \"Sm\", \"Bi\" and \"As\" are Rhombohedral; \"C\" , \"Ce\" and \"Sn\" are Allotropic; \"Si\" and \"Ge\" are Face-centered diamond-cubic; \"Pu\" is Monoclinic;\n",
    "#                  \"S\", \"I\", \"U\", \"Np\" and \"Ga\" are Orthorhombic; \"Se\" and \"Te\" Hexagonal; \"In\" and \"Pa\" are Tetragonal; \"la\", \"Pr\", \"Nd\", \"Pm\" are Double hexagonal close-packed;"
   ]
  },
  {
   "cell_type": "markdown",
   "id": "9c53d6ee-a865-4ddf-bd37-09c929585ea5",
   "metadata": {},
   "source": [
    "Finally, the most efficient way we to visualize how the dataset we just created looks is to use the [Pandas](https://pandas.pydata.org/) library to display it. This library will take the list of lists and show it in a nice, user-friendly table with the properties as the column headers.\n",
    "\n",
    "For this exercise, we will work with the data extracted for elements with the <b>FCC crystal structure</b>. \n",
    "\n",
    "First, we will create a list of lists using a for-loop and the values we can query from the Pymatgen library. We can specify the names for each column from our array of properties we queried. "
   ]
  },
  {
   "cell_type": "code",
   "execution_count": 5,
   "id": "1af0b82f-dcad-4f29-a54b-9c6fb614f65c",
   "metadata": {
    "execution": {
     "iopub.execute_input": "2023-08-02T17:46:22.902577Z",
     "iopub.status.busy": "2023-08-02T17:46:22.902032Z",
     "iopub.status.idle": "2023-08-02T17:46:23.013053Z",
     "shell.execute_reply": "2023-08-02T17:46:23.011035Z",
     "shell.execute_reply.started": "2023-08-02T17:46:22.902469Z"
    }
   },
   "outputs": [
    {
     "data": {
      "text/html": [
       "<div>\n",
       "<style scoped>\n",
       "    .dataframe tbody tr th:only-of-type {\n",
       "        vertical-align: middle;\n",
       "    }\n",
       "\n",
       "    .dataframe tbody tr th {\n",
       "        vertical-align: top;\n",
       "    }\n",
       "\n",
       "    .dataframe thead th {\n",
       "        text-align: right;\n",
       "    }\n",
       "</style>\n",
       "<table border=\"1\" class=\"dataframe\">\n",
       "  <thead>\n",
       "    <tr style=\"text-align: right;\">\n",
       "      <th></th>\n",
       "      <th>atomic_mass</th>\n",
       "      <th>poissons_ratio</th>\n",
       "      <th>atomic_radius</th>\n",
       "      <th>electrical_resistivity</th>\n",
       "      <th>molar_volume</th>\n",
       "      <th>thermal_conductivity</th>\n",
       "      <th>bulk_modulus</th>\n",
       "      <th>youngs_modulus</th>\n",
       "      <th>brinell_hardness</th>\n",
       "      <th>average_ionic_radius</th>\n",
       "      <th>melting_point</th>\n",
       "      <th>rigidity_modulus</th>\n",
       "      <th>density_of_solid</th>\n",
       "      <th>coefficient_of_linear_thermal_expansion</th>\n",
       "    </tr>\n",
       "  </thead>\n",
       "  <tbody>\n",
       "    <tr>\n",
       "      <th>0</th>\n",
       "      <td>107.868200</td>\n",
       "      <td>0.37</td>\n",
       "      <td>1.60</td>\n",
       "      <td>1.630000e-08</td>\n",
       "      <td>10.27</td>\n",
       "      <td>430.0</td>\n",
       "      <td>100.0</td>\n",
       "      <td>83.0</td>\n",
       "      <td>24.5</td>\n",
       "      <td>1.086667</td>\n",
       "      <td>1234.93</td>\n",
       "      <td>30.0</td>\n",
       "      <td>10490.0</td>\n",
       "      <td>0.000019</td>\n",
       "    </tr>\n",
       "    <tr>\n",
       "      <th>1</th>\n",
       "      <td>26.981539</td>\n",
       "      <td>0.35</td>\n",
       "      <td>1.25</td>\n",
       "      <td>2.700000e-08</td>\n",
       "      <td>10.00</td>\n",
       "      <td>235.0</td>\n",
       "      <td>76.0</td>\n",
       "      <td>70.0</td>\n",
       "      <td>245.0</td>\n",
       "      <td>0.675000</td>\n",
       "      <td>933.47</td>\n",
       "      <td>26.0</td>\n",
       "      <td>2700.0</td>\n",
       "      <td>0.000023</td>\n",
       "    </tr>\n",
       "    <tr>\n",
       "      <th>2</th>\n",
       "      <td>196.966569</td>\n",
       "      <td>0.44</td>\n",
       "      <td>1.35</td>\n",
       "      <td>2.200000e-08</td>\n",
       "      <td>10.21</td>\n",
       "      <td>320.0</td>\n",
       "      <td>220.0</td>\n",
       "      <td>78.0</td>\n",
       "      <td>2450.0</td>\n",
       "      <td>1.070000</td>\n",
       "      <td>1337.33</td>\n",
       "      <td>27.0</td>\n",
       "      <td>19300.0</td>\n",
       "      <td>0.000014</td>\n",
       "    </tr>\n",
       "    <tr>\n",
       "      <th>3</th>\n",
       "      <td>63.546000</td>\n",
       "      <td>0.34</td>\n",
       "      <td>1.35</td>\n",
       "      <td>1.720000e-08</td>\n",
       "      <td>7.11</td>\n",
       "      <td>400.0</td>\n",
       "      <td>140.0</td>\n",
       "      <td>130.0</td>\n",
       "      <td>874.0</td>\n",
       "      <td>0.820000</td>\n",
       "      <td>1357.77</td>\n",
       "      <td>48.0</td>\n",
       "      <td>8920.0</td>\n",
       "      <td>0.000017</td>\n",
       "    </tr>\n",
       "    <tr>\n",
       "      <th>4</th>\n",
       "      <td>192.217000</td>\n",
       "      <td>0.26</td>\n",
       "      <td>1.35</td>\n",
       "      <td>4.700000e-08</td>\n",
       "      <td>8.52</td>\n",
       "      <td>150.0</td>\n",
       "      <td>320.0</td>\n",
       "      <td>528.0</td>\n",
       "      <td>1670.0</td>\n",
       "      <td>0.765000</td>\n",
       "      <td>2739.00</td>\n",
       "      <td>210.0</td>\n",
       "      <td>22650.0</td>\n",
       "      <td>0.000006</td>\n",
       "    </tr>\n",
       "    <tr>\n",
       "      <th>5</th>\n",
       "      <td>58.693400</td>\n",
       "      <td>0.31</td>\n",
       "      <td>1.35</td>\n",
       "      <td>7.200000e-08</td>\n",
       "      <td>6.59</td>\n",
       "      <td>91.0</td>\n",
       "      <td>180.0</td>\n",
       "      <td>200.0</td>\n",
       "      <td>700.0</td>\n",
       "      <td>0.740000</td>\n",
       "      <td>1728.00</td>\n",
       "      <td>76.0</td>\n",
       "      <td>8908.0</td>\n",
       "      <td>0.000013</td>\n",
       "    </tr>\n",
       "    <tr>\n",
       "      <th>6</th>\n",
       "      <td>207.200000</td>\n",
       "      <td>0.44</td>\n",
       "      <td>1.80</td>\n",
       "      <td>2.100000e-07</td>\n",
       "      <td>18.26</td>\n",
       "      <td>35.0</td>\n",
       "      <td>46.0</td>\n",
       "      <td>16.0</td>\n",
       "      <td>38.3</td>\n",
       "      <td>1.122500</td>\n",
       "      <td>600.61</td>\n",
       "      <td>5.6</td>\n",
       "      <td>11340.0</td>\n",
       "      <td>0.000029</td>\n",
       "    </tr>\n",
       "    <tr>\n",
       "      <th>7</th>\n",
       "      <td>106.420000</td>\n",
       "      <td>0.39</td>\n",
       "      <td>1.40</td>\n",
       "      <td>1.080000e-07</td>\n",
       "      <td>8.56</td>\n",
       "      <td>72.0</td>\n",
       "      <td>180.0</td>\n",
       "      <td>121.0</td>\n",
       "      <td>37.3</td>\n",
       "      <td>0.846250</td>\n",
       "      <td>1828.05</td>\n",
       "      <td>44.0</td>\n",
       "      <td>12023.0</td>\n",
       "      <td>0.000012</td>\n",
       "    </tr>\n",
       "    <tr>\n",
       "      <th>8</th>\n",
       "      <td>195.084000</td>\n",
       "      <td>0.38</td>\n",
       "      <td>1.35</td>\n",
       "      <td>1.060000e-07</td>\n",
       "      <td>9.09</td>\n",
       "      <td>72.0</td>\n",
       "      <td>230.0</td>\n",
       "      <td>168.0</td>\n",
       "      <td>392.0</td>\n",
       "      <td>0.805000</td>\n",
       "      <td>2041.40</td>\n",
       "      <td>61.0</td>\n",
       "      <td>21090.0</td>\n",
       "      <td>0.000009</td>\n",
       "    </tr>\n",
       "    <tr>\n",
       "      <th>9</th>\n",
       "      <td>102.905500</td>\n",
       "      <td>0.26</td>\n",
       "      <td>1.35</td>\n",
       "      <td>4.300000e-08</td>\n",
       "      <td>8.28</td>\n",
       "      <td>150.0</td>\n",
       "      <td>380.0</td>\n",
       "      <td>275.0</td>\n",
       "      <td>1100.0</td>\n",
       "      <td>0.745000</td>\n",
       "      <td>2237.00</td>\n",
       "      <td>150.0</td>\n",
       "      <td>12450.0</td>\n",
       "      <td>0.000008</td>\n",
       "    </tr>\n",
       "    <tr>\n",
       "      <th>10</th>\n",
       "      <td>87.620000</td>\n",
       "      <td>0.28</td>\n",
       "      <td>2.00</td>\n",
       "      <td>1.350000e-07</td>\n",
       "      <td>33.94</td>\n",
       "      <td>35.0</td>\n",
       "      <td>NaN</td>\n",
       "      <td>NaN</td>\n",
       "      <td>NaN</td>\n",
       "      <td>1.320000</td>\n",
       "      <td>1050.00</td>\n",
       "      <td>6.1</td>\n",
       "      <td>2630.0</td>\n",
       "      <td>0.000023</td>\n",
       "    </tr>\n",
       "    <tr>\n",
       "      <th>11</th>\n",
       "      <td>232.038060</td>\n",
       "      <td>0.27</td>\n",
       "      <td>1.80</td>\n",
       "      <td>1.500000e-07</td>\n",
       "      <td>19.80</td>\n",
       "      <td>54.0</td>\n",
       "      <td>54.0</td>\n",
       "      <td>79.0</td>\n",
       "      <td>400.0</td>\n",
       "      <td>1.080000</td>\n",
       "      <td>2115.00</td>\n",
       "      <td>31.0</td>\n",
       "      <td>11724.0</td>\n",
       "      <td>0.000011</td>\n",
       "    </tr>\n",
       "    <tr>\n",
       "      <th>12</th>\n",
       "      <td>173.040000</td>\n",
       "      <td>0.21</td>\n",
       "      <td>1.75</td>\n",
       "      <td>2.500000e-07</td>\n",
       "      <td>24.84</td>\n",
       "      <td>39.0</td>\n",
       "      <td>31.0</td>\n",
       "      <td>24.0</td>\n",
       "      <td>343.0</td>\n",
       "      <td>1.084000</td>\n",
       "      <td>1097.00</td>\n",
       "      <td>9.9</td>\n",
       "      <td>6570.0</td>\n",
       "      <td>0.000026</td>\n",
       "    </tr>\n",
       "  </tbody>\n",
       "</table>\n",
       "</div>"
      ],
      "text/plain": [
       "    atomic_mass  poissons_ratio  atomic_radius  electrical_resistivity  \\\n",
       "0    107.868200            0.37           1.60            1.630000e-08   \n",
       "1     26.981539            0.35           1.25            2.700000e-08   \n",
       "2    196.966569            0.44           1.35            2.200000e-08   \n",
       "3     63.546000            0.34           1.35            1.720000e-08   \n",
       "4    192.217000            0.26           1.35            4.700000e-08   \n",
       "5     58.693400            0.31           1.35            7.200000e-08   \n",
       "6    207.200000            0.44           1.80            2.100000e-07   \n",
       "7    106.420000            0.39           1.40            1.080000e-07   \n",
       "8    195.084000            0.38           1.35            1.060000e-07   \n",
       "9    102.905500            0.26           1.35            4.300000e-08   \n",
       "10    87.620000            0.28           2.00            1.350000e-07   \n",
       "11   232.038060            0.27           1.80            1.500000e-07   \n",
       "12   173.040000            0.21           1.75            2.500000e-07   \n",
       "\n",
       "    molar_volume  thermal_conductivity  bulk_modulus  youngs_modulus  \\\n",
       "0          10.27                 430.0         100.0            83.0   \n",
       "1          10.00                 235.0          76.0            70.0   \n",
       "2          10.21                 320.0         220.0            78.0   \n",
       "3           7.11                 400.0         140.0           130.0   \n",
       "4           8.52                 150.0         320.0           528.0   \n",
       "5           6.59                  91.0         180.0           200.0   \n",
       "6          18.26                  35.0          46.0            16.0   \n",
       "7           8.56                  72.0         180.0           121.0   \n",
       "8           9.09                  72.0         230.0           168.0   \n",
       "9           8.28                 150.0         380.0           275.0   \n",
       "10         33.94                  35.0           NaN             NaN   \n",
       "11         19.80                  54.0          54.0            79.0   \n",
       "12         24.84                  39.0          31.0            24.0   \n",
       "\n",
       "    brinell_hardness  average_ionic_radius  melting_point  rigidity_modulus  \\\n",
       "0               24.5              1.086667        1234.93              30.0   \n",
       "1              245.0              0.675000         933.47              26.0   \n",
       "2             2450.0              1.070000        1337.33              27.0   \n",
       "3              874.0              0.820000        1357.77              48.0   \n",
       "4             1670.0              0.765000        2739.00             210.0   \n",
       "5              700.0              0.740000        1728.00              76.0   \n",
       "6               38.3              1.122500         600.61               5.6   \n",
       "7               37.3              0.846250        1828.05              44.0   \n",
       "8              392.0              0.805000        2041.40              61.0   \n",
       "9             1100.0              0.745000        2237.00             150.0   \n",
       "10               NaN              1.320000        1050.00               6.1   \n",
       "11             400.0              1.080000        2115.00              31.0   \n",
       "12             343.0              1.084000        1097.00               9.9   \n",
       "\n",
       "    density_of_solid  coefficient_of_linear_thermal_expansion  \n",
       "0            10490.0                                 0.000019  \n",
       "1             2700.0                                 0.000023  \n",
       "2            19300.0                                 0.000014  \n",
       "3             8920.0                                 0.000017  \n",
       "4            22650.0                                 0.000006  \n",
       "5             8908.0                                 0.000013  \n",
       "6            11340.0                                 0.000029  \n",
       "7            12023.0                                 0.000012  \n",
       "8            21090.0                                 0.000009  \n",
       "9            12450.0                                 0.000008  \n",
       "10            2630.0                                 0.000023  \n",
       "11           11724.0                                 0.000011  \n",
       "12            6570.0                                 0.000026  "
      ]
     },
     "metadata": {},
     "output_type": "display_data"
    }
   ],
   "source": [
    "all_values = [] # Values for Attributes\n",
    "\n",
    "for item in fcc_elements:\n",
    "    element_values = []\n",
    "\n",
    "    element_object = pymat.Element(item)    \n",
    "    for i in querable_pymatgen:\n",
    "        element_values.append(getattr(element_object,i))\n",
    "        \n",
    "    all_values.append(element_values) # All lists are appended to another list, creating a list of lists\n",
    "    \n",
    "# Pandas Dataframe\n",
    "df = pd.DataFrame(all_values, columns=querable_pymatgen)\n",
    "display(df)"
   ]
  },
  {
   "cell_type": "markdown",
   "id": "18abd000-22bf-4f9f-94af-66923a4c4f60",
   "metadata": {
    "execution": {
     "iopub.execute_input": "2023-07-31T02:55:22.389516Z",
     "iopub.status.busy": "2023-07-31T02:55:22.388415Z",
     "iopub.status.idle": "2023-07-31T02:55:22.401900Z",
     "shell.execute_reply": "2023-07-31T02:55:22.399836Z",
     "shell.execute_reply.started": "2023-07-31T02:55:22.389460Z"
    }
   },
   "source": [
    "Pandas allows for easier manipulation of the data than the structures we discussed before, both dictionaries and lists of lists.\n",
    "We can make modifications to this dataframe in each of the following cells, to showcase the flexibility the Pandas library offers.\n",
    "\n",
    "To make this dataframe look better for example, we can start by using the list of elements instead of numbered rows."
   ]
  },
  {
   "cell_type": "code",
   "execution_count": 6,
   "id": "92557ecd-700c-4258-abf8-283e53242563",
   "metadata": {
    "execution": {
     "iopub.execute_input": "2023-08-02T17:46:23.015703Z",
     "iopub.status.busy": "2023-08-02T17:46:23.015264Z",
     "iopub.status.idle": "2023-08-02T17:46:23.075323Z",
     "shell.execute_reply": "2023-08-02T17:46:23.073724Z",
     "shell.execute_reply.started": "2023-08-02T17:46:23.015654Z"
    }
   },
   "outputs": [
    {
     "data": {
      "text/html": [
       "<div>\n",
       "<style scoped>\n",
       "    .dataframe tbody tr th:only-of-type {\n",
       "        vertical-align: middle;\n",
       "    }\n",
       "\n",
       "    .dataframe tbody tr th {\n",
       "        vertical-align: top;\n",
       "    }\n",
       "\n",
       "    .dataframe thead th {\n",
       "        text-align: right;\n",
       "    }\n",
       "</style>\n",
       "<table border=\"1\" class=\"dataframe\">\n",
       "  <thead>\n",
       "    <tr style=\"text-align: right;\">\n",
       "      <th></th>\n",
       "      <th>atomic_mass</th>\n",
       "      <th>poissons_ratio</th>\n",
       "      <th>atomic_radius</th>\n",
       "      <th>electrical_resistivity</th>\n",
       "      <th>molar_volume</th>\n",
       "      <th>thermal_conductivity</th>\n",
       "      <th>bulk_modulus</th>\n",
       "      <th>youngs_modulus</th>\n",
       "      <th>brinell_hardness</th>\n",
       "      <th>average_ionic_radius</th>\n",
       "      <th>melting_point</th>\n",
       "      <th>rigidity_modulus</th>\n",
       "      <th>density_of_solid</th>\n",
       "      <th>coefficient_of_linear_thermal_expansion</th>\n",
       "    </tr>\n",
       "  </thead>\n",
       "  <tbody>\n",
       "    <tr>\n",
       "      <th>Ag</th>\n",
       "      <td>107.868200</td>\n",
       "      <td>0.37</td>\n",
       "      <td>1.60</td>\n",
       "      <td>1.630000e-08</td>\n",
       "      <td>10.27</td>\n",
       "      <td>430.0</td>\n",
       "      <td>100.0</td>\n",
       "      <td>83.0</td>\n",
       "      <td>24.5</td>\n",
       "      <td>1.086667</td>\n",
       "      <td>1234.93</td>\n",
       "      <td>30.0</td>\n",
       "      <td>10490.0</td>\n",
       "      <td>0.000019</td>\n",
       "    </tr>\n",
       "    <tr>\n",
       "      <th>Al</th>\n",
       "      <td>26.981539</td>\n",
       "      <td>0.35</td>\n",
       "      <td>1.25</td>\n",
       "      <td>2.700000e-08</td>\n",
       "      <td>10.00</td>\n",
       "      <td>235.0</td>\n",
       "      <td>76.0</td>\n",
       "      <td>70.0</td>\n",
       "      <td>245.0</td>\n",
       "      <td>0.675000</td>\n",
       "      <td>933.47</td>\n",
       "      <td>26.0</td>\n",
       "      <td>2700.0</td>\n",
       "      <td>0.000023</td>\n",
       "    </tr>\n",
       "    <tr>\n",
       "      <th>Au</th>\n",
       "      <td>196.966569</td>\n",
       "      <td>0.44</td>\n",
       "      <td>1.35</td>\n",
       "      <td>2.200000e-08</td>\n",
       "      <td>10.21</td>\n",
       "      <td>320.0</td>\n",
       "      <td>220.0</td>\n",
       "      <td>78.0</td>\n",
       "      <td>2450.0</td>\n",
       "      <td>1.070000</td>\n",
       "      <td>1337.33</td>\n",
       "      <td>27.0</td>\n",
       "      <td>19300.0</td>\n",
       "      <td>0.000014</td>\n",
       "    </tr>\n",
       "    <tr>\n",
       "      <th>Cu</th>\n",
       "      <td>63.546000</td>\n",
       "      <td>0.34</td>\n",
       "      <td>1.35</td>\n",
       "      <td>1.720000e-08</td>\n",
       "      <td>7.11</td>\n",
       "      <td>400.0</td>\n",
       "      <td>140.0</td>\n",
       "      <td>130.0</td>\n",
       "      <td>874.0</td>\n",
       "      <td>0.820000</td>\n",
       "      <td>1357.77</td>\n",
       "      <td>48.0</td>\n",
       "      <td>8920.0</td>\n",
       "      <td>0.000017</td>\n",
       "    </tr>\n",
       "    <tr>\n",
       "      <th>Ir</th>\n",
       "      <td>192.217000</td>\n",
       "      <td>0.26</td>\n",
       "      <td>1.35</td>\n",
       "      <td>4.700000e-08</td>\n",
       "      <td>8.52</td>\n",
       "      <td>150.0</td>\n",
       "      <td>320.0</td>\n",
       "      <td>528.0</td>\n",
       "      <td>1670.0</td>\n",
       "      <td>0.765000</td>\n",
       "      <td>2739.00</td>\n",
       "      <td>210.0</td>\n",
       "      <td>22650.0</td>\n",
       "      <td>0.000006</td>\n",
       "    </tr>\n",
       "    <tr>\n",
       "      <th>Ni</th>\n",
       "      <td>58.693400</td>\n",
       "      <td>0.31</td>\n",
       "      <td>1.35</td>\n",
       "      <td>7.200000e-08</td>\n",
       "      <td>6.59</td>\n",
       "      <td>91.0</td>\n",
       "      <td>180.0</td>\n",
       "      <td>200.0</td>\n",
       "      <td>700.0</td>\n",
       "      <td>0.740000</td>\n",
       "      <td>1728.00</td>\n",
       "      <td>76.0</td>\n",
       "      <td>8908.0</td>\n",
       "      <td>0.000013</td>\n",
       "    </tr>\n",
       "    <tr>\n",
       "      <th>Pb</th>\n",
       "      <td>207.200000</td>\n",
       "      <td>0.44</td>\n",
       "      <td>1.80</td>\n",
       "      <td>2.100000e-07</td>\n",
       "      <td>18.26</td>\n",
       "      <td>35.0</td>\n",
       "      <td>46.0</td>\n",
       "      <td>16.0</td>\n",
       "      <td>38.3</td>\n",
       "      <td>1.122500</td>\n",
       "      <td>600.61</td>\n",
       "      <td>5.6</td>\n",
       "      <td>11340.0</td>\n",
       "      <td>0.000029</td>\n",
       "    </tr>\n",
       "    <tr>\n",
       "      <th>Pd</th>\n",
       "      <td>106.420000</td>\n",
       "      <td>0.39</td>\n",
       "      <td>1.40</td>\n",
       "      <td>1.080000e-07</td>\n",
       "      <td>8.56</td>\n",
       "      <td>72.0</td>\n",
       "      <td>180.0</td>\n",
       "      <td>121.0</td>\n",
       "      <td>37.3</td>\n",
       "      <td>0.846250</td>\n",
       "      <td>1828.05</td>\n",
       "      <td>44.0</td>\n",
       "      <td>12023.0</td>\n",
       "      <td>0.000012</td>\n",
       "    </tr>\n",
       "    <tr>\n",
       "      <th>Pt</th>\n",
       "      <td>195.084000</td>\n",
       "      <td>0.38</td>\n",
       "      <td>1.35</td>\n",
       "      <td>1.060000e-07</td>\n",
       "      <td>9.09</td>\n",
       "      <td>72.0</td>\n",
       "      <td>230.0</td>\n",
       "      <td>168.0</td>\n",
       "      <td>392.0</td>\n",
       "      <td>0.805000</td>\n",
       "      <td>2041.40</td>\n",
       "      <td>61.0</td>\n",
       "      <td>21090.0</td>\n",
       "      <td>0.000009</td>\n",
       "    </tr>\n",
       "    <tr>\n",
       "      <th>Rh</th>\n",
       "      <td>102.905500</td>\n",
       "      <td>0.26</td>\n",
       "      <td>1.35</td>\n",
       "      <td>4.300000e-08</td>\n",
       "      <td>8.28</td>\n",
       "      <td>150.0</td>\n",
       "      <td>380.0</td>\n",
       "      <td>275.0</td>\n",
       "      <td>1100.0</td>\n",
       "      <td>0.745000</td>\n",
       "      <td>2237.00</td>\n",
       "      <td>150.0</td>\n",
       "      <td>12450.0</td>\n",
       "      <td>0.000008</td>\n",
       "    </tr>\n",
       "    <tr>\n",
       "      <th>Sr</th>\n",
       "      <td>87.620000</td>\n",
       "      <td>0.28</td>\n",
       "      <td>2.00</td>\n",
       "      <td>1.350000e-07</td>\n",
       "      <td>33.94</td>\n",
       "      <td>35.0</td>\n",
       "      <td>NaN</td>\n",
       "      <td>NaN</td>\n",
       "      <td>NaN</td>\n",
       "      <td>1.320000</td>\n",
       "      <td>1050.00</td>\n",
       "      <td>6.1</td>\n",
       "      <td>2630.0</td>\n",
       "      <td>0.000023</td>\n",
       "    </tr>\n",
       "    <tr>\n",
       "      <th>Th</th>\n",
       "      <td>232.038060</td>\n",
       "      <td>0.27</td>\n",
       "      <td>1.80</td>\n",
       "      <td>1.500000e-07</td>\n",
       "      <td>19.80</td>\n",
       "      <td>54.0</td>\n",
       "      <td>54.0</td>\n",
       "      <td>79.0</td>\n",
       "      <td>400.0</td>\n",
       "      <td>1.080000</td>\n",
       "      <td>2115.00</td>\n",
       "      <td>31.0</td>\n",
       "      <td>11724.0</td>\n",
       "      <td>0.000011</td>\n",
       "    </tr>\n",
       "    <tr>\n",
       "      <th>Yb</th>\n",
       "      <td>173.040000</td>\n",
       "      <td>0.21</td>\n",
       "      <td>1.75</td>\n",
       "      <td>2.500000e-07</td>\n",
       "      <td>24.84</td>\n",
       "      <td>39.0</td>\n",
       "      <td>31.0</td>\n",
       "      <td>24.0</td>\n",
       "      <td>343.0</td>\n",
       "      <td>1.084000</td>\n",
       "      <td>1097.00</td>\n",
       "      <td>9.9</td>\n",
       "      <td>6570.0</td>\n",
       "      <td>0.000026</td>\n",
       "    </tr>\n",
       "  </tbody>\n",
       "</table>\n",
       "</div>"
      ],
      "text/plain": [
       "    atomic_mass  poissons_ratio  atomic_radius  electrical_resistivity  \\\n",
       "Ag   107.868200            0.37           1.60            1.630000e-08   \n",
       "Al    26.981539            0.35           1.25            2.700000e-08   \n",
       "Au   196.966569            0.44           1.35            2.200000e-08   \n",
       "Cu    63.546000            0.34           1.35            1.720000e-08   \n",
       "Ir   192.217000            0.26           1.35            4.700000e-08   \n",
       "Ni    58.693400            0.31           1.35            7.200000e-08   \n",
       "Pb   207.200000            0.44           1.80            2.100000e-07   \n",
       "Pd   106.420000            0.39           1.40            1.080000e-07   \n",
       "Pt   195.084000            0.38           1.35            1.060000e-07   \n",
       "Rh   102.905500            0.26           1.35            4.300000e-08   \n",
       "Sr    87.620000            0.28           2.00            1.350000e-07   \n",
       "Th   232.038060            0.27           1.80            1.500000e-07   \n",
       "Yb   173.040000            0.21           1.75            2.500000e-07   \n",
       "\n",
       "    molar_volume  thermal_conductivity  bulk_modulus  youngs_modulus  \\\n",
       "Ag         10.27                 430.0         100.0            83.0   \n",
       "Al         10.00                 235.0          76.0            70.0   \n",
       "Au         10.21                 320.0         220.0            78.0   \n",
       "Cu          7.11                 400.0         140.0           130.0   \n",
       "Ir          8.52                 150.0         320.0           528.0   \n",
       "Ni          6.59                  91.0         180.0           200.0   \n",
       "Pb         18.26                  35.0          46.0            16.0   \n",
       "Pd          8.56                  72.0         180.0           121.0   \n",
       "Pt          9.09                  72.0         230.0           168.0   \n",
       "Rh          8.28                 150.0         380.0           275.0   \n",
       "Sr         33.94                  35.0           NaN             NaN   \n",
       "Th         19.80                  54.0          54.0            79.0   \n",
       "Yb         24.84                  39.0          31.0            24.0   \n",
       "\n",
       "    brinell_hardness  average_ionic_radius  melting_point  rigidity_modulus  \\\n",
       "Ag              24.5              1.086667        1234.93              30.0   \n",
       "Al             245.0              0.675000         933.47              26.0   \n",
       "Au            2450.0              1.070000        1337.33              27.0   \n",
       "Cu             874.0              0.820000        1357.77              48.0   \n",
       "Ir            1670.0              0.765000        2739.00             210.0   \n",
       "Ni             700.0              0.740000        1728.00              76.0   \n",
       "Pb              38.3              1.122500         600.61               5.6   \n",
       "Pd              37.3              0.846250        1828.05              44.0   \n",
       "Pt             392.0              0.805000        2041.40              61.0   \n",
       "Rh            1100.0              0.745000        2237.00             150.0   \n",
       "Sr               NaN              1.320000        1050.00               6.1   \n",
       "Th             400.0              1.080000        2115.00              31.0   \n",
       "Yb             343.0              1.084000        1097.00               9.9   \n",
       "\n",
       "    density_of_solid  coefficient_of_linear_thermal_expansion  \n",
       "Ag           10490.0                                 0.000019  \n",
       "Al            2700.0                                 0.000023  \n",
       "Au           19300.0                                 0.000014  \n",
       "Cu            8920.0                                 0.000017  \n",
       "Ir           22650.0                                 0.000006  \n",
       "Ni            8908.0                                 0.000013  \n",
       "Pb           11340.0                                 0.000029  \n",
       "Pd           12023.0                                 0.000012  \n",
       "Pt           21090.0                                 0.000009  \n",
       "Rh           12450.0                                 0.000008  \n",
       "Sr            2630.0                                 0.000023  \n",
       "Th           11724.0                                 0.000011  \n",
       "Yb            6570.0                                 0.000026  "
      ]
     },
     "metadata": {},
     "output_type": "display_data"
    }
   ],
   "source": [
    "df.index = fcc_elements\n",
    "display(df)"
   ]
  },
  {
   "cell_type": "markdown",
   "id": "b8a0aab6-90b0-4828-aca2-b3130267ef98",
   "metadata": {},
   "source": [
    "We can then use simple Pandas binary operations to only show elements that satisfy a certain condition.\n",
    "\n",
    "The first cell will display a version of the dataframe filtered to elements that have an atomic mass <i>greater or equal</i> than 150u. (Pandas operator .ge) <br>\n",
    "The second cell will display a version of the dataframe filtered to elements with exactly 0.26 Poissons' ratio. (Pandas operator .eq) <br>\n",
    "\n",
    "There are standard operators for greater or equal (.ge), less or equal (.le), equal (.eq) and not equal (.ne). A list of such operations can be found [here](https://pandas.pydata.org/pandas-docs/version/0.24.2/reference/frame.html#binary-operator-functions). However, we can also create our custom binary conditions.\n",
    "\n",
    "The third cell will display a version with a custom binary condition. The elements shown have Young's modulus less than 120 GPa, and Poissons' ratio greater than 0.25. <br>"
   ]
  },
  {
   "cell_type": "code",
   "execution_count": 7,
   "id": "bbad42b9-d17c-4656-a987-a92bfe2187b2",
   "metadata": {
    "execution": {
     "iopub.execute_input": "2023-08-02T17:46:23.077113Z",
     "iopub.status.busy": "2023-08-02T17:46:23.076743Z",
     "iopub.status.idle": "2023-08-02T17:46:23.123171Z",
     "shell.execute_reply": "2023-08-02T17:46:23.121631Z",
     "shell.execute_reply.started": "2023-08-02T17:46:23.077069Z"
    }
   },
   "outputs": [
    {
     "data": {
      "text/html": [
       "<div>\n",
       "<style scoped>\n",
       "    .dataframe tbody tr th:only-of-type {\n",
       "        vertical-align: middle;\n",
       "    }\n",
       "\n",
       "    .dataframe tbody tr th {\n",
       "        vertical-align: top;\n",
       "    }\n",
       "\n",
       "    .dataframe thead th {\n",
       "        text-align: right;\n",
       "    }\n",
       "</style>\n",
       "<table border=\"1\" class=\"dataframe\">\n",
       "  <thead>\n",
       "    <tr style=\"text-align: right;\">\n",
       "      <th></th>\n",
       "      <th>atomic_mass</th>\n",
       "      <th>poissons_ratio</th>\n",
       "      <th>atomic_radius</th>\n",
       "      <th>electrical_resistivity</th>\n",
       "      <th>molar_volume</th>\n",
       "      <th>thermal_conductivity</th>\n",
       "      <th>bulk_modulus</th>\n",
       "      <th>youngs_modulus</th>\n",
       "      <th>brinell_hardness</th>\n",
       "      <th>average_ionic_radius</th>\n",
       "      <th>melting_point</th>\n",
       "      <th>rigidity_modulus</th>\n",
       "      <th>density_of_solid</th>\n",
       "      <th>coefficient_of_linear_thermal_expansion</th>\n",
       "    </tr>\n",
       "  </thead>\n",
       "  <tbody>\n",
       "    <tr>\n",
       "      <th>Au</th>\n",
       "      <td>196.966569</td>\n",
       "      <td>0.44</td>\n",
       "      <td>1.35</td>\n",
       "      <td>2.200000e-08</td>\n",
       "      <td>10.21</td>\n",
       "      <td>320.0</td>\n",
       "      <td>220.0</td>\n",
       "      <td>78.0</td>\n",
       "      <td>2450.0</td>\n",
       "      <td>1.0700</td>\n",
       "      <td>1337.33</td>\n",
       "      <td>27.0</td>\n",
       "      <td>19300.0</td>\n",
       "      <td>0.000014</td>\n",
       "    </tr>\n",
       "    <tr>\n",
       "      <th>Ir</th>\n",
       "      <td>192.217000</td>\n",
       "      <td>0.26</td>\n",
       "      <td>1.35</td>\n",
       "      <td>4.700000e-08</td>\n",
       "      <td>8.52</td>\n",
       "      <td>150.0</td>\n",
       "      <td>320.0</td>\n",
       "      <td>528.0</td>\n",
       "      <td>1670.0</td>\n",
       "      <td>0.7650</td>\n",
       "      <td>2739.00</td>\n",
       "      <td>210.0</td>\n",
       "      <td>22650.0</td>\n",
       "      <td>0.000006</td>\n",
       "    </tr>\n",
       "    <tr>\n",
       "      <th>Pb</th>\n",
       "      <td>207.200000</td>\n",
       "      <td>0.44</td>\n",
       "      <td>1.80</td>\n",
       "      <td>2.100000e-07</td>\n",
       "      <td>18.26</td>\n",
       "      <td>35.0</td>\n",
       "      <td>46.0</td>\n",
       "      <td>16.0</td>\n",
       "      <td>38.3</td>\n",
       "      <td>1.1225</td>\n",
       "      <td>600.61</td>\n",
       "      <td>5.6</td>\n",
       "      <td>11340.0</td>\n",
       "      <td>0.000029</td>\n",
       "    </tr>\n",
       "    <tr>\n",
       "      <th>Pt</th>\n",
       "      <td>195.084000</td>\n",
       "      <td>0.38</td>\n",
       "      <td>1.35</td>\n",
       "      <td>1.060000e-07</td>\n",
       "      <td>9.09</td>\n",
       "      <td>72.0</td>\n",
       "      <td>230.0</td>\n",
       "      <td>168.0</td>\n",
       "      <td>392.0</td>\n",
       "      <td>0.8050</td>\n",
       "      <td>2041.40</td>\n",
       "      <td>61.0</td>\n",
       "      <td>21090.0</td>\n",
       "      <td>0.000009</td>\n",
       "    </tr>\n",
       "    <tr>\n",
       "      <th>Th</th>\n",
       "      <td>232.038060</td>\n",
       "      <td>0.27</td>\n",
       "      <td>1.80</td>\n",
       "      <td>1.500000e-07</td>\n",
       "      <td>19.80</td>\n",
       "      <td>54.0</td>\n",
       "      <td>54.0</td>\n",
       "      <td>79.0</td>\n",
       "      <td>400.0</td>\n",
       "      <td>1.0800</td>\n",
       "      <td>2115.00</td>\n",
       "      <td>31.0</td>\n",
       "      <td>11724.0</td>\n",
       "      <td>0.000011</td>\n",
       "    </tr>\n",
       "    <tr>\n",
       "      <th>Yb</th>\n",
       "      <td>173.040000</td>\n",
       "      <td>0.21</td>\n",
       "      <td>1.75</td>\n",
       "      <td>2.500000e-07</td>\n",
       "      <td>24.84</td>\n",
       "      <td>39.0</td>\n",
       "      <td>31.0</td>\n",
       "      <td>24.0</td>\n",
       "      <td>343.0</td>\n",
       "      <td>1.0840</td>\n",
       "      <td>1097.00</td>\n",
       "      <td>9.9</td>\n",
       "      <td>6570.0</td>\n",
       "      <td>0.000026</td>\n",
       "    </tr>\n",
       "  </tbody>\n",
       "</table>\n",
       "</div>"
      ],
      "text/plain": [
       "    atomic_mass  poissons_ratio  atomic_radius  electrical_resistivity  \\\n",
       "Au   196.966569            0.44           1.35            2.200000e-08   \n",
       "Ir   192.217000            0.26           1.35            4.700000e-08   \n",
       "Pb   207.200000            0.44           1.80            2.100000e-07   \n",
       "Pt   195.084000            0.38           1.35            1.060000e-07   \n",
       "Th   232.038060            0.27           1.80            1.500000e-07   \n",
       "Yb   173.040000            0.21           1.75            2.500000e-07   \n",
       "\n",
       "    molar_volume  thermal_conductivity  bulk_modulus  youngs_modulus  \\\n",
       "Au         10.21                 320.0         220.0            78.0   \n",
       "Ir          8.52                 150.0         320.0           528.0   \n",
       "Pb         18.26                  35.0          46.0            16.0   \n",
       "Pt          9.09                  72.0         230.0           168.0   \n",
       "Th         19.80                  54.0          54.0            79.0   \n",
       "Yb         24.84                  39.0          31.0            24.0   \n",
       "\n",
       "    brinell_hardness  average_ionic_radius  melting_point  rigidity_modulus  \\\n",
       "Au            2450.0                1.0700        1337.33              27.0   \n",
       "Ir            1670.0                0.7650        2739.00             210.0   \n",
       "Pb              38.3                1.1225         600.61               5.6   \n",
       "Pt             392.0                0.8050        2041.40              61.0   \n",
       "Th             400.0                1.0800        2115.00              31.0   \n",
       "Yb             343.0                1.0840        1097.00               9.9   \n",
       "\n",
       "    density_of_solid  coefficient_of_linear_thermal_expansion  \n",
       "Au           19300.0                                 0.000014  \n",
       "Ir           22650.0                                 0.000006  \n",
       "Pb           11340.0                                 0.000029  \n",
       "Pt           21090.0                                 0.000009  \n",
       "Th           11724.0                                 0.000011  \n",
       "Yb            6570.0                                 0.000026  "
      ]
     },
     "metadata": {},
     "output_type": "display_data"
    }
   ],
   "source": [
    "df_big_atoms = df[df.atomic_mass.ge(150)]\n",
    "display(df_big_atoms)"
   ]
  },
  {
   "cell_type": "code",
   "execution_count": 8,
   "id": "73ec7085-6180-48cf-bde1-b8d645ec04d9",
   "metadata": {
    "execution": {
     "iopub.execute_input": "2023-08-02T17:46:23.126033Z",
     "iopub.status.busy": "2023-08-02T17:46:23.125517Z",
     "iopub.status.idle": "2023-08-02T17:46:23.162901Z",
     "shell.execute_reply": "2023-08-02T17:46:23.161309Z",
     "shell.execute_reply.started": "2023-08-02T17:46:23.125989Z"
    }
   },
   "outputs": [
    {
     "data": {
      "text/html": [
       "<div>\n",
       "<style scoped>\n",
       "    .dataframe tbody tr th:only-of-type {\n",
       "        vertical-align: middle;\n",
       "    }\n",
       "\n",
       "    .dataframe tbody tr th {\n",
       "        vertical-align: top;\n",
       "    }\n",
       "\n",
       "    .dataframe thead th {\n",
       "        text-align: right;\n",
       "    }\n",
       "</style>\n",
       "<table border=\"1\" class=\"dataframe\">\n",
       "  <thead>\n",
       "    <tr style=\"text-align: right;\">\n",
       "      <th></th>\n",
       "      <th>atomic_mass</th>\n",
       "      <th>poissons_ratio</th>\n",
       "      <th>atomic_radius</th>\n",
       "      <th>electrical_resistivity</th>\n",
       "      <th>molar_volume</th>\n",
       "      <th>thermal_conductivity</th>\n",
       "      <th>bulk_modulus</th>\n",
       "      <th>youngs_modulus</th>\n",
       "      <th>brinell_hardness</th>\n",
       "      <th>average_ionic_radius</th>\n",
       "      <th>melting_point</th>\n",
       "      <th>rigidity_modulus</th>\n",
       "      <th>density_of_solid</th>\n",
       "      <th>coefficient_of_linear_thermal_expansion</th>\n",
       "    </tr>\n",
       "  </thead>\n",
       "  <tbody>\n",
       "    <tr>\n",
       "      <th>Ir</th>\n",
       "      <td>192.2170</td>\n",
       "      <td>0.26</td>\n",
       "      <td>1.35</td>\n",
       "      <td>4.700000e-08</td>\n",
       "      <td>8.52</td>\n",
       "      <td>150.0</td>\n",
       "      <td>320.0</td>\n",
       "      <td>528.0</td>\n",
       "      <td>1670.0</td>\n",
       "      <td>0.765</td>\n",
       "      <td>2739.0</td>\n",
       "      <td>210.0</td>\n",
       "      <td>22650.0</td>\n",
       "      <td>0.000006</td>\n",
       "    </tr>\n",
       "    <tr>\n",
       "      <th>Rh</th>\n",
       "      <td>102.9055</td>\n",
       "      <td>0.26</td>\n",
       "      <td>1.35</td>\n",
       "      <td>4.300000e-08</td>\n",
       "      <td>8.28</td>\n",
       "      <td>150.0</td>\n",
       "      <td>380.0</td>\n",
       "      <td>275.0</td>\n",
       "      <td>1100.0</td>\n",
       "      <td>0.745</td>\n",
       "      <td>2237.0</td>\n",
       "      <td>150.0</td>\n",
       "      <td>12450.0</td>\n",
       "      <td>0.000008</td>\n",
       "    </tr>\n",
       "  </tbody>\n",
       "</table>\n",
       "</div>"
      ],
      "text/plain": [
       "    atomic_mass  poissons_ratio  atomic_radius  electrical_resistivity  \\\n",
       "Ir     192.2170            0.26           1.35            4.700000e-08   \n",
       "Rh     102.9055            0.26           1.35            4.300000e-08   \n",
       "\n",
       "    molar_volume  thermal_conductivity  bulk_modulus  youngs_modulus  \\\n",
       "Ir          8.52                 150.0         320.0           528.0   \n",
       "Rh          8.28                 150.0         380.0           275.0   \n",
       "\n",
       "    brinell_hardness  average_ionic_radius  melting_point  rigidity_modulus  \\\n",
       "Ir            1670.0                 0.765         2739.0             210.0   \n",
       "Rh            1100.0                 0.745         2237.0             150.0   \n",
       "\n",
       "    density_of_solid  coefficient_of_linear_thermal_expansion  \n",
       "Ir           22650.0                                 0.000006  \n",
       "Rh           12450.0                                 0.000008  "
      ]
     },
     "metadata": {},
     "output_type": "display_data"
    }
   ],
   "source": [
    "df_poisson = df[df.poissons_ratio.eq(0.26)]\n",
    "display(df_poisson)"
   ]
  },
  {
   "cell_type": "code",
   "execution_count": 9,
   "id": "b127de86-fe45-42a5-a66c-994822998364",
   "metadata": {
    "execution": {
     "iopub.execute_input": "2023-08-02T17:46:23.165405Z",
     "iopub.status.busy": "2023-08-02T17:46:23.164985Z",
     "iopub.status.idle": "2023-08-02T17:46:23.215821Z",
     "shell.execute_reply": "2023-08-02T17:46:23.214086Z",
     "shell.execute_reply.started": "2023-08-02T17:46:23.165360Z"
    }
   },
   "outputs": [
    {
     "data": {
      "text/html": [
       "<div>\n",
       "<style scoped>\n",
       "    .dataframe tbody tr th:only-of-type {\n",
       "        vertical-align: middle;\n",
       "    }\n",
       "\n",
       "    .dataframe tbody tr th {\n",
       "        vertical-align: top;\n",
       "    }\n",
       "\n",
       "    .dataframe thead th {\n",
       "        text-align: right;\n",
       "    }\n",
       "</style>\n",
       "<table border=\"1\" class=\"dataframe\">\n",
       "  <thead>\n",
       "    <tr style=\"text-align: right;\">\n",
       "      <th></th>\n",
       "      <th>atomic_mass</th>\n",
       "      <th>poissons_ratio</th>\n",
       "      <th>atomic_radius</th>\n",
       "      <th>electrical_resistivity</th>\n",
       "      <th>molar_volume</th>\n",
       "      <th>thermal_conductivity</th>\n",
       "      <th>bulk_modulus</th>\n",
       "      <th>youngs_modulus</th>\n",
       "      <th>brinell_hardness</th>\n",
       "      <th>average_ionic_radius</th>\n",
       "      <th>melting_point</th>\n",
       "      <th>rigidity_modulus</th>\n",
       "      <th>density_of_solid</th>\n",
       "      <th>coefficient_of_linear_thermal_expansion</th>\n",
       "    </tr>\n",
       "  </thead>\n",
       "  <tbody>\n",
       "    <tr>\n",
       "      <th>Ag</th>\n",
       "      <td>107.868200</td>\n",
       "      <td>0.37</td>\n",
       "      <td>1.60</td>\n",
       "      <td>1.630000e-08</td>\n",
       "      <td>10.27</td>\n",
       "      <td>430.0</td>\n",
       "      <td>100.0</td>\n",
       "      <td>83.0</td>\n",
       "      <td>24.5</td>\n",
       "      <td>1.086667</td>\n",
       "      <td>1234.93</td>\n",
       "      <td>30.0</td>\n",
       "      <td>10490.0</td>\n",
       "      <td>0.000019</td>\n",
       "    </tr>\n",
       "    <tr>\n",
       "      <th>Al</th>\n",
       "      <td>26.981539</td>\n",
       "      <td>0.35</td>\n",
       "      <td>1.25</td>\n",
       "      <td>2.700000e-08</td>\n",
       "      <td>10.00</td>\n",
       "      <td>235.0</td>\n",
       "      <td>76.0</td>\n",
       "      <td>70.0</td>\n",
       "      <td>245.0</td>\n",
       "      <td>0.675000</td>\n",
       "      <td>933.47</td>\n",
       "      <td>26.0</td>\n",
       "      <td>2700.0</td>\n",
       "      <td>0.000023</td>\n",
       "    </tr>\n",
       "    <tr>\n",
       "      <th>Au</th>\n",
       "      <td>196.966569</td>\n",
       "      <td>0.44</td>\n",
       "      <td>1.35</td>\n",
       "      <td>2.200000e-08</td>\n",
       "      <td>10.21</td>\n",
       "      <td>320.0</td>\n",
       "      <td>220.0</td>\n",
       "      <td>78.0</td>\n",
       "      <td>2450.0</td>\n",
       "      <td>1.070000</td>\n",
       "      <td>1337.33</td>\n",
       "      <td>27.0</td>\n",
       "      <td>19300.0</td>\n",
       "      <td>0.000014</td>\n",
       "    </tr>\n",
       "    <tr>\n",
       "      <th>Pb</th>\n",
       "      <td>207.200000</td>\n",
       "      <td>0.44</td>\n",
       "      <td>1.80</td>\n",
       "      <td>2.100000e-07</td>\n",
       "      <td>18.26</td>\n",
       "      <td>35.0</td>\n",
       "      <td>46.0</td>\n",
       "      <td>16.0</td>\n",
       "      <td>38.3</td>\n",
       "      <td>1.122500</td>\n",
       "      <td>600.61</td>\n",
       "      <td>5.6</td>\n",
       "      <td>11340.0</td>\n",
       "      <td>0.000029</td>\n",
       "    </tr>\n",
       "    <tr>\n",
       "      <th>Th</th>\n",
       "      <td>232.038060</td>\n",
       "      <td>0.27</td>\n",
       "      <td>1.80</td>\n",
       "      <td>1.500000e-07</td>\n",
       "      <td>19.80</td>\n",
       "      <td>54.0</td>\n",
       "      <td>54.0</td>\n",
       "      <td>79.0</td>\n",
       "      <td>400.0</td>\n",
       "      <td>1.080000</td>\n",
       "      <td>2115.00</td>\n",
       "      <td>31.0</td>\n",
       "      <td>11724.0</td>\n",
       "      <td>0.000011</td>\n",
       "    </tr>\n",
       "  </tbody>\n",
       "</table>\n",
       "</div>"
      ],
      "text/plain": [
       "    atomic_mass  poissons_ratio  atomic_radius  electrical_resistivity  \\\n",
       "Ag   107.868200            0.37           1.60            1.630000e-08   \n",
       "Al    26.981539            0.35           1.25            2.700000e-08   \n",
       "Au   196.966569            0.44           1.35            2.200000e-08   \n",
       "Pb   207.200000            0.44           1.80            2.100000e-07   \n",
       "Th   232.038060            0.27           1.80            1.500000e-07   \n",
       "\n",
       "    molar_volume  thermal_conductivity  bulk_modulus  youngs_modulus  \\\n",
       "Ag         10.27                 430.0         100.0            83.0   \n",
       "Al         10.00                 235.0          76.0            70.0   \n",
       "Au         10.21                 320.0         220.0            78.0   \n",
       "Pb         18.26                  35.0          46.0            16.0   \n",
       "Th         19.80                  54.0          54.0            79.0   \n",
       "\n",
       "    brinell_hardness  average_ionic_radius  melting_point  rigidity_modulus  \\\n",
       "Ag              24.5              1.086667        1234.93              30.0   \n",
       "Al             245.0              0.675000         933.47              26.0   \n",
       "Au            2450.0              1.070000        1337.33              27.0   \n",
       "Pb              38.3              1.122500         600.61               5.6   \n",
       "Th             400.0              1.080000        2115.00              31.0   \n",
       "\n",
       "    density_of_solid  coefficient_of_linear_thermal_expansion  \n",
       "Ag           10490.0                                 0.000019  \n",
       "Al            2700.0                                 0.000023  \n",
       "Au           19300.0                                 0.000014  \n",
       "Pb           11340.0                                 0.000029  \n",
       "Th           11724.0                                 0.000011  "
      ]
     },
     "metadata": {},
     "output_type": "display_data"
    }
   ],
   "source": [
    "df_condition = df[(df['youngs_modulus'] < 120) & (df[\"poissons_ratio\"] > 0.25)]\n",
    "display(df_condition)"
   ]
  },
  {
   "cell_type": "markdown",
   "id": "dfb0afd3-9503-4cf8-ad98-015046a88afa",
   "metadata": {},
   "source": [
    "### 3. Plotting\n",
    "\n",
    "Finally, we are going to plot the values for the properties in the lists we just created. For this tutorial we will make two scatter plots:\n",
    "\n",
    "-  Young's Modulus vs Melting Temperature\n",
    "-  Coefficient of Linear Thermal Expansion vs Melting Temperature\n",
    "\n",
    "We will be using a Python library called [Plotly](https://plot.ly/python/) to create these plots. This library allows you to create plots that are really interactive and highly customizable. <br>\n",
    "\n",
    "#### Simple Plot\n",
    "\n",
    "In this first cell we will import the library components we will use and create a simple plot."
   ]
  },
  {
   "cell_type": "code",
   "execution_count": 10,
   "id": "88b46cb0-c203-44f7-98d3-4402ac9f631b",
   "metadata": {
    "execution": {
     "iopub.execute_input": "2023-08-02T17:46:24.656906Z",
     "iopub.status.busy": "2023-08-02T17:46:24.656291Z",
     "iopub.status.idle": "2023-08-02T17:46:25.842417Z",
     "shell.execute_reply": "2023-08-02T17:46:25.840634Z",
     "shell.execute_reply.started": "2023-08-02T17:46:24.656853Z"
    }
   },
   "outputs": [
    {
     "data": {
      "text/html": [
       "        <script type=\"text/javascript\">\n",
       "        window.PlotlyConfig = {MathJaxConfig: 'local'};\n",
       "        if (window.MathJax) {MathJax.Hub.Config({SVG: {font: \"STIX-Web\"}});}\n",
       "        if (typeof require !== 'undefined') {\n",
       "        require.undef(\"plotly\");\n",
       "        requirejs.config({\n",
       "            paths: {\n",
       "                'plotly': ['https://cdn.plot.ly/plotly-2.9.0.min']\n",
       "            }\n",
       "        });\n",
       "        require(['plotly'], function(Plotly) {\n",
       "            window._Plotly = Plotly;\n",
       "        });\n",
       "        }\n",
       "        </script>\n",
       "        "
      ]
     },
     "metadata": {},
     "output_type": "display_data"
    },
    {
     "data": {
      "application/vnd.plotly.v1+json": {
       "config": {
        "linkText": "Export to plot.ly",
        "plotlyServerURL": "https://plot.ly",
        "showLink": false
       },
       "data": [
        {
         "mode": "markers",
         "type": "scatter",
         "x": [
          14.01,
          0.95,
          453.69,
          1560,
          2349,
          3800,
          63.05,
          54.8,
          53.53,
          24.56,
          370.87,
          923,
          933.47,
          1687,
          317.3,
          388.36,
          171.6,
          83.8,
          336.53,
          1115,
          1814,
          1941,
          2183,
          2180,
          1519,
          1811,
          1768,
          1728,
          1357.77,
          692.68,
          302.91,
          1211.4,
          1090,
          494,
          265.8,
          115.79,
          312.46,
          1050,
          1799,
          2128,
          2750,
          2896,
          2430,
          2607,
          2237,
          1828.05,
          1234.93,
          594.22,
          429.75,
          505.08,
          903.78,
          722.66,
          386.85,
          161.4,
          301.59,
          1000,
          2506,
          3290,
          3695,
          3459,
          3306,
          2739,
          2041.4,
          1337.33,
          234.32,
          577,
          600.61,
          544.4,
          1193,
          1068,
          1208,
          1297,
          1373,
          1345,
          1099,
          1585,
          1629,
          1680,
          1734,
          1802,
          1818,
          1097,
          1925,
          1323,
          2115,
          1841,
          1405.3,
          910,
          912.5
         ],
         "y": [
          null,
          null,
          4.9,
          287,
          null,
          null,
          null,
          null,
          null,
          null,
          10,
          45,
          70,
          47,
          null,
          null,
          null,
          null,
          null,
          20,
          74,
          116,
          128,
          279,
          198,
          211,
          209,
          200,
          130,
          108,
          null,
          null,
          8,
          10,
          null,
          null,
          2.4,
          null,
          64,
          68,
          105,
          329,
          null,
          447,
          275,
          121,
          83,
          50,
          11,
          50,
          55,
          43,
          null,
          null,
          1.7,
          13,
          78,
          186,
          411,
          463,
          null,
          528,
          168,
          78,
          null,
          8,
          16,
          32,
          37,
          34,
          37,
          41,
          46,
          50,
          18,
          55,
          56,
          61,
          65,
          70,
          74,
          24,
          69,
          null,
          79,
          null,
          208,
          null,
          96
         ]
        }
       ],
       "layout": {
        "autosize": true,
        "template": {
         "data": {
          "bar": [
           {
            "error_x": {
             "color": "#2a3f5f"
            },
            "error_y": {
             "color": "#2a3f5f"
            },
            "marker": {
             "line": {
              "color": "#E5ECF6",
              "width": 0.5
             },
             "pattern": {
              "fillmode": "overlay",
              "size": 10,
              "solidity": 0.2
             }
            },
            "type": "bar"
           }
          ],
          "barpolar": [
           {
            "marker": {
             "line": {
              "color": "#E5ECF6",
              "width": 0.5
             },
             "pattern": {
              "fillmode": "overlay",
              "size": 10,
              "solidity": 0.2
             }
            },
            "type": "barpolar"
           }
          ],
          "carpet": [
           {
            "aaxis": {
             "endlinecolor": "#2a3f5f",
             "gridcolor": "white",
             "linecolor": "white",
             "minorgridcolor": "white",
             "startlinecolor": "#2a3f5f"
            },
            "baxis": {
             "endlinecolor": "#2a3f5f",
             "gridcolor": "white",
             "linecolor": "white",
             "minorgridcolor": "white",
             "startlinecolor": "#2a3f5f"
            },
            "type": "carpet"
           }
          ],
          "choropleth": [
           {
            "colorbar": {
             "outlinewidth": 0,
             "ticks": ""
            },
            "type": "choropleth"
           }
          ],
          "contour": [
           {
            "colorbar": {
             "outlinewidth": 0,
             "ticks": ""
            },
            "colorscale": [
             [
              0,
              "#0d0887"
             ],
             [
              0.1111111111111111,
              "#46039f"
             ],
             [
              0.2222222222222222,
              "#7201a8"
             ],
             [
              0.3333333333333333,
              "#9c179e"
             ],
             [
              0.4444444444444444,
              "#bd3786"
             ],
             [
              0.5555555555555556,
              "#d8576b"
             ],
             [
              0.6666666666666666,
              "#ed7953"
             ],
             [
              0.7777777777777778,
              "#fb9f3a"
             ],
             [
              0.8888888888888888,
              "#fdca26"
             ],
             [
              1,
              "#f0f921"
             ]
            ],
            "type": "contour"
           }
          ],
          "contourcarpet": [
           {
            "colorbar": {
             "outlinewidth": 0,
             "ticks": ""
            },
            "type": "contourcarpet"
           }
          ],
          "heatmap": [
           {
            "colorbar": {
             "outlinewidth": 0,
             "ticks": ""
            },
            "colorscale": [
             [
              0,
              "#0d0887"
             ],
             [
              0.1111111111111111,
              "#46039f"
             ],
             [
              0.2222222222222222,
              "#7201a8"
             ],
             [
              0.3333333333333333,
              "#9c179e"
             ],
             [
              0.4444444444444444,
              "#bd3786"
             ],
             [
              0.5555555555555556,
              "#d8576b"
             ],
             [
              0.6666666666666666,
              "#ed7953"
             ],
             [
              0.7777777777777778,
              "#fb9f3a"
             ],
             [
              0.8888888888888888,
              "#fdca26"
             ],
             [
              1,
              "#f0f921"
             ]
            ],
            "type": "heatmap"
           }
          ],
          "heatmapgl": [
           {
            "colorbar": {
             "outlinewidth": 0,
             "ticks": ""
            },
            "colorscale": [
             [
              0,
              "#0d0887"
             ],
             [
              0.1111111111111111,
              "#46039f"
             ],
             [
              0.2222222222222222,
              "#7201a8"
             ],
             [
              0.3333333333333333,
              "#9c179e"
             ],
             [
              0.4444444444444444,
              "#bd3786"
             ],
             [
              0.5555555555555556,
              "#d8576b"
             ],
             [
              0.6666666666666666,
              "#ed7953"
             ],
             [
              0.7777777777777778,
              "#fb9f3a"
             ],
             [
              0.8888888888888888,
              "#fdca26"
             ],
             [
              1,
              "#f0f921"
             ]
            ],
            "type": "heatmapgl"
           }
          ],
          "histogram": [
           {
            "marker": {
             "pattern": {
              "fillmode": "overlay",
              "size": 10,
              "solidity": 0.2
             }
            },
            "type": "histogram"
           }
          ],
          "histogram2d": [
           {
            "colorbar": {
             "outlinewidth": 0,
             "ticks": ""
            },
            "colorscale": [
             [
              0,
              "#0d0887"
             ],
             [
              0.1111111111111111,
              "#46039f"
             ],
             [
              0.2222222222222222,
              "#7201a8"
             ],
             [
              0.3333333333333333,
              "#9c179e"
             ],
             [
              0.4444444444444444,
              "#bd3786"
             ],
             [
              0.5555555555555556,
              "#d8576b"
             ],
             [
              0.6666666666666666,
              "#ed7953"
             ],
             [
              0.7777777777777778,
              "#fb9f3a"
             ],
             [
              0.8888888888888888,
              "#fdca26"
             ],
             [
              1,
              "#f0f921"
             ]
            ],
            "type": "histogram2d"
           }
          ],
          "histogram2dcontour": [
           {
            "colorbar": {
             "outlinewidth": 0,
             "ticks": ""
            },
            "colorscale": [
             [
              0,
              "#0d0887"
             ],
             [
              0.1111111111111111,
              "#46039f"
             ],
             [
              0.2222222222222222,
              "#7201a8"
             ],
             [
              0.3333333333333333,
              "#9c179e"
             ],
             [
              0.4444444444444444,
              "#bd3786"
             ],
             [
              0.5555555555555556,
              "#d8576b"
             ],
             [
              0.6666666666666666,
              "#ed7953"
             ],
             [
              0.7777777777777778,
              "#fb9f3a"
             ],
             [
              0.8888888888888888,
              "#fdca26"
             ],
             [
              1,
              "#f0f921"
             ]
            ],
            "type": "histogram2dcontour"
           }
          ],
          "mesh3d": [
           {
            "colorbar": {
             "outlinewidth": 0,
             "ticks": ""
            },
            "type": "mesh3d"
           }
          ],
          "parcoords": [
           {
            "line": {
             "colorbar": {
              "outlinewidth": 0,
              "ticks": ""
             }
            },
            "type": "parcoords"
           }
          ],
          "pie": [
           {
            "automargin": true,
            "type": "pie"
           }
          ],
          "scatter": [
           {
            "marker": {
             "colorbar": {
              "outlinewidth": 0,
              "ticks": ""
             }
            },
            "type": "scatter"
           }
          ],
          "scatter3d": [
           {
            "line": {
             "colorbar": {
              "outlinewidth": 0,
              "ticks": ""
             }
            },
            "marker": {
             "colorbar": {
              "outlinewidth": 0,
              "ticks": ""
             }
            },
            "type": "scatter3d"
           }
          ],
          "scattercarpet": [
           {
            "marker": {
             "colorbar": {
              "outlinewidth": 0,
              "ticks": ""
             }
            },
            "type": "scattercarpet"
           }
          ],
          "scattergeo": [
           {
            "marker": {
             "colorbar": {
              "outlinewidth": 0,
              "ticks": ""
             }
            },
            "type": "scattergeo"
           }
          ],
          "scattergl": [
           {
            "marker": {
             "colorbar": {
              "outlinewidth": 0,
              "ticks": ""
             }
            },
            "type": "scattergl"
           }
          ],
          "scattermapbox": [
           {
            "marker": {
             "colorbar": {
              "outlinewidth": 0,
              "ticks": ""
             }
            },
            "type": "scattermapbox"
           }
          ],
          "scatterpolar": [
           {
            "marker": {
             "colorbar": {
              "outlinewidth": 0,
              "ticks": ""
             }
            },
            "type": "scatterpolar"
           }
          ],
          "scatterpolargl": [
           {
            "marker": {
             "colorbar": {
              "outlinewidth": 0,
              "ticks": ""
             }
            },
            "type": "scatterpolargl"
           }
          ],
          "scatterternary": [
           {
            "marker": {
             "colorbar": {
              "outlinewidth": 0,
              "ticks": ""
             }
            },
            "type": "scatterternary"
           }
          ],
          "surface": [
           {
            "colorbar": {
             "outlinewidth": 0,
             "ticks": ""
            },
            "colorscale": [
             [
              0,
              "#0d0887"
             ],
             [
              0.1111111111111111,
              "#46039f"
             ],
             [
              0.2222222222222222,
              "#7201a8"
             ],
             [
              0.3333333333333333,
              "#9c179e"
             ],
             [
              0.4444444444444444,
              "#bd3786"
             ],
             [
              0.5555555555555556,
              "#d8576b"
             ],
             [
              0.6666666666666666,
              "#ed7953"
             ],
             [
              0.7777777777777778,
              "#fb9f3a"
             ],
             [
              0.8888888888888888,
              "#fdca26"
             ],
             [
              1,
              "#f0f921"
             ]
            ],
            "type": "surface"
           }
          ],
          "table": [
           {
            "cells": {
             "fill": {
              "color": "#EBF0F8"
             },
             "line": {
              "color": "white"
             }
            },
            "header": {
             "fill": {
              "color": "#C8D4E3"
             },
             "line": {
              "color": "white"
             }
            },
            "type": "table"
           }
          ]
         },
         "layout": {
          "annotationdefaults": {
           "arrowcolor": "#2a3f5f",
           "arrowhead": 0,
           "arrowwidth": 1
          },
          "autotypenumbers": "strict",
          "coloraxis": {
           "colorbar": {
            "outlinewidth": 0,
            "ticks": ""
           }
          },
          "colorscale": {
           "diverging": [
            [
             0,
             "#8e0152"
            ],
            [
             0.1,
             "#c51b7d"
            ],
            [
             0.2,
             "#de77ae"
            ],
            [
             0.3,
             "#f1b6da"
            ],
            [
             0.4,
             "#fde0ef"
            ],
            [
             0.5,
             "#f7f7f7"
            ],
            [
             0.6,
             "#e6f5d0"
            ],
            [
             0.7,
             "#b8e186"
            ],
            [
             0.8,
             "#7fbc41"
            ],
            [
             0.9,
             "#4d9221"
            ],
            [
             1,
             "#276419"
            ]
           ],
           "sequential": [
            [
             0,
             "#0d0887"
            ],
            [
             0.1111111111111111,
             "#46039f"
            ],
            [
             0.2222222222222222,
             "#7201a8"
            ],
            [
             0.3333333333333333,
             "#9c179e"
            ],
            [
             0.4444444444444444,
             "#bd3786"
            ],
            [
             0.5555555555555556,
             "#d8576b"
            ],
            [
             0.6666666666666666,
             "#ed7953"
            ],
            [
             0.7777777777777778,
             "#fb9f3a"
            ],
            [
             0.8888888888888888,
             "#fdca26"
            ],
            [
             1,
             "#f0f921"
            ]
           ],
           "sequentialminus": [
            [
             0,
             "#0d0887"
            ],
            [
             0.1111111111111111,
             "#46039f"
            ],
            [
             0.2222222222222222,
             "#7201a8"
            ],
            [
             0.3333333333333333,
             "#9c179e"
            ],
            [
             0.4444444444444444,
             "#bd3786"
            ],
            [
             0.5555555555555556,
             "#d8576b"
            ],
            [
             0.6666666666666666,
             "#ed7953"
            ],
            [
             0.7777777777777778,
             "#fb9f3a"
            ],
            [
             0.8888888888888888,
             "#fdca26"
            ],
            [
             1,
             "#f0f921"
            ]
           ]
          },
          "colorway": [
           "#636efa",
           "#EF553B",
           "#00cc96",
           "#ab63fa",
           "#FFA15A",
           "#19d3f3",
           "#FF6692",
           "#B6E880",
           "#FF97FF",
           "#FECB52"
          ],
          "font": {
           "color": "#2a3f5f"
          },
          "geo": {
           "bgcolor": "white",
           "lakecolor": "white",
           "landcolor": "#E5ECF6",
           "showlakes": true,
           "showland": true,
           "subunitcolor": "white"
          },
          "hoverlabel": {
           "align": "left"
          },
          "hovermode": "closest",
          "mapbox": {
           "style": "light"
          },
          "paper_bgcolor": "white",
          "plot_bgcolor": "#E5ECF6",
          "polar": {
           "angularaxis": {
            "gridcolor": "white",
            "linecolor": "white",
            "ticks": ""
           },
           "bgcolor": "#E5ECF6",
           "radialaxis": {
            "gridcolor": "white",
            "linecolor": "white",
            "ticks": ""
           }
          },
          "scene": {
           "xaxis": {
            "backgroundcolor": "#E5ECF6",
            "gridcolor": "white",
            "gridwidth": 2,
            "linecolor": "white",
            "showbackground": true,
            "ticks": "",
            "zerolinecolor": "white"
           },
           "yaxis": {
            "backgroundcolor": "#E5ECF6",
            "gridcolor": "white",
            "gridwidth": 2,
            "linecolor": "white",
            "showbackground": true,
            "ticks": "",
            "zerolinecolor": "white"
           },
           "zaxis": {
            "backgroundcolor": "#E5ECF6",
            "gridcolor": "white",
            "gridwidth": 2,
            "linecolor": "white",
            "showbackground": true,
            "ticks": "",
            "zerolinecolor": "white"
           }
          },
          "shapedefaults": {
           "line": {
            "color": "#2a3f5f"
           }
          },
          "ternary": {
           "aaxis": {
            "gridcolor": "white",
            "linecolor": "white",
            "ticks": ""
           },
           "baxis": {
            "gridcolor": "white",
            "linecolor": "white",
            "ticks": ""
           },
           "bgcolor": "#E5ECF6",
           "caxis": {
            "gridcolor": "white",
            "linecolor": "white",
            "ticks": ""
           }
          },
          "title": {
           "x": 0.05
          },
          "xaxis": {
           "automargin": true,
           "gridcolor": "white",
           "linecolor": "white",
           "ticks": "",
           "title": {
            "standoff": 15
           },
           "zerolinecolor": "white",
           "zerolinewidth": 2
          },
          "yaxis": {
           "automargin": true,
           "gridcolor": "white",
           "linecolor": "white",
           "ticks": "",
           "title": {
            "standoff": 15
           },
           "zerolinecolor": "white",
           "zerolinewidth": 2
          }
         }
        },
        "title": {
         "text": "Young's Moduli vs Melting Temperature"
        },
        "xaxis": {
         "autorange": true,
         "range": [
          -235.98601029916625,
          4036.9360102991664
         ],
         "title": {
          "text": "Melting Temperature (K)"
         },
         "type": "linear"
        },
        "yaxis": {
         "autorange": true,
         "range": [
          -41.73252427184465,
          571.4325242718446
         ],
         "title": {
          "text": "Youngs Modulus (GPa)"
         },
         "type": "linear"
        }
       }
      },
      "image/png": "[encoded data removed]",
      "text/html": [
       "<div>                            <div id=\"665671aa-d797-4fc4-94f8-fb7a26111e57\" class=\"plotly-graph-div\" style=\"height:525px; width:100%;\"></div>            <script type=\"text/javascript\">                require([\"plotly\"], function(Plotly) {                    window.PLOTLYENV=window.PLOTLYENV || {};                                    if (document.getElementById(\"665671aa-d797-4fc4-94f8-fb7a26111e57\")) {                    Plotly.newPlot(                        \"665671aa-d797-4fc4-94f8-fb7a26111e57\",                        [{\"mode\":\"markers\",\"x\":[14.01,0.95,453.69,1560.0,2349.0,3800.0,63.05,54.8,53.53,24.56,370.87,923.0,933.47,1687.0,317.3,388.36,171.6,83.8,336.53,1115.0,1814.0,1941.0,2183.0,2180.0,1519.0,1811.0,1768.0,1728.0,1357.77,692.68,302.91,1211.4,1090.0,494.0,265.8,115.79,312.46,1050.0,1799.0,2128.0,2750.0,2896.0,2430.0,2607.0,2237.0,1828.05,1234.93,594.22,429.75,505.08,903.78,722.66,386.85,161.4,301.59,1000.0,2506.0,3290.0,3695.0,3459.0,3306.0,2739.0,2041.4,1337.33,234.32,577.0,600.61,544.4,1193.0,1068.0,1208.0,1297.0,1373.0,1345.0,1099.0,1585.0,1629.0,1680.0,1734.0,1802.0,1818.0,1097.0,1925.0,1323.0,2115.0,1841.0,1405.3,910.0,912.5],\"y\":[null,null,4.9,287.0,null,null,null,null,null,null,10.0,45.0,70.0,47.0,null,null,null,null,null,20.0,74.0,116.0,128.0,279.0,198.0,211.0,209.0,200.0,130.0,108.0,null,null,8.0,10.0,null,null,2.4,null,64.0,68.0,105.0,329.0,null,447.0,275.0,121.0,83.0,50.0,11.0,50.0,55.0,43.0,null,null,1.7,13.0,78.0,186.0,411.0,463.0,null,528.0,168.0,78.0,null,8.0,16.0,32.0,37.0,34.0,37.0,41.0,46.0,50.0,18.0,55.0,56.0,61.0,65.0,70.0,74.0,24.0,69.0,null,79.0,null,208.0,null,96.0],\"type\":\"scatter\"}],                        {\"template\":{\"data\":{\"barpolar\":[{\"marker\":{\"line\":{\"color\":\"#E5ECF6\",\"width\":0.5},\"pattern\":{\"fillmode\":\"overlay\",\"size\":10,\"solidity\":0.2}},\"type\":\"barpolar\"}],\"bar\":[{\"error_x\":{\"color\":\"#2a3f5f\"},\"error_y\":{\"color\":\"#2a3f5f\"},\"marker\":{\"line\":{\"color\":\"#E5ECF6\",\"width\":0.5},\"pattern\":{\"fillmode\":\"overlay\",\"size\":10,\"solidity\":0.2}},\"type\":\"bar\"}],\"carpet\":[{\"aaxis\":{\"endlinecolor\":\"#2a3f5f\",\"gridcolor\":\"white\",\"linecolor\":\"white\",\"minorgridcolor\":\"white\",\"startlinecolor\":\"#2a3f5f\"},\"baxis\":{\"endlinecolor\":\"#2a3f5f\",\"gridcolor\":\"white\",\"linecolor\":\"white\",\"minorgridcolor\":\"white\",\"startlinecolor\":\"#2a3f5f\"},\"type\":\"carpet\"}],\"choropleth\":[{\"colorbar\":{\"outlinewidth\":0,\"ticks\":\"\"},\"type\":\"choropleth\"}],\"contourcarpet\":[{\"colorbar\":{\"outlinewidth\":0,\"ticks\":\"\"},\"type\":\"contourcarpet\"}],\"contour\":[{\"colorbar\":{\"outlinewidth\":0,\"ticks\":\"\"},\"colorscale\":[[0.0,\"#0d0887\"],[0.1111111111111111,\"#46039f\"],[0.2222222222222222,\"#7201a8\"],[0.3333333333333333,\"#9c179e\"],[0.4444444444444444,\"#bd3786\"],[0.5555555555555556,\"#d8576b\"],[0.6666666666666666,\"#ed7953\"],[0.7777777777777778,\"#fb9f3a\"],[0.8888888888888888,\"#fdca26\"],[1.0,\"#f0f921\"]],\"type\":\"contour\"}],\"heatmapgl\":[{\"colorbar\":{\"outlinewidth\":0,\"ticks\":\"\"},\"colorscale\":[[0.0,\"#0d0887\"],[0.1111111111111111,\"#46039f\"],[0.2222222222222222,\"#7201a8\"],[0.3333333333333333,\"#9c179e\"],[0.4444444444444444,\"#bd3786\"],[0.5555555555555556,\"#d8576b\"],[0.6666666666666666,\"#ed7953\"],[0.7777777777777778,\"#fb9f3a\"],[0.8888888888888888,\"#fdca26\"],[1.0,\"#f0f921\"]],\"type\":\"heatmapgl\"}],\"heatmap\":[{\"colorbar\":{\"outlinewidth\":0,\"ticks\":\"\"},\"colorscale\":[[0.0,\"#0d0887\"],[0.1111111111111111,\"#46039f\"],[0.2222222222222222,\"#7201a8\"],[0.3333333333333333,\"#9c179e\"],[0.4444444444444444,\"#bd3786\"],[0.5555555555555556,\"#d8576b\"],[0.6666666666666666,\"#ed7953\"],[0.7777777777777778,\"#fb9f3a\"],[0.8888888888888888,\"#fdca26\"],[1.0,\"#f0f921\"]],\"type\":\"heatmap\"}],\"histogram2dcontour\":[{\"colorbar\":{\"outlinewidth\":0,\"ticks\":\"\"},\"colorscale\":[[0.0,\"#0d0887\"],[0.1111111111111111,\"#46039f\"],[0.2222222222222222,\"#7201a8\"],[0.3333333333333333,\"#9c179e\"],[0.4444444444444444,\"#bd3786\"],[0.5555555555555556,\"#d8576b\"],[0.6666666666666666,\"#ed7953\"],[0.7777777777777778,\"#fb9f3a\"],[0.8888888888888888,\"#fdca26\"],[1.0,\"#f0f921\"]],\"type\":\"histogram2dcontour\"}],\"histogram2d\":[{\"colorbar\":{\"outlinewidth\":0,\"ticks\":\"\"},\"colorscale\":[[0.0,\"#0d0887\"],[0.1111111111111111,\"#46039f\"],[0.2222222222222222,\"#7201a8\"],[0.3333333333333333,\"#9c179e\"],[0.4444444444444444,\"#bd3786\"],[0.5555555555555556,\"#d8576b\"],[0.6666666666666666,\"#ed7953\"],[0.7777777777777778,\"#fb9f3a\"],[0.8888888888888888,\"#fdca26\"],[1.0,\"#f0f921\"]],\"type\":\"histogram2d\"}],\"histogram\":[{\"marker\":{\"pattern\":{\"fillmode\":\"overlay\",\"size\":10,\"solidity\":0.2}},\"type\":\"histogram\"}],\"mesh3d\":[{\"colorbar\":{\"outlinewidth\":0,\"ticks\":\"\"},\"type\":\"mesh3d\"}],\"parcoords\":[{\"line\":{\"colorbar\":{\"outlinewidth\":0,\"ticks\":\"\"}},\"type\":\"parcoords\"}],\"pie\":[{\"automargin\":true,\"type\":\"pie\"}],\"scatter3d\":[{\"line\":{\"colorbar\":{\"outlinewidth\":0,\"ticks\":\"\"}},\"marker\":{\"colorbar\":{\"outlinewidth\":0,\"ticks\":\"\"}},\"type\":\"scatter3d\"}],\"scattercarpet\":[{\"marker\":{\"colorbar\":{\"outlinewidth\":0,\"ticks\":\"\"}},\"type\":\"scattercarpet\"}],\"scattergeo\":[{\"marker\":{\"colorbar\":{\"outlinewidth\":0,\"ticks\":\"\"}},\"type\":\"scattergeo\"}],\"scattergl\":[{\"marker\":{\"colorbar\":{\"outlinewidth\":0,\"ticks\":\"\"}},\"type\":\"scattergl\"}],\"scattermapbox\":[{\"marker\":{\"colorbar\":{\"outlinewidth\":0,\"ticks\":\"\"}},\"type\":\"scattermapbox\"}],\"scatterpolargl\":[{\"marker\":{\"colorbar\":{\"outlinewidth\":0,\"ticks\":\"\"}},\"type\":\"scatterpolargl\"}],\"scatterpolar\":[{\"marker\":{\"colorbar\":{\"outlinewidth\":0,\"ticks\":\"\"}},\"type\":\"scatterpolar\"}],\"scatter\":[{\"marker\":{\"colorbar\":{\"outlinewidth\":0,\"ticks\":\"\"}},\"type\":\"scatter\"}],\"scatterternary\":[{\"marker\":{\"colorbar\":{\"outlinewidth\":0,\"ticks\":\"\"}},\"type\":\"scatterternary\"}],\"surface\":[{\"colorbar\":{\"outlinewidth\":0,\"ticks\":\"\"},\"colorscale\":[[0.0,\"#0d0887\"],[0.1111111111111111,\"#46039f\"],[0.2222222222222222,\"#7201a8\"],[0.3333333333333333,\"#9c179e\"],[0.4444444444444444,\"#bd3786\"],[0.5555555555555556,\"#d8576b\"],[0.6666666666666666,\"#ed7953\"],[0.7777777777777778,\"#fb9f3a\"],[0.8888888888888888,\"#fdca26\"],[1.0,\"#f0f921\"]],\"type\":\"surface\"}],\"table\":[{\"cells\":{\"fill\":{\"color\":\"#EBF0F8\"},\"line\":{\"color\":\"white\"}},\"header\":{\"fill\":{\"color\":\"#C8D4E3\"},\"line\":{\"color\":\"white\"}},\"type\":\"table\"}]},\"layout\":{\"annotationdefaults\":{\"arrowcolor\":\"#2a3f5f\",\"arrowhead\":0,\"arrowwidth\":1},\"autotypenumbers\":\"strict\",\"coloraxis\":{\"colorbar\":{\"outlinewidth\":0,\"ticks\":\"\"}},\"colorscale\":{\"diverging\":[[0,\"#8e0152\"],[0.1,\"#c51b7d\"],[0.2,\"#de77ae\"],[0.3,\"#f1b6da\"],[0.4,\"#fde0ef\"],[0.5,\"#f7f7f7\"],[0.6,\"#e6f5d0\"],[0.7,\"#b8e186\"],[0.8,\"#7fbc41\"],[0.9,\"#4d9221\"],[1,\"#276419\"]],\"sequential\":[[0.0,\"#0d0887\"],[0.1111111111111111,\"#46039f\"],[0.2222222222222222,\"#7201a8\"],[0.3333333333333333,\"#9c179e\"],[0.4444444444444444,\"#bd3786\"],[0.5555555555555556,\"#d8576b\"],[0.6666666666666666,\"#ed7953\"],[0.7777777777777778,\"#fb9f3a\"],[0.8888888888888888,\"#fdca26\"],[1.0,\"#f0f921\"]],\"sequentialminus\":[[0.0,\"#0d0887\"],[0.1111111111111111,\"#46039f\"],[0.2222222222222222,\"#7201a8\"],[0.3333333333333333,\"#9c179e\"],[0.4444444444444444,\"#bd3786\"],[0.5555555555555556,\"#d8576b\"],[0.6666666666666666,\"#ed7953\"],[0.7777777777777778,\"#fb9f3a\"],[0.8888888888888888,\"#fdca26\"],[1.0,\"#f0f921\"]]},\"colorway\":[\"#636efa\",\"#EF553B\",\"#00cc96\",\"#ab63fa\",\"#FFA15A\",\"#19d3f3\",\"#FF6692\",\"#B6E880\",\"#FF97FF\",\"#FECB52\"],\"font\":{\"color\":\"#2a3f5f\"},\"geo\":{\"bgcolor\":\"white\",\"lakecolor\":\"white\",\"landcolor\":\"#E5ECF6\",\"showlakes\":true,\"showland\":true,\"subunitcolor\":\"white\"},\"hoverlabel\":{\"align\":\"left\"},\"hovermode\":\"closest\",\"mapbox\":{\"style\":\"light\"},\"paper_bgcolor\":\"white\",\"plot_bgcolor\":\"#E5ECF6\",\"polar\":{\"angularaxis\":{\"gridcolor\":\"white\",\"linecolor\":\"white\",\"ticks\":\"\"},\"bgcolor\":\"#E5ECF6\",\"radialaxis\":{\"gridcolor\":\"white\",\"linecolor\":\"white\",\"ticks\":\"\"}},\"scene\":{\"xaxis\":{\"backgroundcolor\":\"#E5ECF6\",\"gridcolor\":\"white\",\"gridwidth\":2,\"linecolor\":\"white\",\"showbackground\":true,\"ticks\":\"\",\"zerolinecolor\":\"white\"},\"yaxis\":{\"backgroundcolor\":\"#E5ECF6\",\"gridcolor\":\"white\",\"gridwidth\":2,\"linecolor\":\"white\",\"showbackground\":true,\"ticks\":\"\",\"zerolinecolor\":\"white\"},\"zaxis\":{\"backgroundcolor\":\"#E5ECF6\",\"gridcolor\":\"white\",\"gridwidth\":2,\"linecolor\":\"white\",\"showbackground\":true,\"ticks\":\"\",\"zerolinecolor\":\"white\"}},\"shapedefaults\":{\"line\":{\"color\":\"#2a3f5f\"}},\"ternary\":{\"aaxis\":{\"gridcolor\":\"white\",\"linecolor\":\"white\",\"ticks\":\"\"},\"baxis\":{\"gridcolor\":\"white\",\"linecolor\":\"white\",\"ticks\":\"\"},\"bgcolor\":\"#E5ECF6\",\"caxis\":{\"gridcolor\":\"white\",\"linecolor\":\"white\",\"ticks\":\"\"}},\"title\":{\"x\":0.05},\"xaxis\":{\"automargin\":true,\"gridcolor\":\"white\",\"linecolor\":\"white\",\"ticks\":\"\",\"title\":{\"standoff\":15},\"zerolinecolor\":\"white\",\"zerolinewidth\":2},\"yaxis\":{\"automargin\":true,\"gridcolor\":\"white\",\"linecolor\":\"white\",\"ticks\":\"\",\"title\":{\"standoff\":15},\"zerolinecolor\":\"white\",\"zerolinewidth\":2}}},\"title\":{\"text\":\"Young's Moduli vs Melting Temperature\"},\"xaxis\":{\"title\":{\"text\":\"Melting Temperature (K)\"}},\"yaxis\":{\"title\":{\"text\":\"Youngs Modulus (GPa)\"}}},                        {\"responsive\": true}                    ).then(function(){\n",
       "                            \n",
       "var gd = document.getElementById('665671aa-d797-4fc4-94f8-fb7a26111e57');\n",
       "var x = new MutationObserver(function (mutations, observer) {{\n",
       "        var display = window.getComputedStyle(gd).display;\n",
       "        if (!display || display === 'none') {{\n",
       "            console.log([gd, 'removed!']);\n",
       "            Plotly.purge(gd);\n",
       "            observer.disconnect();\n",
       "        }}\n",
       "}});\n",
       "\n",
       "// Listen for the removal of the full notebook cells\n",
       "var notebookContainer = gd.closest('#notebook-container');\n",
       "if (notebookContainer) {{\n",
       "    x.observe(notebookContainer, {childList: true});\n",
       "}}\n",
       "\n",
       "// Listen for the clearing of the current output cell\n",
       "var outputEl = gd.closest('.output');\n",
       "if (outputEl) {{\n",
       "    x.observe(outputEl, {childList: true});\n",
       "}}\n",
       "\n",
       "                        })                };                });            </script>        </div>"
      ]
     },
     "metadata": {},
     "output_type": "display_data"
    }
   ],
   "source": [
    "import plotly #This is the library import\n",
    "import plotly.graph_objs as go # This is the graphical object (Think \"plt\" in Matplotlib if you have used that before)\n",
    "\n",
    "from plotly.offline import iplot # These lines are necessary to run Plotly in Jupyter Notebooks, but not in a dedicated environment\n",
    "plotly.offline.init_notebook_mode(connected=True)\n",
    "\n",
    "# To create a plot, you need a layout and a trace\n",
    "\n",
    "# The layout gives Plotly the instructions on the background grids, tiles in the plot, \n",
    "# axes names, axes ticks, legends, labels, colors on the figure and general formatting.\n",
    "\n",
    "layout = go.Layout(title = \"Young's Moduli vs Melting Temperature\",xaxis= dict(title= 'Melting Temperature (K)'), \n",
    "                   yaxis= dict(title= 'Youngs Modulus (GPa)'))\n",
    "\n",
    "# The trace contains a type of plot (In this case, Scatter, but it can be \"Bars, Lines, Pie Charts\", etc.), \n",
    "# the data we want to visualize and the way (\"Mode\") we want to represent it.\n",
    "\n",
    "trace = go.Scatter(x = melting_temperature, y = youngs_modulus, mode = 'markers')\n",
    "\n",
    "# To plot, we create a figure and implement our components in the following way:\n",
    "\n",
    "data = [trace] # We could include more than just one trace here\n",
    "\n",
    "fig= go.Figure(data, layout=layout)\n",
    "iplot(fig)"
   ]
  },
  {
   "cell_type": "markdown",
   "id": "978465c0-7e08-4f15-a5f9-8f14e11a7840",
   "metadata": {},
   "source": [
    "#### CUSTOM PLOTS\n",
    "\n",
    "Now that we know how to make a basic plot, we can start adding more details to end up with something that looks a little bit better. All modifications are explained in the comments, but you can also find that information [here](https://plot.ly/python/axes/).\n",
    "\n",
    "Before we start our new plot, wouldn't it look better if we could visualize the points with the elements' names and color them according to their crystal structures?"
   ]
  },
  {
   "cell_type": "code",
   "execution_count": 11,
   "id": "191dcf6a-67e3-464a-8640-e7e49b02a5b0",
   "metadata": {
    "execution": {
     "iopub.execute_input": "2023-08-02T17:46:28.056905Z",
     "iopub.status.busy": "2023-08-02T17:46:28.056274Z",
     "iopub.status.idle": "2023-08-02T17:46:28.068758Z",
     "shell.execute_reply": "2023-08-02T17:46:28.066996Z",
     "shell.execute_reply.started": "2023-08-02T17:46:28.056853Z"
    }
   },
   "outputs": [],
   "source": [
    "# Here we are creating a function that takes a value X (Which will be the Symbol of the Element) \n",
    "# and returns a color depending on what its crystal structure is in our arrays from the beginning.\n",
    "# That is because we want to color data according to the crystal structure; therefore, we will have to pass this info to the plot\n",
    "\n",
    "def SetColor_CrystalStr(x):\n",
    "    if x in fcc_elements:\n",
    "        return \"red\" #This are standard CSS colors, but you can also use Hexadecimal Colors (#009900) or RGB \"rgb(0, 128, 0)\"\n",
    "    elif x in bcc_elements:\n",
    "        return \"blue\"\n",
    "    elif x in hcp_elements:\n",
    "        return \"yellow\"\n",
    "    else:\n",
    "        return \"lightgray\"\n",
    "    \n",
    "# We will then create a list that passes all element symbols through this function. For that we will use the python function \"map\"    \n",
    "# Map takes each element on a list and evaluates it in a function.\n",
    "\n",
    "colors = list(map(SetColor_CrystalStr, sample))\n",
    "\n",
    "# You can see this list of generated colors looks like by uncommenting this line\n",
    "\n",
    "#print(colors)"
   ]
  },
  {
   "cell_type": "code",
   "execution_count": 12,
   "id": "e54b9db0-d6d1-480b-9370-af944aaf16eb",
   "metadata": {
    "execution": {
     "iopub.execute_input": "2023-08-02T17:46:30.334804Z",
     "iopub.status.busy": "2023-08-02T17:46:30.334204Z",
     "iopub.status.idle": "2023-08-02T17:46:30.616611Z",
     "shell.execute_reply": "2023-08-02T17:46:30.614704Z",
     "shell.execute_reply.started": "2023-08-02T17:46:30.334750Z"
    }
   },
   "outputs": [
    {
     "data": {
      "application/vnd.plotly.v1+json": {
       "config": {
        "linkText": "Export to plot.ly",
        "plotlyServerURL": "https://plot.ly",
        "showLink": false
       },
       "data": [
        {
         "marker": {
          "color": [
           "lightgray",
           "lightgray",
           "blue",
           "yellow",
           "lightgray",
           "lightgray",
           "lightgray",
           "lightgray",
           "lightgray",
           "lightgray",
           "blue",
           "yellow",
           "red",
           "lightgray",
           "blue",
           "lightgray",
           "lightgray",
           "lightgray",
           "blue",
           "yellow",
           "yellow",
           "yellow",
           "blue",
           "blue",
           "blue",
           "blue",
           "yellow",
           "red",
           "red",
           "yellow",
           "lightgray",
           "lightgray",
           "lightgray",
           "lightgray",
           "lightgray",
           "lightgray",
           "blue",
           "red",
           "yellow",
           "yellow",
           "blue",
           "blue",
           "yellow",
           "yellow",
           "red",
           "red",
           "red",
           "yellow",
           "lightgray",
           "lightgray",
           "lightgray",
           "lightgray",
           "lightgray",
           "lightgray",
           "blue",
           "blue",
           "yellow",
           "blue",
           "blue",
           "yellow",
           "yellow",
           "red",
           "red",
           "red",
           "lightgray",
           "yellow",
           "red",
           "lightgray",
           "lightgray",
           "lightgray",
           "lightgray",
           "lightgray",
           "lightgray",
           "lightgray",
           "blue",
           "yellow",
           "yellow",
           "yellow",
           "yellow",
           "yellow",
           "yellow",
           "red",
           "yellow",
           "lightgray",
           "red",
           "lightgray",
           "lightgray",
           "lightgray",
           "lightgray"
          ],
          "line": {
           "width": 1
          },
          "size": 14
         },
         "mode": "markers",
         "showlegend": false,
         "text": [
          "H",
          "He",
          "Li",
          "Be",
          "B",
          "C",
          "N",
          "O",
          "F",
          "Ne",
          "Na",
          "Mg",
          "Al",
          "Si",
          "P",
          "S",
          "Cl",
          "Ar",
          "K",
          "Ca",
          "Sc",
          "Ti",
          "V",
          "Cr",
          "Mn",
          "Fe",
          "Co",
          "Ni",
          "Cu",
          "Zn",
          "Ga",
          "Ge",
          "As",
          "Se",
          "Br",
          "Kr",
          "Rb",
          "Sr",
          "Y",
          "Zr",
          "Nb",
          "Mo",
          "Tc",
          "Ru",
          "Rh",
          "Pd",
          "Ag",
          "Cd",
          "In",
          "Sn",
          "Sb",
          "Te",
          "I",
          "Xe",
          "Cs",
          "Ba",
          "Hf",
          "Ta",
          "W",
          "Re",
          "Os",
          "Ir",
          "Pt",
          "Au",
          "Hg",
          "Tl",
          "Pb",
          "Bi",
          "La",
          "Ce",
          "Pr",
          "Nd",
          "Pm",
          "Sm",
          "Eu",
          "Gd",
          "Tb",
          "Dy",
          "Ho",
          "Er",
          "Tm",
          "Yb",
          "Lu",
          "Ac",
          "Th",
          "Pa",
          "U",
          "Np",
          "Pu"
         ],
         "type": "scatter",
         "x": [
          14.01,
          0.95,
          453.69,
          1560,
          2349,
          3800,
          63.05,
          54.8,
          53.53,
          24.56,
          370.87,
          923,
          933.47,
          1687,
          317.3,
          388.36,
          171.6,
          83.8,
          336.53,
          1115,
          1814,
          1941,
          2183,
          2180,
          1519,
          1811,
          1768,
          1728,
          1357.77,
          692.68,
          302.91,
          1211.4,
          1090,
          494,
          265.8,
          115.79,
          312.46,
          1050,
          1799,
          2128,
          2750,
          2896,
          2430,
          2607,
          2237,
          1828.05,
          1234.93,
          594.22,
          429.75,
          505.08,
          903.78,
          722.66,
          386.85,
          161.4,
          301.59,
          1000,
          2506,
          3290,
          3695,
          3459,
          3306,
          2739,
          2041.4,
          1337.33,
          234.32,
          577,
          600.61,
          544.4,
          1193,
          1068,
          1208,
          1297,
          1373,
          1345,
          1099,
          1585,
          1629,
          1680,
          1734,
          1802,
          1818,
          1097,
          1925,
          1323,
          2115,
          1841,
          1405.3,
          910,
          912.5
         ],
         "y": [
          null,
          null,
          4.9,
          287,
          null,
          null,
          null,
          null,
          null,
          null,
          10,
          45,
          70,
          47,
          null,
          null,
          null,
          null,
          null,
          20,
          74,
          116,
          128,
          279,
          198,
          211,
          209,
          200,
          130,
          108,
          null,
          null,
          8,
          10,
          null,
          null,
          2.4,
          null,
          64,
          68,
          105,
          329,
          null,
          447,
          275,
          121,
          83,
          50,
          11,
          50,
          55,
          43,
          null,
          null,
          1.7,
          13,
          78,
          186,
          411,
          463,
          null,
          528,
          168,
          78,
          null,
          8,
          16,
          32,
          37,
          34,
          37,
          41,
          46,
          50,
          18,
          55,
          56,
          61,
          65,
          70,
          74,
          24,
          69,
          null,
          79,
          null,
          208,
          null,
          96
         ]
        },
        {
         "marker": {
          "color": "red",
          "line": {
           "width": 1
          },
          "size": 14
         },
         "mode": "markers",
         "name": "FCC",
         "type": "scatter",
         "x": [
          null
         ],
         "y": [
          null
         ]
        },
        {
         "marker": {
          "color": "blue",
          "line": {
           "width": 1
          },
          "size": 14
         },
         "mode": "markers",
         "name": "BCC",
         "type": "scatter",
         "x": [
          null
         ],
         "y": [
          null
         ]
        },
        {
         "marker": {
          "color": "yellow",
          "line": {
           "width": 1
          },
          "size": 14
         },
         "mode": "markers",
         "name": "HCP",
         "type": "scatter",
         "x": [
          null
         ],
         "y": [
          null
         ]
        }
       ],
       "layout": {
        "height": 600,
        "hovermode": "closest",
        "legend": {
         "font": {
          "size": 24
         }
        },
        "showlegend": true,
        "template": {
         "data": {
          "bar": [
           {
            "error_x": {
             "color": "#2a3f5f"
            },
            "error_y": {
             "color": "#2a3f5f"
            },
            "marker": {
             "line": {
              "color": "#E5ECF6",
              "width": 0.5
             },
             "pattern": {
              "fillmode": "overlay",
              "size": 10,
              "solidity": 0.2
             }
            },
            "type": "bar"
           }
          ],
          "barpolar": [
           {
            "marker": {
             "line": {
              "color": "#E5ECF6",
              "width": 0.5
             },
             "pattern": {
              "fillmode": "overlay",
              "size": 10,
              "solidity": 0.2
             }
            },
            "type": "barpolar"
           }
          ],
          "carpet": [
           {
            "aaxis": {
             "endlinecolor": "#2a3f5f",
             "gridcolor": "white",
             "linecolor": "white",
             "minorgridcolor": "white",
             "startlinecolor": "#2a3f5f"
            },
            "baxis": {
             "endlinecolor": "#2a3f5f",
             "gridcolor": "white",
             "linecolor": "white",
             "minorgridcolor": "white",
             "startlinecolor": "#2a3f5f"
            },
            "type": "carpet"
           }
          ],
          "choropleth": [
           {
            "colorbar": {
             "outlinewidth": 0,
             "ticks": ""
            },
            "type": "choropleth"
           }
          ],
          "contour": [
           {
            "colorbar": {
             "outlinewidth": 0,
             "ticks": ""
            },
            "colorscale": [
             [
              0,
              "#0d0887"
             ],
             [
              0.1111111111111111,
              "#46039f"
             ],
             [
              0.2222222222222222,
              "#7201a8"
             ],
             [
              0.3333333333333333,
              "#9c179e"
             ],
             [
              0.4444444444444444,
              "#bd3786"
             ],
             [
              0.5555555555555556,
              "#d8576b"
             ],
             [
              0.6666666666666666,
              "#ed7953"
             ],
             [
              0.7777777777777778,
              "#fb9f3a"
             ],
             [
              0.8888888888888888,
              "#fdca26"
             ],
             [
              1,
              "#f0f921"
             ]
            ],
            "type": "contour"
           }
          ],
          "contourcarpet": [
           {
            "colorbar": {
             "outlinewidth": 0,
             "ticks": ""
            },
            "type": "contourcarpet"
           }
          ],
          "heatmap": [
           {
            "colorbar": {
             "outlinewidth": 0,
             "ticks": ""
            },
            "colorscale": [
             [
              0,
              "#0d0887"
             ],
             [
              0.1111111111111111,
              "#46039f"
             ],
             [
              0.2222222222222222,
              "#7201a8"
             ],
             [
              0.3333333333333333,
              "#9c179e"
             ],
             [
              0.4444444444444444,
              "#bd3786"
             ],
             [
              0.5555555555555556,
              "#d8576b"
             ],
             [
              0.6666666666666666,
              "#ed7953"
             ],
             [
              0.7777777777777778,
              "#fb9f3a"
             ],
             [
              0.8888888888888888,
              "#fdca26"
             ],
             [
              1,
              "#f0f921"
             ]
            ],
            "type": "heatmap"
           }
          ],
          "heatmapgl": [
           {
            "colorbar": {
             "outlinewidth": 0,
             "ticks": ""
            },
            "colorscale": [
             [
              0,
              "#0d0887"
             ],
             [
              0.1111111111111111,
              "#46039f"
             ],
             [
              0.2222222222222222,
              "#7201a8"
             ],
             [
              0.3333333333333333,
              "#9c179e"
             ],
             [
              0.4444444444444444,
              "#bd3786"
             ],
             [
              0.5555555555555556,
              "#d8576b"
             ],
             [
              0.6666666666666666,
              "#ed7953"
             ],
             [
              0.7777777777777778,
              "#fb9f3a"
             ],
             [
              0.8888888888888888,
              "#fdca26"
             ],
             [
              1,
              "#f0f921"
             ]
            ],
            "type": "heatmapgl"
           }
          ],
          "histogram": [
           {
            "marker": {
             "pattern": {
              "fillmode": "overlay",
              "size": 10,
              "solidity": 0.2
             }
            },
            "type": "histogram"
           }
          ],
          "histogram2d": [
           {
            "colorbar": {
             "outlinewidth": 0,
             "ticks": ""
            },
            "colorscale": [
             [
              0,
              "#0d0887"
             ],
             [
              0.1111111111111111,
              "#46039f"
             ],
             [
              0.2222222222222222,
              "#7201a8"
             ],
             [
              0.3333333333333333,
              "#9c179e"
             ],
             [
              0.4444444444444444,
              "#bd3786"
             ],
             [
              0.5555555555555556,
              "#d8576b"
             ],
             [
              0.6666666666666666,
              "#ed7953"
             ],
             [
              0.7777777777777778,
              "#fb9f3a"
             ],
             [
              0.8888888888888888,
              "#fdca26"
             ],
             [
              1,
              "#f0f921"
             ]
            ],
            "type": "histogram2d"
           }
          ],
          "histogram2dcontour": [
           {
            "colorbar": {
             "outlinewidth": 0,
             "ticks": ""
            },
            "colorscale": [
             [
              0,
              "#0d0887"
             ],
             [
              0.1111111111111111,
              "#46039f"
             ],
             [
              0.2222222222222222,
              "#7201a8"
             ],
             [
              0.3333333333333333,
              "#9c179e"
             ],
             [
              0.4444444444444444,
              "#bd3786"
             ],
             [
              0.5555555555555556,
              "#d8576b"
             ],
             [
              0.6666666666666666,
              "#ed7953"
             ],
             [
              0.7777777777777778,
              "#fb9f3a"
             ],
             [
              0.8888888888888888,
              "#fdca26"
             ],
             [
              1,
              "#f0f921"
             ]
            ],
            "type": "histogram2dcontour"
           }
          ],
          "mesh3d": [
           {
            "colorbar": {
             "outlinewidth": 0,
             "ticks": ""
            },
            "type": "mesh3d"
           }
          ],
          "parcoords": [
           {
            "line": {
             "colorbar": {
              "outlinewidth": 0,
              "ticks": ""
             }
            },
            "type": "parcoords"
           }
          ],
          "pie": [
           {
            "automargin": true,
            "type": "pie"
           }
          ],
          "scatter": [
           {
            "marker": {
             "colorbar": {
              "outlinewidth": 0,
              "ticks": ""
             }
            },
            "type": "scatter"
           }
          ],
          "scatter3d": [
           {
            "line": {
             "colorbar": {
              "outlinewidth": 0,
              "ticks": ""
             }
            },
            "marker": {
             "colorbar": {
              "outlinewidth": 0,
              "ticks": ""
             }
            },
            "type": "scatter3d"
           }
          ],
          "scattercarpet": [
           {
            "marker": {
             "colorbar": {
              "outlinewidth": 0,
              "ticks": ""
             }
            },
            "type": "scattercarpet"
           }
          ],
          "scattergeo": [
           {
            "marker": {
             "colorbar": {
              "outlinewidth": 0,
              "ticks": ""
             }
            },
            "type": "scattergeo"
           }
          ],
          "scattergl": [
           {
            "marker": {
             "colorbar": {
              "outlinewidth": 0,
              "ticks": ""
             }
            },
            "type": "scattergl"
           }
          ],
          "scattermapbox": [
           {
            "marker": {
             "colorbar": {
              "outlinewidth": 0,
              "ticks": ""
             }
            },
            "type": "scattermapbox"
           }
          ],
          "scatterpolar": [
           {
            "marker": {
             "colorbar": {
              "outlinewidth": 0,
              "ticks": ""
             }
            },
            "type": "scatterpolar"
           }
          ],
          "scatterpolargl": [
           {
            "marker": {
             "colorbar": {
              "outlinewidth": 0,
              "ticks": ""
             }
            },
            "type": "scatterpolargl"
           }
          ],
          "scatterternary": [
           {
            "marker": {
             "colorbar": {
              "outlinewidth": 0,
              "ticks": ""
             }
            },
            "type": "scatterternary"
           }
          ],
          "surface": [
           {
            "colorbar": {
             "outlinewidth": 0,
             "ticks": ""
            },
            "colorscale": [
             [
              0,
              "#0d0887"
             ],
             [
              0.1111111111111111,
              "#46039f"
             ],
             [
              0.2222222222222222,
              "#7201a8"
             ],
             [
              0.3333333333333333,
              "#9c179e"
             ],
             [
              0.4444444444444444,
              "#bd3786"
             ],
             [
              0.5555555555555556,
              "#d8576b"
             ],
             [
              0.6666666666666666,
              "#ed7953"
             ],
             [
              0.7777777777777778,
              "#fb9f3a"
             ],
             [
              0.8888888888888888,
              "#fdca26"
             ],
             [
              1,
              "#f0f921"
             ]
            ],
            "type": "surface"
           }
          ],
          "table": [
           {
            "cells": {
             "fill": {
              "color": "#EBF0F8"
             },
             "line": {
              "color": "white"
             }
            },
            "header": {
             "fill": {
              "color": "#C8D4E3"
             },
             "line": {
              "color": "white"
             }
            },
            "type": "table"
           }
          ]
         },
         "layout": {
          "annotationdefaults": {
           "arrowcolor": "#2a3f5f",
           "arrowhead": 0,
           "arrowwidth": 1
          },
          "autotypenumbers": "strict",
          "coloraxis": {
           "colorbar": {
            "outlinewidth": 0,
            "ticks": ""
           }
          },
          "colorscale": {
           "diverging": [
            [
             0,
             "#8e0152"
            ],
            [
             0.1,
             "#c51b7d"
            ],
            [
             0.2,
             "#de77ae"
            ],
            [
             0.3,
             "#f1b6da"
            ],
            [
             0.4,
             "#fde0ef"
            ],
            [
             0.5,
             "#f7f7f7"
            ],
            [
             0.6,
             "#e6f5d0"
            ],
            [
             0.7,
             "#b8e186"
            ],
            [
             0.8,
             "#7fbc41"
            ],
            [
             0.9,
             "#4d9221"
            ],
            [
             1,
             "#276419"
            ]
           ],
           "sequential": [
            [
             0,
             "#0d0887"
            ],
            [
             0.1111111111111111,
             "#46039f"
            ],
            [
             0.2222222222222222,
             "#7201a8"
            ],
            [
             0.3333333333333333,
             "#9c179e"
            ],
            [
             0.4444444444444444,
             "#bd3786"
            ],
            [
             0.5555555555555556,
             "#d8576b"
            ],
            [
             0.6666666666666666,
             "#ed7953"
            ],
            [
             0.7777777777777778,
             "#fb9f3a"
            ],
            [
             0.8888888888888888,
             "#fdca26"
            ],
            [
             1,
             "#f0f921"
            ]
           ],
           "sequentialminus": [
            [
             0,
             "#0d0887"
            ],
            [
             0.1111111111111111,
             "#46039f"
            ],
            [
             0.2222222222222222,
             "#7201a8"
            ],
            [
             0.3333333333333333,
             "#9c179e"
            ],
            [
             0.4444444444444444,
             "#bd3786"
            ],
            [
             0.5555555555555556,
             "#d8576b"
            ],
            [
             0.6666666666666666,
             "#ed7953"
            ],
            [
             0.7777777777777778,
             "#fb9f3a"
            ],
            [
             0.8888888888888888,
             "#fdca26"
            ],
            [
             1,
             "#f0f921"
            ]
           ]
          },
          "colorway": [
           "#636efa",
           "#EF553B",
           "#00cc96",
           "#ab63fa",
           "#FFA15A",
           "#19d3f3",
           "#FF6692",
           "#B6E880",
           "#FF97FF",
           "#FECB52"
          ],
          "font": {
           "color": "#2a3f5f"
          },
          "geo": {
           "bgcolor": "white",
           "lakecolor": "white",
           "landcolor": "#E5ECF6",
           "showlakes": true,
           "showland": true,
           "subunitcolor": "white"
          },
          "hoverlabel": {
           "align": "left"
          },
          "hovermode": "closest",
          "mapbox": {
           "style": "light"
          },
          "paper_bgcolor": "white",
          "plot_bgcolor": "#E5ECF6",
          "polar": {
           "angularaxis": {
            "gridcolor": "white",
            "linecolor": "white",
            "ticks": ""
           },
           "bgcolor": "#E5ECF6",
           "radialaxis": {
            "gridcolor": "white",
            "linecolor": "white",
            "ticks": ""
           }
          },
          "scene": {
           "xaxis": {
            "backgroundcolor": "#E5ECF6",
            "gridcolor": "white",
            "gridwidth": 2,
            "linecolor": "white",
            "showbackground": true,
            "ticks": "",
            "zerolinecolor": "white"
           },
           "yaxis": {
            "backgroundcolor": "#E5ECF6",
            "gridcolor": "white",
            "gridwidth": 2,
            "linecolor": "white",
            "showbackground": true,
            "ticks": "",
            "zerolinecolor": "white"
           },
           "zaxis": {
            "backgroundcolor": "#E5ECF6",
            "gridcolor": "white",
            "gridwidth": 2,
            "linecolor": "white",
            "showbackground": true,
            "ticks": "",
            "zerolinecolor": "white"
           }
          },
          "shapedefaults": {
           "line": {
            "color": "#2a3f5f"
           }
          },
          "ternary": {
           "aaxis": {
            "gridcolor": "white",
            "linecolor": "white",
            "ticks": ""
           },
           "baxis": {
            "gridcolor": "white",
            "linecolor": "white",
            "ticks": ""
           },
           "bgcolor": "#E5ECF6",
           "caxis": {
            "gridcolor": "white",
            "linecolor": "white",
            "ticks": ""
           }
          },
          "title": {
           "x": 0.05
          },
          "xaxis": {
           "automargin": true,
           "gridcolor": "white",
           "linecolor": "white",
           "ticks": "",
           "title": {
            "standoff": 15
           },
           "zerolinecolor": "white",
           "zerolinewidth": 2
          },
          "yaxis": {
           "automargin": true,
           "gridcolor": "white",
           "linecolor": "white",
           "ticks": "",
           "title": {
            "standoff": 15
           },
           "zerolinecolor": "white",
           "zerolinewidth": 2
          }
         }
        },
        "width": 600,
        "xaxis": {
         "autorange": true,
         "gridwidth": 1,
         "range": [
          -316.54985590778097,
          4117.499855907781
         ],
         "tickfont": {
          "size": 18
         },
         "title": {
          "font": {
           "size": 24
          },
          "text": "Melting Temperature (K)"
         },
         "type": "linear",
         "zeroline": false
        },
        "yaxis": {
         "autorange": true,
         "gridwidth": 1,
         "range": [
          -41.73252427184465,
          571.4325242718446
         ],
         "tickfont": {
          "size": 18
         },
         "title": {
          "font": {
           "size": 24
          },
          "text": "Young's Modulus (GPa)"
         },
         "type": "linear",
         "zeroline": false
        }
       }
      },
      "image/png": "[encoded data removed]",
      "text/html": [
       "<div>                            <div id=\"b6e0c44e-1409-4c08-bd62-8326917cf9c5\" class=\"plotly-graph-div\" style=\"height:600px; width:600px;\"></div>            <script type=\"text/javascript\">                require([\"plotly\"], function(Plotly) {                    window.PLOTLYENV=window.PLOTLYENV || {};                                    if (document.getElementById(\"b6e0c44e-1409-4c08-bd62-8326917cf9c5\")) {                    Plotly.newPlot(                        \"b6e0c44e-1409-4c08-bd62-8326917cf9c5\",                        [{\"marker\":{\"color\":[\"lightgray\",\"lightgray\",\"blue\",\"yellow\",\"lightgray\",\"lightgray\",\"lightgray\",\"lightgray\",\"lightgray\",\"lightgray\",\"blue\",\"yellow\",\"red\",\"lightgray\",\"blue\",\"lightgray\",\"lightgray\",\"lightgray\",\"blue\",\"yellow\",\"yellow\",\"yellow\",\"blue\",\"blue\",\"blue\",\"blue\",\"yellow\",\"red\",\"red\",\"yellow\",\"lightgray\",\"lightgray\",\"lightgray\",\"lightgray\",\"lightgray\",\"lightgray\",\"blue\",\"red\",\"yellow\",\"yellow\",\"blue\",\"blue\",\"yellow\",\"yellow\",\"red\",\"red\",\"red\",\"yellow\",\"lightgray\",\"lightgray\",\"lightgray\",\"lightgray\",\"lightgray\",\"lightgray\",\"blue\",\"blue\",\"yellow\",\"blue\",\"blue\",\"yellow\",\"yellow\",\"red\",\"red\",\"red\",\"lightgray\",\"yellow\",\"red\",\"lightgray\",\"lightgray\",\"lightgray\",\"lightgray\",\"lightgray\",\"lightgray\",\"lightgray\",\"blue\",\"yellow\",\"yellow\",\"yellow\",\"yellow\",\"yellow\",\"yellow\",\"red\",\"yellow\",\"lightgray\",\"red\",\"lightgray\",\"lightgray\",\"lightgray\",\"lightgray\"],\"line\":{\"width\":1},\"size\":14},\"mode\":\"markers\",\"showlegend\":false,\"text\":[\"H\",\"He\",\"Li\",\"Be\",\"B\",\"C\",\"N\",\"O\",\"F\",\"Ne\",\"Na\",\"Mg\",\"Al\",\"Si\",\"P\",\"S\",\"Cl\",\"Ar\",\"K\",\"Ca\",\"Sc\",\"Ti\",\"V\",\"Cr\",\"Mn\",\"Fe\",\"Co\",\"Ni\",\"Cu\",\"Zn\",\"Ga\",\"Ge\",\"As\",\"Se\",\"Br\",\"Kr\",\"Rb\",\"Sr\",\"Y\",\"Zr\",\"Nb\",\"Mo\",\"Tc\",\"Ru\",\"Rh\",\"Pd\",\"Ag\",\"Cd\",\"In\",\"Sn\",\"Sb\",\"Te\",\"I\",\"Xe\",\"Cs\",\"Ba\",\"Hf\",\"Ta\",\"W\",\"Re\",\"Os\",\"Ir\",\"Pt\",\"Au\",\"Hg\",\"Tl\",\"Pb\",\"Bi\",\"La\",\"Ce\",\"Pr\",\"Nd\",\"Pm\",\"Sm\",\"Eu\",\"Gd\",\"Tb\",\"Dy\",\"Ho\",\"Er\",\"Tm\",\"Yb\",\"Lu\",\"Ac\",\"Th\",\"Pa\",\"U\",\"Np\",\"Pu\"],\"x\":[14.01,0.95,453.69,1560.0,2349.0,3800.0,63.05,54.8,53.53,24.56,370.87,923.0,933.47,1687.0,317.3,388.36,171.6,83.8,336.53,1115.0,1814.0,1941.0,2183.0,2180.0,1519.0,1811.0,1768.0,1728.0,1357.77,692.68,302.91,1211.4,1090.0,494.0,265.8,115.79,312.46,1050.0,1799.0,2128.0,2750.0,2896.0,2430.0,2607.0,2237.0,1828.05,1234.93,594.22,429.75,505.08,903.78,722.66,386.85,161.4,301.59,1000.0,2506.0,3290.0,3695.0,3459.0,3306.0,2739.0,2041.4,1337.33,234.32,577.0,600.61,544.4,1193.0,1068.0,1208.0,1297.0,1373.0,1345.0,1099.0,1585.0,1629.0,1680.0,1734.0,1802.0,1818.0,1097.0,1925.0,1323.0,2115.0,1841.0,1405.3,910.0,912.5],\"y\":[null,null,4.9,287.0,null,null,null,null,null,null,10.0,45.0,70.0,47.0,null,null,null,null,null,20.0,74.0,116.0,128.0,279.0,198.0,211.0,209.0,200.0,130.0,108.0,null,null,8.0,10.0,null,null,2.4,null,64.0,68.0,105.0,329.0,null,447.0,275.0,121.0,83.0,50.0,11.0,50.0,55.0,43.0,null,null,1.7,13.0,78.0,186.0,411.0,463.0,null,528.0,168.0,78.0,null,8.0,16.0,32.0,37.0,34.0,37.0,41.0,46.0,50.0,18.0,55.0,56.0,61.0,65.0,70.0,74.0,24.0,69.0,null,79.0,null,208.0,null,96.0],\"type\":\"scatter\"},{\"marker\":{\"color\":\"red\",\"line\":{\"width\":1},\"size\":14},\"mode\":\"markers\",\"name\":\"FCC\",\"x\":[null],\"y\":[null],\"type\":\"scatter\"},{\"marker\":{\"color\":\"blue\",\"line\":{\"width\":1},\"size\":14},\"mode\":\"markers\",\"name\":\"BCC\",\"x\":[null],\"y\":[null],\"type\":\"scatter\"},{\"marker\":{\"color\":\"yellow\",\"line\":{\"width\":1},\"size\":14},\"mode\":\"markers\",\"name\":\"HCP\",\"x\":[null],\"y\":[null],\"type\":\"scatter\"}],                        {\"height\":600,\"hovermode\":\"closest\",\"legend\":{\"font\":{\"size\":24}},\"showlegend\":true,\"template\":{\"data\":{\"barpolar\":[{\"marker\":{\"line\":{\"color\":\"#E5ECF6\",\"width\":0.5},\"pattern\":{\"fillmode\":\"overlay\",\"size\":10,\"solidity\":0.2}},\"type\":\"barpolar\"}],\"bar\":[{\"error_x\":{\"color\":\"#2a3f5f\"},\"error_y\":{\"color\":\"#2a3f5f\"},\"marker\":{\"line\":{\"color\":\"#E5ECF6\",\"width\":0.5},\"pattern\":{\"fillmode\":\"overlay\",\"size\":10,\"solidity\":0.2}},\"type\":\"bar\"}],\"carpet\":[{\"aaxis\":{\"endlinecolor\":\"#2a3f5f\",\"gridcolor\":\"white\",\"linecolor\":\"white\",\"minorgridcolor\":\"white\",\"startlinecolor\":\"#2a3f5f\"},\"baxis\":{\"endlinecolor\":\"#2a3f5f\",\"gridcolor\":\"white\",\"linecolor\":\"white\",\"minorgridcolor\":\"white\",\"startlinecolor\":\"#2a3f5f\"},\"type\":\"carpet\"}],\"choropleth\":[{\"colorbar\":{\"outlinewidth\":0,\"ticks\":\"\"},\"type\":\"choropleth\"}],\"contourcarpet\":[{\"colorbar\":{\"outlinewidth\":0,\"ticks\":\"\"},\"type\":\"contourcarpet\"}],\"contour\":[{\"colorbar\":{\"outlinewidth\":0,\"ticks\":\"\"},\"colorscale\":[[0.0,\"#0d0887\"],[0.1111111111111111,\"#46039f\"],[0.2222222222222222,\"#7201a8\"],[0.3333333333333333,\"#9c179e\"],[0.4444444444444444,\"#bd3786\"],[0.5555555555555556,\"#d8576b\"],[0.6666666666666666,\"#ed7953\"],[0.7777777777777778,\"#fb9f3a\"],[0.8888888888888888,\"#fdca26\"],[1.0,\"#f0f921\"]],\"type\":\"contour\"}],\"heatmapgl\":[{\"colorbar\":{\"outlinewidth\":0,\"ticks\":\"\"},\"colorscale\":[[0.0,\"#0d0887\"],[0.1111111111111111,\"#46039f\"],[0.2222222222222222,\"#7201a8\"],[0.3333333333333333,\"#9c179e\"],[0.4444444444444444,\"#bd3786\"],[0.5555555555555556,\"#d8576b\"],[0.6666666666666666,\"#ed7953\"],[0.7777777777777778,\"#fb9f3a\"],[0.8888888888888888,\"#fdca26\"],[1.0,\"#f0f921\"]],\"type\":\"heatmapgl\"}],\"heatmap\":[{\"colorbar\":{\"outlinewidth\":0,\"ticks\":\"\"},\"colorscale\":[[0.0,\"#0d0887\"],[0.1111111111111111,\"#46039f\"],[0.2222222222222222,\"#7201a8\"],[0.3333333333333333,\"#9c179e\"],[0.4444444444444444,\"#bd3786\"],[0.5555555555555556,\"#d8576b\"],[0.6666666666666666,\"#ed7953\"],[0.7777777777777778,\"#fb9f3a\"],[0.8888888888888888,\"#fdca26\"],[1.0,\"#f0f921\"]],\"type\":\"heatmap\"}],\"histogram2dcontour\":[{\"colorbar\":{\"outlinewidth\":0,\"ticks\":\"\"},\"colorscale\":[[0.0,\"#0d0887\"],[0.1111111111111111,\"#46039f\"],[0.2222222222222222,\"#7201a8\"],[0.3333333333333333,\"#9c179e\"],[0.4444444444444444,\"#bd3786\"],[0.5555555555555556,\"#d8576b\"],[0.6666666666666666,\"#ed7953\"],[0.7777777777777778,\"#fb9f3a\"],[0.8888888888888888,\"#fdca26\"],[1.0,\"#f0f921\"]],\"type\":\"histogram2dcontour\"}],\"histogram2d\":[{\"colorbar\":{\"outlinewidth\":0,\"ticks\":\"\"},\"colorscale\":[[0.0,\"#0d0887\"],[0.1111111111111111,\"#46039f\"],[0.2222222222222222,\"#7201a8\"],[0.3333333333333333,\"#9c179e\"],[0.4444444444444444,\"#bd3786\"],[0.5555555555555556,\"#d8576b\"],[0.6666666666666666,\"#ed7953\"],[0.7777777777777778,\"#fb9f3a\"],[0.8888888888888888,\"#fdca26\"],[1.0,\"#f0f921\"]],\"type\":\"histogram2d\"}],\"histogram\":[{\"marker\":{\"pattern\":{\"fillmode\":\"overlay\",\"size\":10,\"solidity\":0.2}},\"type\":\"histogram\"}],\"mesh3d\":[{\"colorbar\":{\"outlinewidth\":0,\"ticks\":\"\"},\"type\":\"mesh3d\"}],\"parcoords\":[{\"line\":{\"colorbar\":{\"outlinewidth\":0,\"ticks\":\"\"}},\"type\":\"parcoords\"}],\"pie\":[{\"automargin\":true,\"type\":\"pie\"}],\"scatter3d\":[{\"line\":{\"colorbar\":{\"outlinewidth\":0,\"ticks\":\"\"}},\"marker\":{\"colorbar\":{\"outlinewidth\":0,\"ticks\":\"\"}},\"type\":\"scatter3d\"}],\"scattercarpet\":[{\"marker\":{\"colorbar\":{\"outlinewidth\":0,\"ticks\":\"\"}},\"type\":\"scattercarpet\"}],\"scattergeo\":[{\"marker\":{\"colorbar\":{\"outlinewidth\":0,\"ticks\":\"\"}},\"type\":\"scattergeo\"}],\"scattergl\":[{\"marker\":{\"colorbar\":{\"outlinewidth\":0,\"ticks\":\"\"}},\"type\":\"scattergl\"}],\"scattermapbox\":[{\"marker\":{\"colorbar\":{\"outlinewidth\":0,\"ticks\":\"\"}},\"type\":\"scattermapbox\"}],\"scatterpolargl\":[{\"marker\":{\"colorbar\":{\"outlinewidth\":0,\"ticks\":\"\"}},\"type\":\"scatterpolargl\"}],\"scatterpolar\":[{\"marker\":{\"colorbar\":{\"outlinewidth\":0,\"ticks\":\"\"}},\"type\":\"scatterpolar\"}],\"scatter\":[{\"marker\":{\"colorbar\":{\"outlinewidth\":0,\"ticks\":\"\"}},\"type\":\"scatter\"}],\"scatterternary\":[{\"marker\":{\"colorbar\":{\"outlinewidth\":0,\"ticks\":\"\"}},\"type\":\"scatterternary\"}],\"surface\":[{\"colorbar\":{\"outlinewidth\":0,\"ticks\":\"\"},\"colorscale\":[[0.0,\"#0d0887\"],[0.1111111111111111,\"#46039f\"],[0.2222222222222222,\"#7201a8\"],[0.3333333333333333,\"#9c179e\"],[0.4444444444444444,\"#bd3786\"],[0.5555555555555556,\"#d8576b\"],[0.6666666666666666,\"#ed7953\"],[0.7777777777777778,\"#fb9f3a\"],[0.8888888888888888,\"#fdca26\"],[1.0,\"#f0f921\"]],\"type\":\"surface\"}],\"table\":[{\"cells\":{\"fill\":{\"color\":\"#EBF0F8\"},\"line\":{\"color\":\"white\"}},\"header\":{\"fill\":{\"color\":\"#C8D4E3\"},\"line\":{\"color\":\"white\"}},\"type\":\"table\"}]},\"layout\":{\"annotationdefaults\":{\"arrowcolor\":\"#2a3f5f\",\"arrowhead\":0,\"arrowwidth\":1},\"autotypenumbers\":\"strict\",\"coloraxis\":{\"colorbar\":{\"outlinewidth\":0,\"ticks\":\"\"}},\"colorscale\":{\"diverging\":[[0,\"#8e0152\"],[0.1,\"#c51b7d\"],[0.2,\"#de77ae\"],[0.3,\"#f1b6da\"],[0.4,\"#fde0ef\"],[0.5,\"#f7f7f7\"],[0.6,\"#e6f5d0\"],[0.7,\"#b8e186\"],[0.8,\"#7fbc41\"],[0.9,\"#4d9221\"],[1,\"#276419\"]],\"sequential\":[[0.0,\"#0d0887\"],[0.1111111111111111,\"#46039f\"],[0.2222222222222222,\"#7201a8\"],[0.3333333333333333,\"#9c179e\"],[0.4444444444444444,\"#bd3786\"],[0.5555555555555556,\"#d8576b\"],[0.6666666666666666,\"#ed7953\"],[0.7777777777777778,\"#fb9f3a\"],[0.8888888888888888,\"#fdca26\"],[1.0,\"#f0f921\"]],\"sequentialminus\":[[0.0,\"#0d0887\"],[0.1111111111111111,\"#46039f\"],[0.2222222222222222,\"#7201a8\"],[0.3333333333333333,\"#9c179e\"],[0.4444444444444444,\"#bd3786\"],[0.5555555555555556,\"#d8576b\"],[0.6666666666666666,\"#ed7953\"],[0.7777777777777778,\"#fb9f3a\"],[0.8888888888888888,\"#fdca26\"],[1.0,\"#f0f921\"]]},\"colorway\":[\"#636efa\",\"#EF553B\",\"#00cc96\",\"#ab63fa\",\"#FFA15A\",\"#19d3f3\",\"#FF6692\",\"#B6E880\",\"#FF97FF\",\"#FECB52\"],\"font\":{\"color\":\"#2a3f5f\"},\"geo\":{\"bgcolor\":\"white\",\"lakecolor\":\"white\",\"landcolor\":\"#E5ECF6\",\"showlakes\":true,\"showland\":true,\"subunitcolor\":\"white\"},\"hoverlabel\":{\"align\":\"left\"},\"hovermode\":\"closest\",\"mapbox\":{\"style\":\"light\"},\"paper_bgcolor\":\"white\",\"plot_bgcolor\":\"#E5ECF6\",\"polar\":{\"angularaxis\":{\"gridcolor\":\"white\",\"linecolor\":\"white\",\"ticks\":\"\"},\"bgcolor\":\"#E5ECF6\",\"radialaxis\":{\"gridcolor\":\"white\",\"linecolor\":\"white\",\"ticks\":\"\"}},\"scene\":{\"xaxis\":{\"backgroundcolor\":\"#E5ECF6\",\"gridcolor\":\"white\",\"gridwidth\":2,\"linecolor\":\"white\",\"showbackground\":true,\"ticks\":\"\",\"zerolinecolor\":\"white\"},\"yaxis\":{\"backgroundcolor\":\"#E5ECF6\",\"gridcolor\":\"white\",\"gridwidth\":2,\"linecolor\":\"white\",\"showbackground\":true,\"ticks\":\"\",\"zerolinecolor\":\"white\"},\"zaxis\":{\"backgroundcolor\":\"#E5ECF6\",\"gridcolor\":\"white\",\"gridwidth\":2,\"linecolor\":\"white\",\"showbackground\":true,\"ticks\":\"\",\"zerolinecolor\":\"white\"}},\"shapedefaults\":{\"line\":{\"color\":\"#2a3f5f\"}},\"ternary\":{\"aaxis\":{\"gridcolor\":\"white\",\"linecolor\":\"white\",\"ticks\":\"\"},\"baxis\":{\"gridcolor\":\"white\",\"linecolor\":\"white\",\"ticks\":\"\"},\"bgcolor\":\"#E5ECF6\",\"caxis\":{\"gridcolor\":\"white\",\"linecolor\":\"white\",\"ticks\":\"\"}},\"title\":{\"x\":0.05},\"xaxis\":{\"automargin\":true,\"gridcolor\":\"white\",\"linecolor\":\"white\",\"ticks\":\"\",\"title\":{\"standoff\":15},\"zerolinecolor\":\"white\",\"zerolinewidth\":2},\"yaxis\":{\"automargin\":true,\"gridcolor\":\"white\",\"linecolor\":\"white\",\"ticks\":\"\",\"title\":{\"standoff\":15},\"zerolinecolor\":\"white\",\"zerolinewidth\":2}}},\"width\":600,\"xaxis\":{\"gridwidth\":1,\"tickfont\":{\"size\":18},\"title\":{\"font\":{\"size\":24},\"text\":\"Melting Temperature (K)\"},\"zeroline\":false},\"yaxis\":{\"gridwidth\":1,\"tickfont\":{\"size\":18},\"title\":{\"font\":{\"size\":24},\"text\":\"Young's Modulus (GPa)\"},\"zeroline\":false}},                        {\"responsive\": true}                    ).then(function(){\n",
       "                            \n",
       "var gd = document.getElementById('b6e0c44e-1409-4c08-bd62-8326917cf9c5');\n",
       "var x = new MutationObserver(function (mutations, observer) {{\n",
       "        var display = window.getComputedStyle(gd).display;\n",
       "        if (!display || display === 'none') {{\n",
       "            console.log([gd, 'removed!']);\n",
       "            Plotly.purge(gd);\n",
       "            observer.disconnect();\n",
       "        }}\n",
       "}});\n",
       "\n",
       "// Listen for the removal of the full notebook cells\n",
       "var notebookContainer = gd.closest('#notebook-container');\n",
       "if (notebookContainer) {{\n",
       "    x.observe(notebookContainer, {childList: true});\n",
       "}}\n",
       "\n",
       "// Listen for the clearing of the current output cell\n",
       "var outputEl = gd.closest('.output');\n",
       "if (outputEl) {{\n",
       "    x.observe(outputEl, {childList: true});\n",
       "}}\n",
       "\n",
       "                        })                };                });            </script>        </div>"
      ]
     },
     "metadata": {},
     "output_type": "display_data"
    }
   ],
   "source": [
    "layout0= go.Layout(hovermode= 'closest', width = 600, height=600, showlegend=True,  # Hovermode establishes the way the labels that appear when you hover are arranged # Establishing a square plot width=height\n",
    "    xaxis= dict(title=go.layout.xaxis.Title(text='Melting Temperature (K)', font=dict(size=24)), zeroline= False, gridwidth= 1, tickfont=dict(size=18)), # Axis Titles. Removing the X-axis Mark. Adding a Grid\n",
    "    yaxis= dict(title=go.layout.yaxis.Title(text=\"Young's Modulus (GPa)\", font=dict(size=24)), zeroline= False, gridwidth= 1, tickfont=dict(size=18)), # Axis Titles. Removing the Y-axis Mark. Adding a Grid\n",
    "    legend=dict(font=dict(size=24))) # Adding a legend\n",
    "\n",
    "# Trace\n",
    "\n",
    "trace0 = go.Scatter(x = melting_temperature,y = youngs_modulus, mode = 'markers',\n",
    "    marker= dict(size= 14, line= dict(width=1), color=colors), # We add a size, a border and our custom colors to the markers\n",
    "    text= sample, # This attribute (Text) labels each point to this list, which contains our elements in the same indexes as our properties\n",
    "showlegend = False)\n",
    "\n",
    "\n",
    "# Empty Traces for Legend\n",
    "legend_plot_FCC = go.Scatter(x=[None], y=[None], mode='markers', marker=dict(size=14,  line= dict(width=1),color='red'), name = 'FCC')\n",
    "legend_plot_BCC = go.Scatter(x=[None], y=[None], mode='markers', marker=dict(size=14,  line= dict(width=1),color='blue'), name = 'BCC')\n",
    "legend_plot_HCP = go.Scatter(x=[None], y=[None], mode='markers', marker=dict(size=14,  line= dict(width=1),color='yellow'), name = 'HCP')\n",
    "\n",
    "\n",
    "data = [trace0, legend_plot_FCC, legend_plot_BCC, legend_plot_HCP]\n",
    "\n",
    "fig= go.Figure(data, layout=layout0)\n",
    "iplot(fig)"
   ]
  },
  {
   "cell_type": "markdown",
   "id": "ff4e24cd-84c9-4409-8f3e-72adb35c83c1",
   "metadata": {},
   "source": [
    "<font color=blue> **Exercise 3.**  a) Find the three metals with highest Young's moduli. b) What are the Young's moduli of Al, Fe and Pb? </font>"
   ]
  },
  {
   "cell_type": "code",
   "execution_count": 13,
   "id": "28124052-ec57-4088-ae09-d3ad1410834f",
   "metadata": {
    "execution": {
     "iopub.execute_input": "2023-08-02T17:46:32.109073Z",
     "iopub.status.busy": "2023-08-02T17:46:32.108434Z",
     "iopub.status.idle": "2023-08-02T17:46:32.350515Z",
     "shell.execute_reply": "2023-08-02T17:46:32.349048Z",
     "shell.execute_reply.started": "2023-08-02T17:46:32.109019Z"
    }
   },
   "outputs": [
    {
     "data": {
      "application/vnd.plotly.v1+json": {
       "config": {
        "linkText": "Export to plot.ly",
        "plotlyServerURL": "https://plot.ly",
        "showLink": false
       },
       "data": [
        {
         "marker": {
          "color": [
           "lightgray",
           "lightgray",
           "blue",
           "yellow",
           "lightgray",
           "lightgray",
           "lightgray",
           "lightgray",
           "lightgray",
           "lightgray",
           "blue",
           "yellow",
           "red",
           "lightgray",
           "blue",
           "lightgray",
           "lightgray",
           "lightgray",
           "blue",
           "yellow",
           "yellow",
           "yellow",
           "blue",
           "blue",
           "blue",
           "blue",
           "yellow",
           "red",
           "red",
           "yellow",
           "lightgray",
           "lightgray",
           "lightgray",
           "lightgray",
           "lightgray",
           "lightgray",
           "blue",
           "red",
           "yellow",
           "yellow",
           "blue",
           "blue",
           "yellow",
           "yellow",
           "red",
           "red",
           "red",
           "yellow",
           "lightgray",
           "lightgray",
           "lightgray",
           "lightgray",
           "lightgray",
           "lightgray",
           "blue",
           "blue",
           "yellow",
           "blue",
           "blue",
           "yellow",
           "yellow",
           "red",
           "red",
           "red",
           "lightgray",
           "yellow",
           "red",
           "lightgray",
           "lightgray",
           "lightgray",
           "lightgray",
           "lightgray",
           "lightgray",
           "lightgray",
           "blue",
           "yellow",
           "yellow",
           "yellow",
           "yellow",
           "yellow",
           "yellow",
           "red",
           "yellow",
           "lightgray",
           "red",
           "lightgray",
           "lightgray",
           "lightgray",
           "lightgray"
          ],
          "line": {
           "width": 1
          },
          "size": 14
         },
         "mode": "markers",
         "showlegend": false,
         "text": [
          "H",
          "He",
          "Li",
          "Be",
          "B",
          "C",
          "N",
          "O",
          "F",
          "Ne",
          "Na",
          "Mg",
          "Al",
          "Si",
          "P",
          "S",
          "Cl",
          "Ar",
          "K",
          "Ca",
          "Sc",
          "Ti",
          "V",
          "Cr",
          "Mn",
          "Fe",
          "Co",
          "Ni",
          "Cu",
          "Zn",
          "Ga",
          "Ge",
          "As",
          "Se",
          "Br",
          "Kr",
          "Rb",
          "Sr",
          "Y",
          "Zr",
          "Nb",
          "Mo",
          "Tc",
          "Ru",
          "Rh",
          "Pd",
          "Ag",
          "Cd",
          "In",
          "Sn",
          "Sb",
          "Te",
          "I",
          "Xe",
          "Cs",
          "Ba",
          "Hf",
          "Ta",
          "W",
          "Re",
          "Os",
          "Ir",
          "Pt",
          "Au",
          "Hg",
          "Tl",
          "Pb",
          "Bi",
          "La",
          "Ce",
          "Pr",
          "Nd",
          "Pm",
          "Sm",
          "Eu",
          "Gd",
          "Tb",
          "Dy",
          "Ho",
          "Er",
          "Tm",
          "Yb",
          "Lu",
          "Ac",
          "Th",
          "Pa",
          "U",
          "Np",
          "Pu"
         ],
         "type": "scatter",
         "x": [
          14.01,
          0.95,
          453.69,
          1560,
          2349,
          3800,
          63.05,
          54.8,
          53.53,
          24.56,
          370.87,
          923,
          933.47,
          1687,
          317.3,
          388.36,
          171.6,
          83.8,
          336.53,
          1115,
          1814,
          1941,
          2183,
          2180,
          1519,
          1811,
          1768,
          1728,
          1357.77,
          692.68,
          302.91,
          1211.4,
          1090,
          494,
          265.8,
          115.79,
          312.46,
          1050,
          1799,
          2128,
          2750,
          2896,
          2430,
          2607,
          2237,
          1828.05,
          1234.93,
          594.22,
          429.75,
          505.08,
          903.78,
          722.66,
          386.85,
          161.4,
          301.59,
          1000,
          2506,
          3290,
          3695,
          3459,
          3306,
          2739,
          2041.4,
          1337.33,
          234.32,
          577,
          600.61,
          544.4,
          1193,
          1068,
          1208,
          1297,
          1373,
          1345,
          1099,
          1585,
          1629,
          1680,
          1734,
          1802,
          1818,
          1097,
          1925,
          1323,
          2115,
          1841,
          1405.3,
          910,
          912.5
         ],
         "y": [
          null,
          null,
          4.6e-05,
          1.13e-05,
          6e-06,
          7.1e-06,
          null,
          null,
          null,
          null,
          7.1e-05,
          8.2e-06,
          2.31e-05,
          2.6e-06,
          null,
          null,
          null,
          null,
          null,
          2.23e-05,
          1.02e-05,
          8.6e-06,
          8.4e-06,
          4.9e-06,
          2.17e-05,
          1.18e-05,
          1.3e-05,
          1.34e-05,
          1.65e-05,
          3.02e-05,
          0.00012,
          6e-06,
          null,
          null,
          null,
          null,
          null,
          2.25e-05,
          1.06e-05,
          5.7e-06,
          7.3e-06,
          4.8e-06,
          null,
          6.4e-06,
          8.2e-06,
          1.18e-05,
          1.89e-05,
          3.08e-05,
          3.21e-05,
          2.2e-05,
          1.1e-05,
          null,
          null,
          null,
          null,
          2.06e-05,
          5.9e-06,
          6.3e-06,
          4.5e-06,
          6.2e-06,
          5.1e-06,
          6.4e-06,
          8.8e-06,
          1.42e-05,
          null,
          2.99e-05,
          2.89e-05,
          1.34e-05,
          1.21e-05,
          6.3e-06,
          6.7e-06,
          9.6e-06,
          1.1e-05,
          1.27e-05,
          3.5e-05,
          9.4e-06,
          1.03e-05,
          9.9e-06,
          1.12e-05,
          1.22e-05,
          1.33e-05,
          2.63e-05,
          9.9e-06,
          null,
          1.1e-05,
          null,
          1.39e-05,
          null,
          null
         ]
        },
        {
         "marker": {
          "color": "red",
          "line": {
           "width": 1
          },
          "size": 14
         },
         "mode": "markers",
         "name": "FCC",
         "type": "scatter",
         "x": [
          null
         ],
         "y": [
          null
         ]
        },
        {
         "marker": {
          "color": "blue",
          "line": {
           "width": 1
          },
          "size": 14
         },
         "mode": "markers",
         "name": "BCC",
         "type": "scatter",
         "x": [
          null
         ],
         "y": [
          null
         ]
        },
        {
         "marker": {
          "color": "yellow",
          "line": {
           "width": 1
          },
          "size": 14
         },
         "mode": "markers",
         "name": "HCP",
         "type": "scatter",
         "x": [
          null
         ],
         "y": [
          null
         ]
        }
       ],
       "layout": {
        "height": 600,
        "hovermode": "closest",
        "legend": {
         "font": {
          "size": 24
         }
        },
        "showlegend": true,
        "template": {
         "data": {
          "bar": [
           {
            "error_x": {
             "color": "#2a3f5f"
            },
            "error_y": {
             "color": "#2a3f5f"
            },
            "marker": {
             "line": {
              "color": "#E5ECF6",
              "width": 0.5
             },
             "pattern": {
              "fillmode": "overlay",
              "size": 10,
              "solidity": 0.2
             }
            },
            "type": "bar"
           }
          ],
          "barpolar": [
           {
            "marker": {
             "line": {
              "color": "#E5ECF6",
              "width": 0.5
             },
             "pattern": {
              "fillmode": "overlay",
              "size": 10,
              "solidity": 0.2
             }
            },
            "type": "barpolar"
           }
          ],
          "carpet": [
           {
            "aaxis": {
             "endlinecolor": "#2a3f5f",
             "gridcolor": "white",
             "linecolor": "white",
             "minorgridcolor": "white",
             "startlinecolor": "#2a3f5f"
            },
            "baxis": {
             "endlinecolor": "#2a3f5f",
             "gridcolor": "white",
             "linecolor": "white",
             "minorgridcolor": "white",
             "startlinecolor": "#2a3f5f"
            },
            "type": "carpet"
           }
          ],
          "choropleth": [
           {
            "colorbar": {
             "outlinewidth": 0,
             "ticks": ""
            },
            "type": "choropleth"
           }
          ],
          "contour": [
           {
            "colorbar": {
             "outlinewidth": 0,
             "ticks": ""
            },
            "colorscale": [
             [
              0,
              "#0d0887"
             ],
             [
              0.1111111111111111,
              "#46039f"
             ],
             [
              0.2222222222222222,
              "#7201a8"
             ],
             [
              0.3333333333333333,
              "#9c179e"
             ],
             [
              0.4444444444444444,
              "#bd3786"
             ],
             [
              0.5555555555555556,
              "#d8576b"
             ],
             [
              0.6666666666666666,
              "#ed7953"
             ],
             [
              0.7777777777777778,
              "#fb9f3a"
             ],
             [
              0.8888888888888888,
              "#fdca26"
             ],
             [
              1,
              "#f0f921"
             ]
            ],
            "type": "contour"
           }
          ],
          "contourcarpet": [
           {
            "colorbar": {
             "outlinewidth": 0,
             "ticks": ""
            },
            "type": "contourcarpet"
           }
          ],
          "heatmap": [
           {
            "colorbar": {
             "outlinewidth": 0,
             "ticks": ""
            },
            "colorscale": [
             [
              0,
              "#0d0887"
             ],
             [
              0.1111111111111111,
              "#46039f"
             ],
             [
              0.2222222222222222,
              "#7201a8"
             ],
             [
              0.3333333333333333,
              "#9c179e"
             ],
             [
              0.4444444444444444,
              "#bd3786"
             ],
             [
              0.5555555555555556,
              "#d8576b"
             ],
             [
              0.6666666666666666,
              "#ed7953"
             ],
             [
              0.7777777777777778,
              "#fb9f3a"
             ],
             [
              0.8888888888888888,
              "#fdca26"
             ],
             [
              1,
              "#f0f921"
             ]
            ],
            "type": "heatmap"
           }
          ],
          "heatmapgl": [
           {
            "colorbar": {
             "outlinewidth": 0,
             "ticks": ""
            },
            "colorscale": [
             [
              0,
              "#0d0887"
             ],
             [
              0.1111111111111111,
              "#46039f"
             ],
             [
              0.2222222222222222,
              "#7201a8"
             ],
             [
              0.3333333333333333,
              "#9c179e"
             ],
             [
              0.4444444444444444,
              "#bd3786"
             ],
             [
              0.5555555555555556,
              "#d8576b"
             ],
             [
              0.6666666666666666,
              "#ed7953"
             ],
             [
              0.7777777777777778,
              "#fb9f3a"
             ],
             [
              0.8888888888888888,
              "#fdca26"
             ],
             [
              1,
              "#f0f921"
             ]
            ],
            "type": "heatmapgl"
           }
          ],
          "histogram": [
           {
            "marker": {
             "pattern": {
              "fillmode": "overlay",
              "size": 10,
              "solidity": 0.2
             }
            },
            "type": "histogram"
           }
          ],
          "histogram2d": [
           {
            "colorbar": {
             "outlinewidth": 0,
             "ticks": ""
            },
            "colorscale": [
             [
              0,
              "#0d0887"
             ],
             [
              0.1111111111111111,
              "#46039f"
             ],
             [
              0.2222222222222222,
              "#7201a8"
             ],
             [
              0.3333333333333333,
              "#9c179e"
             ],
             [
              0.4444444444444444,
              "#bd3786"
             ],
             [
              0.5555555555555556,
              "#d8576b"
             ],
             [
              0.6666666666666666,
              "#ed7953"
             ],
             [
              0.7777777777777778,
              "#fb9f3a"
             ],
             [
              0.8888888888888888,
              "#fdca26"
             ],
             [
              1,
              "#f0f921"
             ]
            ],
            "type": "histogram2d"
           }
          ],
          "histogram2dcontour": [
           {
            "colorbar": {
             "outlinewidth": 0,
             "ticks": ""
            },
            "colorscale": [
             [
              0,
              "#0d0887"
             ],
             [
              0.1111111111111111,
              "#46039f"
             ],
             [
              0.2222222222222222,
              "#7201a8"
             ],
             [
              0.3333333333333333,
              "#9c179e"
             ],
             [
              0.4444444444444444,
              "#bd3786"
             ],
             [
              0.5555555555555556,
              "#d8576b"
             ],
             [
              0.6666666666666666,
              "#ed7953"
             ],
             [
              0.7777777777777778,
              "#fb9f3a"
             ],
             [
              0.8888888888888888,
              "#fdca26"
             ],
             [
              1,
              "#f0f921"
             ]
            ],
            "type": "histogram2dcontour"
           }
          ],
          "mesh3d": [
           {
            "colorbar": {
             "outlinewidth": 0,
             "ticks": ""
            },
            "type": "mesh3d"
           }
          ],
          "parcoords": [
           {
            "line": {
             "colorbar": {
              "outlinewidth": 0,
              "ticks": ""
             }
            },
            "type": "parcoords"
           }
          ],
          "pie": [
           {
            "automargin": true,
            "type": "pie"
           }
          ],
          "scatter": [
           {
            "marker": {
             "colorbar": {
              "outlinewidth": 0,
              "ticks": ""
             }
            },
            "type": "scatter"
           }
          ],
          "scatter3d": [
           {
            "line": {
             "colorbar": {
              "outlinewidth": 0,
              "ticks": ""
             }
            },
            "marker": {
             "colorbar": {
              "outlinewidth": 0,
              "ticks": ""
             }
            },
            "type": "scatter3d"
           }
          ],
          "scattercarpet": [
           {
            "marker": {
             "colorbar": {
              "outlinewidth": 0,
              "ticks": ""
             }
            },
            "type": "scattercarpet"
           }
          ],
          "scattergeo": [
           {
            "marker": {
             "colorbar": {
              "outlinewidth": 0,
              "ticks": ""
             }
            },
            "type": "scattergeo"
           }
          ],
          "scattergl": [
           {
            "marker": {
             "colorbar": {
              "outlinewidth": 0,
              "ticks": ""
             }
            },
            "type": "scattergl"
           }
          ],
          "scattermapbox": [
           {
            "marker": {
             "colorbar": {
              "outlinewidth": 0,
              "ticks": ""
             }
            },
            "type": "scattermapbox"
           }
          ],
          "scatterpolar": [
           {
            "marker": {
             "colorbar": {
              "outlinewidth": 0,
              "ticks": ""
             }
            },
            "type": "scatterpolar"
           }
          ],
          "scatterpolargl": [
           {
            "marker": {
             "colorbar": {
              "outlinewidth": 0,
              "ticks": ""
             }
            },
            "type": "scatterpolargl"
           }
          ],
          "scatterternary": [
           {
            "marker": {
             "colorbar": {
              "outlinewidth": 0,
              "ticks": ""
             }
            },
            "type": "scatterternary"
           }
          ],
          "surface": [
           {
            "colorbar": {
             "outlinewidth": 0,
             "ticks": ""
            },
            "colorscale": [
             [
              0,
              "#0d0887"
             ],
             [
              0.1111111111111111,
              "#46039f"
             ],
             [
              0.2222222222222222,
              "#7201a8"
             ],
             [
              0.3333333333333333,
              "#9c179e"
             ],
             [
              0.4444444444444444,
              "#bd3786"
             ],
             [
              0.5555555555555556,
              "#d8576b"
             ],
             [
              0.6666666666666666,
              "#ed7953"
             ],
             [
              0.7777777777777778,
              "#fb9f3a"
             ],
             [
              0.8888888888888888,
              "#fdca26"
             ],
             [
              1,
              "#f0f921"
             ]
            ],
            "type": "surface"
           }
          ],
          "table": [
           {
            "cells": {
             "fill": {
              "color": "#EBF0F8"
             },
             "line": {
              "color": "white"
             }
            },
            "header": {
             "fill": {
              "color": "#C8D4E3"
             },
             "line": {
              "color": "white"
             }
            },
            "type": "table"
           }
          ]
         },
         "layout": {
          "annotationdefaults": {
           "arrowcolor": "#2a3f5f",
           "arrowhead": 0,
           "arrowwidth": 1
          },
          "autotypenumbers": "strict",
          "coloraxis": {
           "colorbar": {
            "outlinewidth": 0,
            "ticks": ""
           }
          },
          "colorscale": {
           "diverging": [
            [
             0,
             "#8e0152"
            ],
            [
             0.1,
             "#c51b7d"
            ],
            [
             0.2,
             "#de77ae"
            ],
            [
             0.3,
             "#f1b6da"
            ],
            [
             0.4,
             "#fde0ef"
            ],
            [
             0.5,
             "#f7f7f7"
            ],
            [
             0.6,
             "#e6f5d0"
            ],
            [
             0.7,
             "#b8e186"
            ],
            [
             0.8,
             "#7fbc41"
            ],
            [
             0.9,
             "#4d9221"
            ],
            [
             1,
             "#276419"
            ]
           ],
           "sequential": [
            [
             0,
             "#0d0887"
            ],
            [
             0.1111111111111111,
             "#46039f"
            ],
            [
             0.2222222222222222,
             "#7201a8"
            ],
            [
             0.3333333333333333,
             "#9c179e"
            ],
            [
             0.4444444444444444,
             "#bd3786"
            ],
            [
             0.5555555555555556,
             "#d8576b"
            ],
            [
             0.6666666666666666,
             "#ed7953"
            ],
            [
             0.7777777777777778,
             "#fb9f3a"
            ],
            [
             0.8888888888888888,
             "#fdca26"
            ],
            [
             1,
             "#f0f921"
            ]
           ],
           "sequentialminus": [
            [
             0,
             "#0d0887"
            ],
            [
             0.1111111111111111,
             "#46039f"
            ],
            [
             0.2222222222222222,
             "#7201a8"
            ],
            [
             0.3333333333333333,
             "#9c179e"
            ],
            [
             0.4444444444444444,
             "#bd3786"
            ],
            [
             0.5555555555555556,
             "#d8576b"
            ],
            [
             0.6666666666666666,
             "#ed7953"
            ],
            [
             0.7777777777777778,
             "#fb9f3a"
            ],
            [
             0.8888888888888888,
             "#fdca26"
            ],
            [
             1,
             "#f0f921"
            ]
           ]
          },
          "colorway": [
           "#636efa",
           "#EF553B",
           "#00cc96",
           "#ab63fa",
           "#FFA15A",
           "#19d3f3",
           "#FF6692",
           "#B6E880",
           "#FF97FF",
           "#FECB52"
          ],
          "font": {
           "color": "#2a3f5f"
          },
          "geo": {
           "bgcolor": "white",
           "lakecolor": "white",
           "landcolor": "#E5ECF6",
           "showlakes": true,
           "showland": true,
           "subunitcolor": "white"
          },
          "hoverlabel": {
           "align": "left"
          },
          "hovermode": "closest",
          "mapbox": {
           "style": "light"
          },
          "paper_bgcolor": "white",
          "plot_bgcolor": "#E5ECF6",
          "polar": {
           "angularaxis": {
            "gridcolor": "white",
            "linecolor": "white",
            "ticks": ""
           },
           "bgcolor": "#E5ECF6",
           "radialaxis": {
            "gridcolor": "white",
            "linecolor": "white",
            "ticks": ""
           }
          },
          "scene": {
           "xaxis": {
            "backgroundcolor": "#E5ECF6",
            "gridcolor": "white",
            "gridwidth": 2,
            "linecolor": "white",
            "showbackground": true,
            "ticks": "",
            "zerolinecolor": "white"
           },
           "yaxis": {
            "backgroundcolor": "#E5ECF6",
            "gridcolor": "white",
            "gridwidth": 2,
            "linecolor": "white",
            "showbackground": true,
            "ticks": "",
            "zerolinecolor": "white"
           },
           "zaxis": {
            "backgroundcolor": "#E5ECF6",
            "gridcolor": "white",
            "gridwidth": 2,
            "linecolor": "white",
            "showbackground": true,
            "ticks": "",
            "zerolinecolor": "white"
           }
          },
          "shapedefaults": {
           "line": {
            "color": "#2a3f5f"
           }
          },
          "ternary": {
           "aaxis": {
            "gridcolor": "white",
            "linecolor": "white",
            "ticks": ""
           },
           "baxis": {
            "gridcolor": "white",
            "linecolor": "white",
            "ticks": ""
           },
           "bgcolor": "#E5ECF6",
           "caxis": {
            "gridcolor": "white",
            "linecolor": "white",
            "ticks": ""
           }
          },
          "title": {
           "x": 0.05
          },
          "xaxis": {
           "automargin": true,
           "gridcolor": "white",
           "linecolor": "white",
           "ticks": "",
           "title": {
            "standoff": 15
           },
           "zerolinecolor": "white",
           "zerolinewidth": 2
          },
          "yaxis": {
           "automargin": true,
           "gridcolor": "white",
           "linecolor": "white",
           "ticks": "",
           "title": {
            "standoff": 15
           },
           "zerolinecolor": "white",
           "zerolinewidth": 2
          }
         }
        },
        "width": 600,
        "xaxis": {
         "autorange": true,
         "gridwidth": 1,
         "range": [
          -319.67584544645507,
          4120.625845446455
         ],
         "tickfont": {
          "size": 18
         },
         "title": {
          "font": {
           "size": 24
          },
          "text": "Melting Temperature (K)"
         },
         "type": "linear",
         "zeroline": false
        },
        "yaxis": {
         "autorange": true,
         "gridwidth": 1,
         "range": [
          -7.088349514563107e-06,
          0.0001296883495145631
         ],
         "tickfont": {
          "size": 18
         },
         "title": {
          "font": {
           "size": 24
          },
          "text": "Coefficient of Linear Thermal Expansion (K<sup>-1</sup>)"
         },
         "type": "linear",
         "zeroline": false
        }
       }
      },
      "image/png": "[encoded data removed]",
      "text/html": [
       "<div>                            <div id=\"44c1527d-997c-4399-8ffe-c9c8699f9520\" class=\"plotly-graph-div\" style=\"height:600px; width:600px;\"></div>            <script type=\"text/javascript\">                require([\"plotly\"], function(Plotly) {                    window.PLOTLYENV=window.PLOTLYENV || {};                                    if (document.getElementById(\"44c1527d-997c-4399-8ffe-c9c8699f9520\")) {                    Plotly.newPlot(                        \"44c1527d-997c-4399-8ffe-c9c8699f9520\",                        [{\"marker\":{\"color\":[\"lightgray\",\"lightgray\",\"blue\",\"yellow\",\"lightgray\",\"lightgray\",\"lightgray\",\"lightgray\",\"lightgray\",\"lightgray\",\"blue\",\"yellow\",\"red\",\"lightgray\",\"blue\",\"lightgray\",\"lightgray\",\"lightgray\",\"blue\",\"yellow\",\"yellow\",\"yellow\",\"blue\",\"blue\",\"blue\",\"blue\",\"yellow\",\"red\",\"red\",\"yellow\",\"lightgray\",\"lightgray\",\"lightgray\",\"lightgray\",\"lightgray\",\"lightgray\",\"blue\",\"red\",\"yellow\",\"yellow\",\"blue\",\"blue\",\"yellow\",\"yellow\",\"red\",\"red\",\"red\",\"yellow\",\"lightgray\",\"lightgray\",\"lightgray\",\"lightgray\",\"lightgray\",\"lightgray\",\"blue\",\"blue\",\"yellow\",\"blue\",\"blue\",\"yellow\",\"yellow\",\"red\",\"red\",\"red\",\"lightgray\",\"yellow\",\"red\",\"lightgray\",\"lightgray\",\"lightgray\",\"lightgray\",\"lightgray\",\"lightgray\",\"lightgray\",\"blue\",\"yellow\",\"yellow\",\"yellow\",\"yellow\",\"yellow\",\"yellow\",\"red\",\"yellow\",\"lightgray\",\"red\",\"lightgray\",\"lightgray\",\"lightgray\",\"lightgray\"],\"line\":{\"width\":1},\"size\":14},\"mode\":\"markers\",\"showlegend\":false,\"text\":[\"H\",\"He\",\"Li\",\"Be\",\"B\",\"C\",\"N\",\"O\",\"F\",\"Ne\",\"Na\",\"Mg\",\"Al\",\"Si\",\"P\",\"S\",\"Cl\",\"Ar\",\"K\",\"Ca\",\"Sc\",\"Ti\",\"V\",\"Cr\",\"Mn\",\"Fe\",\"Co\",\"Ni\",\"Cu\",\"Zn\",\"Ga\",\"Ge\",\"As\",\"Se\",\"Br\",\"Kr\",\"Rb\",\"Sr\",\"Y\",\"Zr\",\"Nb\",\"Mo\",\"Tc\",\"Ru\",\"Rh\",\"Pd\",\"Ag\",\"Cd\",\"In\",\"Sn\",\"Sb\",\"Te\",\"I\",\"Xe\",\"Cs\",\"Ba\",\"Hf\",\"Ta\",\"W\",\"Re\",\"Os\",\"Ir\",\"Pt\",\"Au\",\"Hg\",\"Tl\",\"Pb\",\"Bi\",\"La\",\"Ce\",\"Pr\",\"Nd\",\"Pm\",\"Sm\",\"Eu\",\"Gd\",\"Tb\",\"Dy\",\"Ho\",\"Er\",\"Tm\",\"Yb\",\"Lu\",\"Ac\",\"Th\",\"Pa\",\"U\",\"Np\",\"Pu\"],\"x\":[14.01,0.95,453.69,1560.0,2349.0,3800.0,63.05,54.8,53.53,24.56,370.87,923.0,933.47,1687.0,317.3,388.36,171.6,83.8,336.53,1115.0,1814.0,1941.0,2183.0,2180.0,1519.0,1811.0,1768.0,1728.0,1357.77,692.68,302.91,1211.4,1090.0,494.0,265.8,115.79,312.46,1050.0,1799.0,2128.0,2750.0,2896.0,2430.0,2607.0,2237.0,1828.05,1234.93,594.22,429.75,505.08,903.78,722.66,386.85,161.4,301.59,1000.0,2506.0,3290.0,3695.0,3459.0,3306.0,2739.0,2041.4,1337.33,234.32,577.0,600.61,544.4,1193.0,1068.0,1208.0,1297.0,1373.0,1345.0,1099.0,1585.0,1629.0,1680.0,1734.0,1802.0,1818.0,1097.0,1925.0,1323.0,2115.0,1841.0,1405.3,910.0,912.5],\"y\":[null,null,4.6e-05,1.13e-05,6e-06,7.1e-06,null,null,null,null,7.1e-05,8.2e-06,2.31e-05,2.6e-06,null,null,null,null,null,2.23e-05,1.02e-05,8.6e-06,8.4e-06,4.9e-06,2.17e-05,1.18e-05,1.3e-05,1.34e-05,1.65e-05,3.02e-05,0.00012,6e-06,null,null,null,null,null,2.25e-05,1.06e-05,5.7e-06,7.3e-06,4.8e-06,null,6.4e-06,8.2e-06,1.18e-05,1.89e-05,3.08e-05,3.21e-05,2.2e-05,1.1e-05,null,null,null,null,2.06e-05,5.9e-06,6.3e-06,4.5e-06,6.2e-06,5.1e-06,6.4e-06,8.8e-06,1.42e-05,null,2.99e-05,2.89e-05,1.34e-05,1.21e-05,6.3e-06,6.7e-06,9.6e-06,1.1e-05,1.27e-05,3.5e-05,9.4e-06,1.03e-05,9.9e-06,1.12e-05,1.22e-05,1.33e-05,2.63e-05,9.9e-06,null,1.1e-05,null,1.39e-05,null,null],\"type\":\"scatter\"},{\"marker\":{\"color\":\"red\",\"line\":{\"width\":1},\"size\":14},\"mode\":\"markers\",\"name\":\"FCC\",\"x\":[null],\"y\":[null],\"type\":\"scatter\"},{\"marker\":{\"color\":\"blue\",\"line\":{\"width\":1},\"size\":14},\"mode\":\"markers\",\"name\":\"BCC\",\"x\":[null],\"y\":[null],\"type\":\"scatter\"},{\"marker\":{\"color\":\"yellow\",\"line\":{\"width\":1},\"size\":14},\"mode\":\"markers\",\"name\":\"HCP\",\"x\":[null],\"y\":[null],\"type\":\"scatter\"}],                        {\"height\":600,\"hovermode\":\"closest\",\"legend\":{\"font\":{\"size\":24}},\"showlegend\":true,\"template\":{\"data\":{\"barpolar\":[{\"marker\":{\"line\":{\"color\":\"#E5ECF6\",\"width\":0.5},\"pattern\":{\"fillmode\":\"overlay\",\"size\":10,\"solidity\":0.2}},\"type\":\"barpolar\"}],\"bar\":[{\"error_x\":{\"color\":\"#2a3f5f\"},\"error_y\":{\"color\":\"#2a3f5f\"},\"marker\":{\"line\":{\"color\":\"#E5ECF6\",\"width\":0.5},\"pattern\":{\"fillmode\":\"overlay\",\"size\":10,\"solidity\":0.2}},\"type\":\"bar\"}],\"carpet\":[{\"aaxis\":{\"endlinecolor\":\"#2a3f5f\",\"gridcolor\":\"white\",\"linecolor\":\"white\",\"minorgridcolor\":\"white\",\"startlinecolor\":\"#2a3f5f\"},\"baxis\":{\"endlinecolor\":\"#2a3f5f\",\"gridcolor\":\"white\",\"linecolor\":\"white\",\"minorgridcolor\":\"white\",\"startlinecolor\":\"#2a3f5f\"},\"type\":\"carpet\"}],\"choropleth\":[{\"colorbar\":{\"outlinewidth\":0,\"ticks\":\"\"},\"type\":\"choropleth\"}],\"contourcarpet\":[{\"colorbar\":{\"outlinewidth\":0,\"ticks\":\"\"},\"type\":\"contourcarpet\"}],\"contour\":[{\"colorbar\":{\"outlinewidth\":0,\"ticks\":\"\"},\"colorscale\":[[0.0,\"#0d0887\"],[0.1111111111111111,\"#46039f\"],[0.2222222222222222,\"#7201a8\"],[0.3333333333333333,\"#9c179e\"],[0.4444444444444444,\"#bd3786\"],[0.5555555555555556,\"#d8576b\"],[0.6666666666666666,\"#ed7953\"],[0.7777777777777778,\"#fb9f3a\"],[0.8888888888888888,\"#fdca26\"],[1.0,\"#f0f921\"]],\"type\":\"contour\"}],\"heatmapgl\":[{\"colorbar\":{\"outlinewidth\":0,\"ticks\":\"\"},\"colorscale\":[[0.0,\"#0d0887\"],[0.1111111111111111,\"#46039f\"],[0.2222222222222222,\"#7201a8\"],[0.3333333333333333,\"#9c179e\"],[0.4444444444444444,\"#bd3786\"],[0.5555555555555556,\"#d8576b\"],[0.6666666666666666,\"#ed7953\"],[0.7777777777777778,\"#fb9f3a\"],[0.8888888888888888,\"#fdca26\"],[1.0,\"#f0f921\"]],\"type\":\"heatmapgl\"}],\"heatmap\":[{\"colorbar\":{\"outlinewidth\":0,\"ticks\":\"\"},\"colorscale\":[[0.0,\"#0d0887\"],[0.1111111111111111,\"#46039f\"],[0.2222222222222222,\"#7201a8\"],[0.3333333333333333,\"#9c179e\"],[0.4444444444444444,\"#bd3786\"],[0.5555555555555556,\"#d8576b\"],[0.6666666666666666,\"#ed7953\"],[0.7777777777777778,\"#fb9f3a\"],[0.8888888888888888,\"#fdca26\"],[1.0,\"#f0f921\"]],\"type\":\"heatmap\"}],\"histogram2dcontour\":[{\"colorbar\":{\"outlinewidth\":0,\"ticks\":\"\"},\"colorscale\":[[0.0,\"#0d0887\"],[0.1111111111111111,\"#46039f\"],[0.2222222222222222,\"#7201a8\"],[0.3333333333333333,\"#9c179e\"],[0.4444444444444444,\"#bd3786\"],[0.5555555555555556,\"#d8576b\"],[0.6666666666666666,\"#ed7953\"],[0.7777777777777778,\"#fb9f3a\"],[0.8888888888888888,\"#fdca26\"],[1.0,\"#f0f921\"]],\"type\":\"histogram2dcontour\"}],\"histogram2d\":[{\"colorbar\":{\"outlinewidth\":0,\"ticks\":\"\"},\"colorscale\":[[0.0,\"#0d0887\"],[0.1111111111111111,\"#46039f\"],[0.2222222222222222,\"#7201a8\"],[0.3333333333333333,\"#9c179e\"],[0.4444444444444444,\"#bd3786\"],[0.5555555555555556,\"#d8576b\"],[0.6666666666666666,\"#ed7953\"],[0.7777777777777778,\"#fb9f3a\"],[0.8888888888888888,\"#fdca26\"],[1.0,\"#f0f921\"]],\"type\":\"histogram2d\"}],\"histogram\":[{\"marker\":{\"pattern\":{\"fillmode\":\"overlay\",\"size\":10,\"solidity\":0.2}},\"type\":\"histogram\"}],\"mesh3d\":[{\"colorbar\":{\"outlinewidth\":0,\"ticks\":\"\"},\"type\":\"mesh3d\"}],\"parcoords\":[{\"line\":{\"colorbar\":{\"outlinewidth\":0,\"ticks\":\"\"}},\"type\":\"parcoords\"}],\"pie\":[{\"automargin\":true,\"type\":\"pie\"}],\"scatter3d\":[{\"line\":{\"colorbar\":{\"outlinewidth\":0,\"ticks\":\"\"}},\"marker\":{\"colorbar\":{\"outlinewidth\":0,\"ticks\":\"\"}},\"type\":\"scatter3d\"}],\"scattercarpet\":[{\"marker\":{\"colorbar\":{\"outlinewidth\":0,\"ticks\":\"\"}},\"type\":\"scattercarpet\"}],\"scattergeo\":[{\"marker\":{\"colorbar\":{\"outlinewidth\":0,\"ticks\":\"\"}},\"type\":\"scattergeo\"}],\"scattergl\":[{\"marker\":{\"colorbar\":{\"outlinewidth\":0,\"ticks\":\"\"}},\"type\":\"scattergl\"}],\"scattermapbox\":[{\"marker\":{\"colorbar\":{\"outlinewidth\":0,\"ticks\":\"\"}},\"type\":\"scattermapbox\"}],\"scatterpolargl\":[{\"marker\":{\"colorbar\":{\"outlinewidth\":0,\"ticks\":\"\"}},\"type\":\"scatterpolargl\"}],\"scatterpolar\":[{\"marker\":{\"colorbar\":{\"outlinewidth\":0,\"ticks\":\"\"}},\"type\":\"scatterpolar\"}],\"scatter\":[{\"marker\":{\"colorbar\":{\"outlinewidth\":0,\"ticks\":\"\"}},\"type\":\"scatter\"}],\"scatterternary\":[{\"marker\":{\"colorbar\":{\"outlinewidth\":0,\"ticks\":\"\"}},\"type\":\"scatterternary\"}],\"surface\":[{\"colorbar\":{\"outlinewidth\":0,\"ticks\":\"\"},\"colorscale\":[[0.0,\"#0d0887\"],[0.1111111111111111,\"#46039f\"],[0.2222222222222222,\"#7201a8\"],[0.3333333333333333,\"#9c179e\"],[0.4444444444444444,\"#bd3786\"],[0.5555555555555556,\"#d8576b\"],[0.6666666666666666,\"#ed7953\"],[0.7777777777777778,\"#fb9f3a\"],[0.8888888888888888,\"#fdca26\"],[1.0,\"#f0f921\"]],\"type\":\"surface\"}],\"table\":[{\"cells\":{\"fill\":{\"color\":\"#EBF0F8\"},\"line\":{\"color\":\"white\"}},\"header\":{\"fill\":{\"color\":\"#C8D4E3\"},\"line\":{\"color\":\"white\"}},\"type\":\"table\"}]},\"layout\":{\"annotationdefaults\":{\"arrowcolor\":\"#2a3f5f\",\"arrowhead\":0,\"arrowwidth\":1},\"autotypenumbers\":\"strict\",\"coloraxis\":{\"colorbar\":{\"outlinewidth\":0,\"ticks\":\"\"}},\"colorscale\":{\"diverging\":[[0,\"#8e0152\"],[0.1,\"#c51b7d\"],[0.2,\"#de77ae\"],[0.3,\"#f1b6da\"],[0.4,\"#fde0ef\"],[0.5,\"#f7f7f7\"],[0.6,\"#e6f5d0\"],[0.7,\"#b8e186\"],[0.8,\"#7fbc41\"],[0.9,\"#4d9221\"],[1,\"#276419\"]],\"sequential\":[[0.0,\"#0d0887\"],[0.1111111111111111,\"#46039f\"],[0.2222222222222222,\"#7201a8\"],[0.3333333333333333,\"#9c179e\"],[0.4444444444444444,\"#bd3786\"],[0.5555555555555556,\"#d8576b\"],[0.6666666666666666,\"#ed7953\"],[0.7777777777777778,\"#fb9f3a\"],[0.8888888888888888,\"#fdca26\"],[1.0,\"#f0f921\"]],\"sequentialminus\":[[0.0,\"#0d0887\"],[0.1111111111111111,\"#46039f\"],[0.2222222222222222,\"#7201a8\"],[0.3333333333333333,\"#9c179e\"],[0.4444444444444444,\"#bd3786\"],[0.5555555555555556,\"#d8576b\"],[0.6666666666666666,\"#ed7953\"],[0.7777777777777778,\"#fb9f3a\"],[0.8888888888888888,\"#fdca26\"],[1.0,\"#f0f921\"]]},\"colorway\":[\"#636efa\",\"#EF553B\",\"#00cc96\",\"#ab63fa\",\"#FFA15A\",\"#19d3f3\",\"#FF6692\",\"#B6E880\",\"#FF97FF\",\"#FECB52\"],\"font\":{\"color\":\"#2a3f5f\"},\"geo\":{\"bgcolor\":\"white\",\"lakecolor\":\"white\",\"landcolor\":\"#E5ECF6\",\"showlakes\":true,\"showland\":true,\"subunitcolor\":\"white\"},\"hoverlabel\":{\"align\":\"left\"},\"hovermode\":\"closest\",\"mapbox\":{\"style\":\"light\"},\"paper_bgcolor\":\"white\",\"plot_bgcolor\":\"#E5ECF6\",\"polar\":{\"angularaxis\":{\"gridcolor\":\"white\",\"linecolor\":\"white\",\"ticks\":\"\"},\"bgcolor\":\"#E5ECF6\",\"radialaxis\":{\"gridcolor\":\"white\",\"linecolor\":\"white\",\"ticks\":\"\"}},\"scene\":{\"xaxis\":{\"backgroundcolor\":\"#E5ECF6\",\"gridcolor\":\"white\",\"gridwidth\":2,\"linecolor\":\"white\",\"showbackground\":true,\"ticks\":\"\",\"zerolinecolor\":\"white\"},\"yaxis\":{\"backgroundcolor\":\"#E5ECF6\",\"gridcolor\":\"white\",\"gridwidth\":2,\"linecolor\":\"white\",\"showbackground\":true,\"ticks\":\"\",\"zerolinecolor\":\"white\"},\"zaxis\":{\"backgroundcolor\":\"#E5ECF6\",\"gridcolor\":\"white\",\"gridwidth\":2,\"linecolor\":\"white\",\"showbackground\":true,\"ticks\":\"\",\"zerolinecolor\":\"white\"}},\"shapedefaults\":{\"line\":{\"color\":\"#2a3f5f\"}},\"ternary\":{\"aaxis\":{\"gridcolor\":\"white\",\"linecolor\":\"white\",\"ticks\":\"\"},\"baxis\":{\"gridcolor\":\"white\",\"linecolor\":\"white\",\"ticks\":\"\"},\"bgcolor\":\"#E5ECF6\",\"caxis\":{\"gridcolor\":\"white\",\"linecolor\":\"white\",\"ticks\":\"\"}},\"title\":{\"x\":0.05},\"xaxis\":{\"automargin\":true,\"gridcolor\":\"white\",\"linecolor\":\"white\",\"ticks\":\"\",\"title\":{\"standoff\":15},\"zerolinecolor\":\"white\",\"zerolinewidth\":2},\"yaxis\":{\"automargin\":true,\"gridcolor\":\"white\",\"linecolor\":\"white\",\"ticks\":\"\",\"title\":{\"standoff\":15},\"zerolinecolor\":\"white\",\"zerolinewidth\":2}}},\"width\":600,\"xaxis\":{\"gridwidth\":1,\"tickfont\":{\"size\":18},\"title\":{\"font\":{\"size\":24},\"text\":\"Melting Temperature (K)\"},\"zeroline\":false},\"yaxis\":{\"gridwidth\":1,\"tickfont\":{\"size\":18},\"title\":{\"font\":{\"size\":24},\"text\":\"Coefficient of Linear Thermal Expansion (K<sup>-1</sup>)\"},\"zeroline\":false}},                        {\"responsive\": true}                    ).then(function(){\n",
       "                            \n",
       "var gd = document.getElementById('44c1527d-997c-4399-8ffe-c9c8699f9520');\n",
       "var x = new MutationObserver(function (mutations, observer) {{\n",
       "        var display = window.getComputedStyle(gd).display;\n",
       "        if (!display || display === 'none') {{\n",
       "            console.log([gd, 'removed!']);\n",
       "            Plotly.purge(gd);\n",
       "            observer.disconnect();\n",
       "        }}\n",
       "}});\n",
       "\n",
       "// Listen for the removal of the full notebook cells\n",
       "var notebookContainer = gd.closest('#notebook-container');\n",
       "if (notebookContainer) {{\n",
       "    x.observe(notebookContainer, {childList: true});\n",
       "}}\n",
       "\n",
       "// Listen for the clearing of the current output cell\n",
       "var outputEl = gd.closest('.output');\n",
       "if (outputEl) {{\n",
       "    x.observe(outputEl, {childList: true});\n",
       "}}\n",
       "\n",
       "                        })                };                });            </script>        </div>"
      ]
     },
     "metadata": {},
     "output_type": "display_data"
    }
   ],
   "source": [
    "layout0= go.Layout(hovermode= 'closest', width = 600, height=600, showlegend=True,  # Hovermode establishes the way the labels that appear when you hover are arranged # Establishing a square plot width=height\n",
    "    xaxis= dict(title=go.layout.xaxis.Title(text='Melting Temperature (K)', font=dict(size=24)), zeroline= False, gridwidth= 1, tickfont=dict(size=18)), # Axis Titles. Removing the X-axis Mark. Adding a Grid\n",
    "    yaxis= dict(title=go.layout.yaxis.Title(text='Coefficient of Linear Thermal Expansion (K<sup>-1</sup>)', font=dict(size=24)), zeroline= False, gridwidth= 1, tickfont=dict(size=18)), # Axis Titles. Removing the Y-axis Mark. Adding a Grid\n",
    "    legend=dict(font=dict(size=24))) # Adding a legend\n",
    "\n",
    "# Trace\n",
    "\n",
    "trace0 = go.Scatter(x = melting_temperature,y = CTE, mode = 'markers',\n",
    "    marker= dict(size= 14, line= dict(width=1), color=colors), # We add a size, a border and our custom colors to the markers\n",
    "    text= sample, # This attribute (Text) labels each point to this list, which contains our elements in the same indexes as our properties\n",
    "showlegend = False)\n",
    "\n",
    "\n",
    "# Empty Traces for Legend\n",
    "legend_plot_FCC = go.Scatter(x=[None], y=[None], mode='markers', marker=dict(size=14,  line= dict(width=1),color='red'), name = 'FCC')\n",
    "legend_plot_BCC = go.Scatter(x=[None], y=[None], mode='markers', marker=dict(size=14,  line= dict(width=1),color='blue'), name = 'BCC')\n",
    "legend_plot_HCP = go.Scatter(x=[None], y=[None], mode='markers', marker=dict(size=14,  line= dict(width=1),color='yellow'), name = 'HCP')\n",
    "\n",
    "\n",
    "data = [trace0, legend_plot_FCC, legend_plot_BCC, legend_plot_HCP]\n",
    "\n",
    "fig= go.Figure(data, layout=layout0)\n",
    "iplot(fig)"
   ]
  },
  {
   "cell_type": "markdown",
   "id": "5693f3ea-2869-42a7-94cb-4ff1717549ab",
   "metadata": {},
   "source": [
    "* <font color=blue> **Exercise 4.** Do you find correlations between the properties plotted? If so, what are the underlying reasons for them? </font>\n",
    " * <font color=blue> **Exercise 5.** Select a different pair or properties and create a similar plot. You can insert new cells below from the top menu (Insert -> Cell below) and copy and paste the code to create new plots.  </font>"
   ]
  },
  {
   "cell_type": "markdown",
   "id": "53b1f96c-3f19-43ec-95a7-2da1c3d46003",
   "metadata": {},
   "source": [
    "### 4. Query from Mendeleev\n",
    "\n",
    "Another database we can query in a similar way is Mendeleev. Mendeleev is an API (Application programming interface) dedicated library to provide access to element properties in the periodic table. Just as Pymatgen, Mendeleev also uses an object and attributes to handle a query. Mendeleev uses the **element** class (Note that is all lowercase). \n",
    "\n",
    "Making a query in Mendeleev can be done either by using the chemical symbol the same way Pymatgen does, or by providing the atomic number of the elements. Similarly, you can get a property by using it as an attribute for the object. Again, not all properties that you can query are listed here, but you can find them [here](https://mendeleev.readthedocs.io/en/stable/data.html). Note that there Mendeleev does not provide units when returning values, but you can find them in the previous link too. \n",
    "\n",
    "In this example we will query the thermal conductivity for the elements in the list \"sample\".\n",
    "\n",
    "With a little bit of programming experience in Python you can again use the commented code to query all the properties listed for the \"sample\" elements."
   ]
  },
  {
   "cell_type": "code",
   "execution_count": 14,
   "id": "9a377151-e955-4b3f-908f-ecde4855ee43",
   "metadata": {
    "execution": {
     "iopub.execute_input": "2023-08-02T17:46:34.641621Z",
     "iopub.status.busy": "2023-08-02T17:46:34.640385Z",
     "iopub.status.idle": "2023-08-02T17:46:36.353415Z",
     "shell.execute_reply": "2023-08-02T17:46:36.351637Z",
     "shell.execute_reply.started": "2023-08-02T17:46:34.641498Z"
    }
   },
   "outputs": [
    {
     "name": "stdout",
     "output_type": "stream",
     "text": [
      "Fe 80.4\n",
      "Co 100.0\n",
      "Ni 90.9\n",
      "Cu 401.0\n",
      "Zn 116.0\n"
     ]
    }
   ],
   "source": [
    "querable_mendeleev = [\"atomic_number\", \"atomic_volume\", \"boiling_point\", \"electron_affinity\", \"en_allen\", \"en_pauling\", \"econf\", \"evaporation_heat\", \"fusion_heat\", \"heat_of_formation\",\n",
    "                     \"lattice_constant\", \"melting_point\", \"specific_heat\", \"thermal_conductivity\"]\n",
    "    \n",
    "# You can get the same results using either of these two lists (Numbers correspond to the element's atomic number)\n",
    "sample = ['Fe', 'Co', 'Ni', 'Cu', 'Zn']\n",
    "#sample = [26,27,28,29,30]\n",
    "    \n",
    "for item in sample:    \n",
    "    element_object = mendel.element(item)\n",
    "    print(item, element_object.thermal_conductivity) # You can put any of the properties in the querable_mendeleev list\n",
    "    \n",
    "#for item in sample:\n",
    "#    for i in querable_mendeleev:\n",
    "#        element_object = mendel.element(item)\n",
    "#        print(item, i, getattr(element_object,i))"
   ]
  },
  {
   "cell_type": "code",
   "execution_count": null,
   "id": "e66c927b-c44c-4d86-b86a-38c0c5da0772",
   "metadata": {},
   "outputs": [],
   "source": []
  },
  {
   "cell_type": "code",
   "execution_count": null,
   "id": "e7ac87bc-6ef6-4575-9356-2834673f4d55",
   "metadata": {},
   "outputs": [],
   "source": []
  }
 ],
 "metadata": {
  "kernelspec": {
   "display_name": "Python 3.9 (py39)",
   "language": "python",
   "name": "py39"
  },
  "language_info": {
   "codemirror_mode": {
    "name": "ipython",
    "version": 3
   },
   "file_extension": ".py",
   "mimetype": "text/x-python",
   "name": "python",
   "nbconvert_exporter": "python",
   "pygments_lexer": "ipython3",
   "version": "3.9.7"
  }
 },
 "nbformat": 4,
 "nbformat_minor": 5
}
