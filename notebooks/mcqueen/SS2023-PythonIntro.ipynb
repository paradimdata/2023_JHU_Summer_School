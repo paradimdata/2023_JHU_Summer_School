{
 "cells": [
  {
   "cell_type": "code",
   "execution_count": 2,
   "metadata": {},
   "outputs": [],
   "source": [
    "import numpy as np"
   ]
  },
  {
   "cell_type": "code",
   "execution_count": 3,
   "metadata": {},
   "outputs": [],
   "source": [
    "img0 = [[0,1,2],\n",
    "        [3,4,5],\n",
    "        [6,7,8]]"
   ]
  },
  {
   "cell_type": "code",
   "execution_count": 4,
   "metadata": {},
   "outputs": [],
   "source": [
    "img0arr = np.array(img0)"
   ]
  },
  {
   "cell_type": "code",
   "execution_count": 5,
   "metadata": {},
   "outputs": [
    {
     "name": "stdout",
     "output_type": "stream",
     "text": [
      "[[0, 1, 2], [3, 4, 5], [6, 7, 8]] [[0 1 2]\n",
      " [3 4 5]\n",
      " [6 7 8]]\n"
     ]
    }
   ],
   "source": [
    "print(img0,img0arr)"
   ]
  },
  {
   "cell_type": "code",
   "execution_count": 6,
   "metadata": {},
   "outputs": [
    {
     "name": "stdout",
     "output_type": "stream",
     "text": [
      "<class 'list'>\n"
     ]
    }
   ],
   "source": [
    "print(type(img0))"
   ]
  },
  {
   "cell_type": "code",
   "execution_count": 7,
   "metadata": {},
   "outputs": [
    {
     "name": "stdout",
     "output_type": "stream",
     "text": [
      "<class 'numpy.ndarray'>\n"
     ]
    }
   ],
   "source": [
    "print(type(img0arr))"
   ]
  },
  {
   "cell_type": "code",
   "execution_count": 8,
   "metadata": {},
   "outputs": [
    {
     "name": "stdout",
     "output_type": "stream",
     "text": [
      "3\n"
     ]
    }
   ],
   "source": [
    "print(len(img0))"
   ]
  },
  {
   "cell_type": "code",
   "execution_count": 9,
   "metadata": {},
   "outputs": [
    {
     "name": "stdout",
     "output_type": "stream",
     "text": [
      "(3, 3)\n"
     ]
    }
   ],
   "source": [
    "print(img0arr.shape)"
   ]
  },
  {
   "cell_type": "code",
   "execution_count": 10,
   "metadata": {},
   "outputs": [
    {
     "name": "stdout",
     "output_type": "stream",
     "text": [
      "[[0, 1, 2], [3, 4, 5], [6, 7, 8], [0, 1, 2], [3, 4, 5], [6, 7, 8], [0, 1, 2], [3, 4, 5], [6, 7, 8], [0, 1, 2], [3, 4, 5], [6, 7, 8], [0, 1, 2], [3, 4, 5], [6, 7, 8], [0, 1, 2], [3, 4, 5], [6, 7, 8], [0, 1, 2], [3, 4, 5], [6, 7, 8], [0, 1, 2], [3, 4, 5], [6, 7, 8], [0, 1, 2], [3, 4, 5], [6, 7, 8], [0, 1, 2], [3, 4, 5], [6, 7, 8], [0, 1, 2], [3, 4, 5], [6, 7, 8], [0, 1, 2], [3, 4, 5], [6, 7, 8], [0, 1, 2], [3, 4, 5], [6, 7, 8], [0, 1, 2], [3, 4, 5], [6, 7, 8], [0, 1, 2], [3, 4, 5], [6, 7, 8], [0, 1, 2], [3, 4, 5], [6, 7, 8], [0, 1, 2], [3, 4, 5], [6, 7, 8], [0, 1, 2], [3, 4, 5], [6, 7, 8], [0, 1, 2], [3, 4, 5], [6, 7, 8], [0, 1, 2], [3, 4, 5], [6, 7, 8], [0, 1, 2], [3, 4, 5], [6, 7, 8], [0, 1, 2], [3, 4, 5], [6, 7, 8], [0, 1, 2], [3, 4, 5], [6, 7, 8], [0, 1, 2], [3, 4, 5], [6, 7, 8], [0, 1, 2], [3, 4, 5], [6, 7, 8], [0, 1, 2], [3, 4, 5], [6, 7, 8], [0, 1, 2], [3, 4, 5], [6, 7, 8], [0, 1, 2], [3, 4, 5], [6, 7, 8], [0, 1, 2], [3, 4, 5], [6, 7, 8], [0, 1, 2], [3, 4, 5], [6, 7, 8]]\n"
     ]
    }
   ],
   "source": [
    "print(img0*30)"
   ]
  },
  {
   "cell_type": "code",
   "execution_count": 11,
   "metadata": {},
   "outputs": [
    {
     "name": "stdout",
     "output_type": "stream",
     "text": [
      "[[0, 1, 2], [3, 4, 5], [6, 7, 8], [0, 1, 2], [3, 4, 5], [6, 7, 8]]\n"
     ]
    }
   ],
   "source": [
    "print(img0+img0)"
   ]
  },
  {
   "cell_type": "code",
   "execution_count": 12,
   "metadata": {},
   "outputs": [
    {
     "name": "stdout",
     "output_type": "stream",
     "text": [
      "[[  0  30  60]\n",
      " [ 90 120 150]\n",
      " [180 210 240]]\n"
     ]
    }
   ],
   "source": [
    "print(img0arr*30)"
   ]
  },
  {
   "cell_type": "code",
   "execution_count": 13,
   "metadata": {},
   "outputs": [
    {
     "name": "stdout",
     "output_type": "stream",
     "text": [
      "[[ 0  2  4]\n",
      " [ 6  8 10]\n",
      " [12 14 16]]\n"
     ]
    }
   ],
   "source": [
    "print(img0arr+img0arr)"
   ]
  },
  {
   "cell_type": "code",
   "execution_count": 14,
   "metadata": {},
   "outputs": [
    {
     "name": "stdout",
     "output_type": "stream",
     "text": [
      "[[ 0  1  4]\n",
      " [ 9 16 25]\n",
      " [36 49 64]]\n"
     ]
    }
   ],
   "source": [
    "print(img0arr*img0arr)"
   ]
  },
  {
   "cell_type": "code",
   "execution_count": 17,
   "metadata": {},
   "outputs": [
    {
     "name": "stdout",
     "output_type": "stream",
     "text": [
      "[[45 54 63]\n",
      " [54 66 78]\n",
      " [63 78 93]]\n"
     ]
    }
   ],
   "source": [
    "print(np.matmul(img0arr.T,img0arr))"
   ]
  },
  {
   "cell_type": "code",
   "execution_count": 16,
   "metadata": {},
   "outputs": [
    {
     "name": "stdout",
     "output_type": "stream",
     "text": [
      "[[0 3 6]\n",
      " [1 4 7]\n",
      " [2 5 8]]\n"
     ]
    }
   ],
   "source": [
    "print(img0arr.T)"
   ]
  },
  {
   "cell_type": "code",
   "execution_count": 2,
   "metadata": {},
   "outputs": [
    {
     "ename": "ModuleNotFoundError",
     "evalue": "No module named 'pycifrw'",
     "output_type": "error",
     "traceback": [
      "\u001b[0;31m\u001b[0m",
      "\u001b[0;31mModuleNotFoundError\u001b[0mTraceback (most recent call last)",
      "\u001b[0;32m<ipython-input-2-e153d84f920c>\u001b[0m in \u001b[0;36m<module>\u001b[0;34m\u001b[0m\n\u001b[0;32m----> 1\u001b[0;31m \u001b[0;32mimport\u001b[0m \u001b[0mpycifrw\u001b[0m\u001b[0;34m\u001b[0m\u001b[0;34m\u001b[0m\u001b[0m\n\u001b[0m",
      "\u001b[0;31mModuleNotFoundError\u001b[0m: No module named 'pycifrw'"
     ]
    }
   ],
   "source": [
    "import pycifrw"
   ]
  },
  {
   "cell_type": "code",
   "execution_count": 19,
   "metadata": {},
   "outputs": [
    {
     "name": "stdout",
     "output_type": "stream",
     "text": [
      "Collecting PyCifRW\n",
      "  Downloading PyCifRW-4.4.3.tar.gz (1.1 MB)\n",
      "\u001b[K     |████████████████████████████████| 1.1 MB 10.7 MB/s eta 0:00:01[K     |███████████████████▎            | 645 kB 10.7 MB/s eta 0:00:01\n",
      "\u001b[?25hBuilding wheels for collected packages: PyCifRW\n",
      "  Building wheel for PyCifRW (setup.py) ... \u001b[?25ldone\n",
      "\u001b[?25h  Created wheel for PyCifRW: filename=PyCifRW-4.4.3-cp38-cp38-linux_x86_64.whl size=165110 sha256=ba431ee43180e1ecb083b30225e17a6d2c972585654cd3e0cd347e1583447aa0\n",
      "  Stored in directory: /home/idies/.cache/pip/wheels/d3/2a/90/c6700f618a0630c91b4c6d8ba6eb95fcc64369c5d94a27721b\n",
      "Successfully built PyCifRW\n",
      "Installing collected packages: PyCifRW\n",
      "Successfully installed PyCifRW-4.4.3\n",
      "Note: you may need to restart the kernel to use updated packages.\n"
     ]
    }
   ],
   "source": [
    "pip install PyCifRW"
   ]
  },
  {
   "cell_type": "code",
   "execution_count": 3,
   "metadata": {},
   "outputs": [],
   "source": [
    "from CifFile import ReadCif\n",
    "cf = ReadCif('P1-A.cif')"
   ]
  },
  {
   "cell_type": "code",
   "execution_count": 6,
   "metadata": {},
   "outputs": [
    {
     "name": "stdout",
     "output_type": "stream",
     "text": [
      "['generated_by_bilbao_crystallographic_server']\n"
     ]
    }
   ],
   "source": [
    "print(cf.keys())"
   ]
  },
  {
   "cell_type": "code",
   "execution_count": 11,
   "metadata": {},
   "outputs": [],
   "source": [
    "d1 = {'d1':56,'d2':[7,8,9],'d3':\"Hello\"}"
   ]
  },
  {
   "cell_type": "code",
   "execution_count": 12,
   "metadata": {},
   "outputs": [
    {
     "name": "stdout",
     "output_type": "stream",
     "text": [
      "dict_values([56, [7, 8, 9], 'Hello'])\n"
     ]
    }
   ],
   "source": [
    "print(d1.values())"
   ]
  },
  {
   "cell_type": "code",
   "execution_count": 13,
   "metadata": {},
   "outputs": [
    {
     "name": "stdout",
     "output_type": "stream",
     "text": [
      "\n",
      "_cell_length_a                          5.286316\n",
      "_cell_length_b                          5.286316\n",
      "_cell_length_c                          11.8353765\n",
      "_cell_angle_alpha                       90.000000\n",
      "_cell_angle_beta                        90.000000\n",
      "_cell_angle_gamma                       120.000000\n",
      "_symmetry_space_group_name_H-M          P1\n",
      "_symmetry_Int_Tables_number             1\n",
      "loop_\n",
      "  _symmetry_equiv_pos_site_id\n",
      "  _symmetry_equiv_pos_as_xyz\n",
      "         1         'x,y,z' \n",
      "loop_\n",
      "  _atom_site_label\n",
      "  _atom_site_type_symbol\n",
      "  _atom_site_fract_x\n",
      "  _atom_site_fract_y\n",
      "  _atom_site_fract_z\n",
      "         Na1       Na        0.33333   0         0         \n",
      "         Na1002    Na        0         0.33333   0         \n",
      "         Na1003    Na        0.66667   0.66667   0         \n",
      "         O1        O         0.33333   0.33333   0.1378    \n",
      "         O1002     O         0.66667   0         0.1378    \n",
      "         O1003     O         0         0.66667   0.1378    \n",
      "         Co2       Co        0.33333   0.66667   0.23362   \n",
      "         Te1       Te        0.66667   0.33333   0.23696   \n",
      "         Co1       Co        0         0         0.2386    \n",
      "         O2        O         0.33333   0         0.3204    \n",
      "         O2002     O         0         0.33333   0.3204    \n",
      "         O2003     O         0.66667   0.66667   0.3204    \n",
      "         K1        K         0.66667   0         0.5       \n",
      "         K1002     K         0         0.66667   0.5       \n",
      "         K1003     K         0.33333   0.33333   0.5       \n",
      "         K2        K         0         0         0.5       \n",
      "         K3        K         0.66667   0.33333   0.5       \n",
      "         K4        K         0.33333   0.66667   0.5       \n",
      "         O2004     O         0.33333   0         0.6796    \n",
      "         O2005     O         0         0.33333   0.6796    \n",
      "         O2006     O         0.66667   0.66667   0.6796    \n",
      "         Co1002    Co        0         0         0.7614    \n",
      "         Te1002    Te        0.66667   0.33333   0.76304   \n",
      "         Co2002    Co        0.33333   0.66667   0.76638   \n",
      "         O1004     O         0.33333   0.33333   0.8622    \n",
      "         O1005     O         0.66667   0         0.8622    \n",
      "         O1006     O         0         0.66667   0.8622 \n"
     ]
    }
   ],
   "source": [
    "print(cf['generated_by_bilbao_crystallographic_server'])"
   ]
  },
  {
   "cell_type": "code",
   "execution_count": null,
   "metadata": {},
   "outputs": [],
   "source": []
  }
 ],
 "metadata": {
  "kernelspec": {
   "display_name": "Python 3.8 (py38)",
   "language": "python",
   "name": "py38"
  },
  "language_info": {
   "codemirror_mode": {
    "name": "ipython",
    "version": 3
   },
   "file_extension": ".py",
   "mimetype": "text/x-python",
   "name": "python",
   "nbconvert_exporter": "python",
   "pygments_lexer": "ipython3",
   "version": "3.8.5"
  }
 },
 "nbformat": 4,
 "nbformat_minor": 4
}
